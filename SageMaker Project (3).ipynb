{
 "cells": [
  {
   "cell_type": "markdown",
   "metadata": {},
   "source": [
    "# Creating a Sentiment Analysis Web App\n",
    "## Using PyTorch and SageMaker\n",
    "\n",
    "_Deep Learning Nanodegree Program | Deployment_\n",
    "\n",
    "---\n",
    "\n",
    "Now that we have a basic understanding of how SageMaker works we will try to use it to construct a complete project from end to end. Our goal will be to have a simple web page which a user can use to enter a movie review. The web page will then send the review off to our deployed model which will predict the sentiment of the entered review.\n",
    "\n",
    "## Instructions\n",
    "\n",
    "Some template code has already been provided for you, and you will need to implement additional functionality to successfully complete this notebook. You will not need to modify the included code beyond what is requested. Sections that begin with '**TODO**' in the header indicate that you need to complete or implement some portion within them. Instructions will be provided for each section and the specifics of the implementation are marked in the code block with a `# TODO: ...` comment. Please be sure to read the instructions carefully!\n",
    "\n",
    "In addition to implementing code, there will be questions for you to answer which relate to the task and your implementation. Each section where you will answer a question is preceded by a '**Question:**' header. Carefully read each question and provide your answer below the '**Answer:**' header by editing the Markdown cell.\n",
    "\n",
    "> **Note**: Code and Markdown cells can be executed using the **Shift+Enter** keyboard shortcut. In addition, a cell can be edited by typically clicking it (double-click for Markdown cells) or by pressing **Enter** while it is highlighted.\n",
    "\n",
    "## General Outline\n",
    "\n",
    "Recall the general outline for SageMaker projects using a notebook instance.\n",
    "\n",
    "1. Download or otherwise retrieve the data.\n",
    "2. Process / Prepare the data.\n",
    "3. Upload the processed data to S3.\n",
    "4. Train a chosen model.\n",
    "5. Test the trained model (typically using a batch transform job).\n",
    "6. Deploy the trained model.\n",
    "7. Use the deployed model.\n",
    "\n",
    "For this project, you will be following the steps in the general outline with some modifications. \n",
    "\n",
    "First, you will not be testing the model in its own step. You will still be testing the model, however, you will do it by deploying your model and then using the deployed model by sending the test data to it. One of the reasons for doing this is so that you can make sure that your deployed model is working correctly before moving forward.\n",
    "\n",
    "In addition, you will deploy and use your trained model a second time. In the second iteration you will customize the way that your trained model is deployed by including some of your own code. In addition, your newly deployed model will be used in the sentiment analysis web app."
   ]
  },
  {
   "cell_type": "code",
   "execution_count": 284,
   "metadata": {},
   "outputs": [
    {
     "name": "stdout",
     "output_type": "stream",
     "text": [
      "Requirement already satisfied: sagemaker==1.72.0 in /home/ec2-user/anaconda3/envs/pytorch_p36/lib/python3.6/site-packages (1.72.0)\n",
      "Requirement already satisfied: protobuf>=3.1 in /home/ec2-user/anaconda3/envs/pytorch_p36/lib/python3.6/site-packages (from sagemaker==1.72.0) (3.11.4)\n",
      "Requirement already satisfied: importlib-metadata>=1.4.0 in /home/ec2-user/anaconda3/envs/pytorch_p36/lib/python3.6/site-packages (from sagemaker==1.72.0) (3.4.0)\n",
      "Requirement already satisfied: smdebug-rulesconfig==0.1.4 in /home/ec2-user/anaconda3/envs/pytorch_p36/lib/python3.6/site-packages (from sagemaker==1.72.0) (0.1.4)\n",
      "Requirement already satisfied: numpy>=1.9.0 in /home/ec2-user/anaconda3/envs/pytorch_p36/lib/python3.6/site-packages (from sagemaker==1.72.0) (1.18.1)\n",
      "Requirement already satisfied: scipy>=0.19.0 in /home/ec2-user/anaconda3/envs/pytorch_p36/lib/python3.6/site-packages (from sagemaker==1.72.0) (1.4.1)\n",
      "Requirement already satisfied: boto3>=1.14.12 in /home/ec2-user/anaconda3/envs/pytorch_p36/lib/python3.6/site-packages (from sagemaker==1.72.0) (1.17.16)\n",
      "Requirement already satisfied: packaging>=20.0 in /home/ec2-user/anaconda3/envs/pytorch_p36/lib/python3.6/site-packages (from sagemaker==1.72.0) (20.1)\n",
      "Requirement already satisfied: protobuf3-to-dict>=0.1.5 in /home/ec2-user/anaconda3/envs/pytorch_p36/lib/python3.6/site-packages (from sagemaker==1.72.0) (0.1.5)\n",
      "Requirement already satisfied: jmespath<1.0.0,>=0.7.1 in /home/ec2-user/anaconda3/envs/pytorch_p36/lib/python3.6/site-packages (from boto3>=1.14.12->sagemaker==1.72.0) (0.10.0)\n",
      "Requirement already satisfied: s3transfer<0.4.0,>=0.3.0 in /home/ec2-user/anaconda3/envs/pytorch_p36/lib/python3.6/site-packages (from boto3>=1.14.12->sagemaker==1.72.0) (0.3.4)\n",
      "Requirement already satisfied: botocore<1.21.0,>=1.20.16 in /home/ec2-user/anaconda3/envs/pytorch_p36/lib/python3.6/site-packages (from boto3>=1.14.12->sagemaker==1.72.0) (1.20.16)\n",
      "Requirement already satisfied: urllib3<1.27,>=1.25.4 in /home/ec2-user/anaconda3/envs/pytorch_p36/lib/python3.6/site-packages (from botocore<1.21.0,>=1.20.16->boto3>=1.14.12->sagemaker==1.72.0) (1.25.10)\n",
      "Requirement already satisfied: python-dateutil<3.0.0,>=2.1 in /home/ec2-user/anaconda3/envs/pytorch_p36/lib/python3.6/site-packages (from botocore<1.21.0,>=1.20.16->boto3>=1.14.12->sagemaker==1.72.0) (2.8.1)\n",
      "Requirement already satisfied: zipp>=0.5 in /home/ec2-user/anaconda3/envs/pytorch_p36/lib/python3.6/site-packages (from importlib-metadata>=1.4.0->sagemaker==1.72.0) (2.2.0)\n",
      "Requirement already satisfied: typing-extensions>=3.6.4 in /home/ec2-user/anaconda3/envs/pytorch_p36/lib/python3.6/site-packages (from importlib-metadata>=1.4.0->sagemaker==1.72.0) (3.7.4.3)\n",
      "Requirement already satisfied: six in /home/ec2-user/anaconda3/envs/pytorch_p36/lib/python3.6/site-packages (from packaging>=20.0->sagemaker==1.72.0) (1.14.0)\n",
      "Requirement already satisfied: pyparsing>=2.0.2 in /home/ec2-user/anaconda3/envs/pytorch_p36/lib/python3.6/site-packages (from packaging>=20.0->sagemaker==1.72.0) (2.4.6)\n",
      "Requirement already satisfied: setuptools in /home/ec2-user/anaconda3/envs/pytorch_p36/lib/python3.6/site-packages (from protobuf>=3.1->sagemaker==1.72.0) (45.2.0.post20200210)\n"
     ]
    }
   ],
   "source": [
    "# Install Sagemaker service platform sofware\n",
    "\n",
    "# Make sure that we use SageMaker 1.x\n",
    "!pip install sagemaker==1.72.0"
   ]
  },
  {
   "cell_type": "markdown",
   "metadata": {},
   "source": [
    "## Step 1: Downloading the data\n",
    "\n",
    "As in the XGBoost in SageMaker notebook, we will be using the [IMDb dataset](http://ai.stanford.edu/~amaas/data/sentiment/)\n",
    "\n",
    "> Maas, Andrew L., et al. [Learning Word Vectors for Sentiment Analysis](http://ai.stanford.edu/~amaas/data/sentiment/). In _Proceedings of the 49th Annual Meeting of the Association for Computational Linguistics: Human Language Technologies_. Association for Computational Linguistics, 2011."
   ]
  },
  {
   "cell_type": "code",
   "execution_count": 285,
   "metadata": {},
   "outputs": [
    {
     "name": "stdout",
     "output_type": "stream",
     "text": [
      "mkdir: cannot create directory ‘../data’: File exists\n",
      "--2021-03-13 06:46:01--  http://ai.stanford.edu/~amaas/data/sentiment/aclImdb_v1.tar.gz\n",
      "Resolving ai.stanford.edu (ai.stanford.edu)... 171.64.68.10\n",
      "Connecting to ai.stanford.edu (ai.stanford.edu)|171.64.68.10|:80... connected.\n",
      "HTTP request sent, awaiting response... 200 OK\n",
      "Length: 84125825 (80M) [application/x-gzip]\n",
      "Saving to: ‘../data/aclImdb_v1.tar.gz’\n",
      "\n",
      "../data/aclImdb_v1. 100%[===================>]  80.23M  20.3MB/s    in 5.4s    \n",
      "\n",
      "2021-03-13 06:46:07 (14.9 MB/s) - ‘../data/aclImdb_v1.tar.gz’ saved [84125825/84125825]\n",
      "\n"
     ]
    }
   ],
   "source": [
    "# Download and extract the IMDb dataset to be used for this project\n",
    "# Mke the directory for the data\n",
    "\n",
    "\n",
    "%mkdir ../data\n",
    "!wget -O ../data/aclImdb_v1.tar.gz http://ai.stanford.edu/~amaas/data/sentiment/aclImdb_v1.tar.gz\n",
    "!tar -zxf ../data/aclImdb_v1.tar.gz -C ../data"
   ]
  },
  {
   "cell_type": "markdown",
   "metadata": {},
   "source": [
    "## Step 2: Preparing and Processing the data\n",
    "\n",
    "Also, as in the XGBoost notebook, we will be doing some initial data processing. The first few steps are the same as in the XGBoost example. To begin with, we will read in each of the reviews and combine them into a single input structure. Then, we will split the dataset into a training set and a testing set."
   ]
  },
  {
   "cell_type": "code",
   "execution_count": 287,
   "metadata": {},
   "outputs": [],
   "source": [
    "# Read in the reveiew data and combine into a single structure for input. \n",
    "\n",
    "import os\n",
    "import glob\n",
    "\n",
    "def read_imdb_data(data_dir='../data/aclImdb'):\n",
    "    data = {}\n",
    "    labels = {}\n",
    "    \n",
    "    for data_type in ['train', 'test']:\n",
    "        data[data_type] = {}\n",
    "        labels[data_type] = {}\n",
    "        \n",
    "        for sentiment in ['pos', 'neg']:\n",
    "            data[data_type][sentiment] = []\n",
    "            labels[data_type][sentiment] = []\n",
    "            \n",
    "            path = os.path.join(data_dir, data_type, sentiment, '*.txt')\n",
    "            files = glob.glob(path)\n",
    "            \n",
    "            for f in files:\n",
    "                with open(f) as review:\n",
    "                    data[data_type][sentiment].append(review.read())\n",
    "                    # Here we represent a positive review by '1' and a negative review by '0'\n",
    "                    labels[data_type][sentiment].append(1 if sentiment == 'pos' else 0)\n",
    "                    \n",
    "            assert len(data[data_type][sentiment]) == len(labels[data_type][sentiment]), \\\n",
    "                    \"{}/{} data size does not match labels size\".format(data_type, sentiment)\n",
    "                \n",
    "    return data, labels"
   ]
  },
  {
   "cell_type": "code",
   "execution_count": 288,
   "metadata": {},
   "outputs": [
    {
     "name": "stdout",
     "output_type": "stream",
     "text": [
      "IMDB reviews: train = 12500 pos / 12500 neg, test = 12500 pos / 12500 neg\n"
     ]
    }
   ],
   "source": [
    "# label the data train and test\n",
    "\n",
    "data, labels = read_imdb_data()\n",
    "print(\"IMDB reviews: train = {} pos / {} neg, test = {} pos / {} neg\".format(\n",
    "            len(data['train']['pos']), len(data['train']['neg']),\n",
    "            len(data['test']['pos']), len(data['test']['neg'])))"
   ]
  },
  {
   "cell_type": "markdown",
   "metadata": {},
   "source": [
    "Now that we've read the raw training and testing data from the downloaded dataset, we will combine the positive and negative reviews and shuffle the resulting records."
   ]
  },
  {
   "cell_type": "code",
   "execution_count": 289,
   "metadata": {},
   "outputs": [],
   "source": [
    "from sklearn.utils import shuffle\n",
    "\n",
    "def prepare_imdb_data(data, labels):\n",
    "    \"\"\"Prepare training and test sets from IMDb movie reviews.\"\"\"\n",
    "    \n",
    "    #Combine positive and negative reviews and labels\n",
    "    data_train = data['train']['pos'] + data['train']['neg']\n",
    "    data_test = data['test']['pos'] + data['test']['neg']\n",
    "    labels_train = labels['train']['pos'] + labels['train']['neg']\n",
    "    labels_test = labels['test']['pos'] + labels['test']['neg']\n",
    "    \n",
    "    #Shuffle reviews and corresponding labels within training and test sets\n",
    "    data_train, labels_train = shuffle(data_train, labels_train)\n",
    "    data_test, labels_test = shuffle(data_test, labels_test)\n",
    "    \n",
    "    # Return a unified training data, test data, training labels, test labets\n",
    "    return data_train, data_test, labels_train, labels_test"
   ]
  },
  {
   "cell_type": "code",
   "execution_count": 290,
   "metadata": {},
   "outputs": [
    {
     "name": "stdout",
     "output_type": "stream",
     "text": [
      "IMDb reviews (combined): train = 25000, test = 25000\n"
     ]
    }
   ],
   "source": [
    "train_X, test_X, train_y, test_y = prepare_imdb_data(data, labels)\n",
    "print(\"IMDb reviews (combined): train = {}, test = {}\".format(len(train_X), len(test_X)))"
   ]
  },
  {
   "cell_type": "markdown",
   "metadata": {},
   "source": [
    "Now that we have our training and testing sets unified and prepared, we should do a quick check and see an example of the data our model will be trained on. This is generally a good idea as it allows you to see how each of the further processing steps affects the reviews and it also ensures that the data has been loaded correctly."
   ]
  },
  {
   "cell_type": "code",
   "execution_count": 291,
   "metadata": {},
   "outputs": [
    {
     "name": "stdout",
     "output_type": "stream",
     "text": [
      "I love Julian Sands and will at least attempt to watch anything he's in, but this movie nearly did me in. I'm hard pressed to remember when I found any other movie to move....so......slow.........ly.....zzzzzzzzzzzz<br /><br />Pop it in the VCR when you've run out of sleeping pills.\n",
      "0\n"
     ]
    }
   ],
   "source": [
    "print(train_X[100])\n",
    "print(train_y[100])"
   ]
  },
  {
   "cell_type": "markdown",
   "metadata": {},
   "source": [
    "The first step in processing the reviews is to make sure that any html tags that appear should be removed. In addition we wish to tokenize our input, that way words such as *entertained* and *entertaining* are considered the same with regard to sentiment analysis."
   ]
  },
  {
   "cell_type": "code",
   "execution_count": 292,
   "metadata": {},
   "outputs": [],
   "source": [
    "# inport the dependencies and packages for Natural language text processing, \n",
    "# Regular Expression and Beautiful Soup\n",
    "# Tokenizing and removing html tags, stopwords etc.\n",
    "\n",
    "\n",
    "import nltk\n",
    "from nltk.corpus import stopwords\n",
    "from nltk.stem.porter import *\n",
    "\n",
    "import re\n",
    "from bs4 import BeautifulSoup\n",
    "\n",
    "def review_to_words(review):\n",
    "    nltk.download(\"stopwords\", quiet=True)\n",
    "    stemmer = PorterStemmer()\n",
    "    \n",
    "    text = BeautifulSoup(review, \"html.parser\").get_text() # Remove HTML tags\n",
    "    text = re.sub(r\"[^a-zA-Z0-9]\", \" \", text.lower()) # Convert to lower case\n",
    "    words = text.split() # Split string into words\n",
    "    words = [w for w in words if w not in stopwords.words(\"english\")] # Remove stopwords\n",
    "    words = [PorterStemmer().stem(w) for w in words] # stem\n",
    "    \n",
    "    return words"
   ]
  },
  {
   "cell_type": "markdown",
   "metadata": {},
   "source": [
    "The `review_to_words` method defined above uses `BeautifulSoup` to remove any html tags that appear and uses the `nltk` package to tokenize the reviews. As a check to ensure we know how everything is working, try applying `review_to_words` to one of the reviews in the training set."
   ]
  },
  {
   "cell_type": "code",
   "execution_count": 293,
   "metadata": {},
   "outputs": [
    {
     "name": "stdout",
     "output_type": "stream",
     "text": [
      "I love Julian Sands and will at least attempt to watch anything he's in, but this movie nearly did me in. I'm hard pressed to remember when I found any other movie to move....so......slow.........ly.....zzzzzzzzzzzz<br /><br />Pop it in the VCR when you've run out of sleeping pills.\n"
     ]
    }
   ],
   "source": [
    "# TODO: Apply review_to_words to a review (train_X[100] or any other review)\n",
    "# Here we apply review_to_words to train_X[100] for a check\n",
    "\n",
    "print (train_X[100])"
   ]
  },
  {
   "cell_type": "code",
   "execution_count": 294,
   "metadata": {},
   "outputs": [
    {
     "name": "stdout",
     "output_type": "stream",
     "text": [
      "0\n"
     ]
    }
   ],
   "source": [
    "print (train_y[100])"
   ]
  },
  {
   "cell_type": "code",
   "execution_count": 295,
   "metadata": {},
   "outputs": [
    {
     "data": {
      "text/plain": [
       "283"
      ]
     },
     "execution_count": 295,
     "metadata": {},
     "output_type": "execute_result"
    }
   ],
   "source": [
    "len(train_X[100])"
   ]
  },
  {
   "cell_type": "markdown",
   "metadata": {},
   "source": [
    "**Question:** Above we mentioned that `review_to_words` method removes html formatting and allows us to tokenize the words found in a review, for example, converting *entertained* and *entertaining* into *entertain* so that they are treated as though they are the same word. What else, if anything, does this method do to the input?"
   ]
  },
  {
   "cell_type": "markdown",
   "metadata": {},
   "source": [
    "**Answer:**\n",
    "a) Regular Expression or regex - The review_to_words method convert every text to lowercase\n",
    "\n",
    "b) Split strings into words - The split() method in python converts strings and or sentences into words as if nothing is provided as a separater. It uses blank space (\" \") to split into small strings\n",
    "\n",
    "c) Remove stopwords - used to remove stopwords by comparing each word in our review with the list of stop words and removing them from our orignal word list if they are a stop word.\n",
    "\n",
    "d) Tokenization, stemming and lemmatization - List comprehension applied to each word to convert them to a base word. Allow us to assign and have frequency to same words across all our reviews"
   ]
  },
  {
   "cell_type": "markdown",
   "metadata": {},
   "source": [
    "The method below applies the `review_to_words` method to each of the reviews in the training and testing datasets. In addition it caches the results. This is because performing this processing step can take a long time. This way if you are unable to complete the notebook in the current session, you can come back without needing to process the data a second time."
   ]
  },
  {
   "cell_type": "code",
   "execution_count": 296,
   "metadata": {},
   "outputs": [],
   "source": [
    "import pickle\n",
    "\n",
    "cache_dir = os.path.join(\"../cache\", \"sentiment_analysis\")  # where to store cache files\n",
    "os.makedirs(cache_dir, exist_ok=True)  # ensure cache directory exists\n",
    "\n",
    "def preprocess_data(data_train, data_test, labels_train, labels_test,\n",
    "                    cache_dir=cache_dir, cache_file=\"preprocessed_data.pkl\"):\n",
    "    \"\"\"Convert each review to words; read from cache if available.\"\"\"\n",
    "\n",
    "    # If cache_file is not None, try to read from it first\n",
    "    cache_data = None\n",
    "    if cache_file is not None:\n",
    "        try:\n",
    "            with open(os.path.join(cache_dir, cache_file), \"rb\") as f:\n",
    "                cache_data = pickle.load(f)\n",
    "            print(\"Read preprocessed data from cache file:\", cache_file)\n",
    "        except:\n",
    "            pass  # unable to read from cache, but that's okay\n",
    "    \n",
    "    # If cache is missing, then do the heavy lifting\n",
    "    if cache_data is None:\n",
    "        # Preprocess training and test data to obtain words for each review\n",
    "        #words_train = list(map(review_to_words, data_train))\n",
    "        #words_test = list(map(review_to_words, data_test))\n",
    "        words_train = [review_to_words(review) for review in data_train]\n",
    "        words_test = [review_to_words(review) for review in data_test]\n",
    "        \n",
    "        # Write to cache file for future runs\n",
    "        if cache_file is not None:\n",
    "            cache_data = dict(words_train=words_train, words_test=words_test,\n",
    "                              labels_train=labels_train, labels_test=labels_test)\n",
    "            with open(os.path.join(cache_dir, cache_file), \"wb\") as f:\n",
    "                pickle.dump(cache_data, f)\n",
    "            print(\"Wrote preprocessed data to cache file:\", cache_file)\n",
    "    else:\n",
    "        # Unpack data loaded from cache file\n",
    "        words_train, words_test, labels_train, labels_test = (cache_data['words_train'],\n",
    "                cache_data['words_test'], cache_data['labels_train'], cache_data['labels_test'])\n",
    "    \n",
    "    return words_train, words_test, labels_train, labels_test"
   ]
  },
  {
   "cell_type": "code",
   "execution_count": 297,
   "metadata": {},
   "outputs": [
    {
     "name": "stdout",
     "output_type": "stream",
     "text": [
      "Read preprocessed data from cache file: preprocessed_data.pkl\n"
     ]
    }
   ],
   "source": [
    "# Preprocess data\n",
    "train_X, test_X, train_y, test_y = preprocess_data(train_X, test_X, train_y, test_y)"
   ]
  },
  {
   "cell_type": "markdown",
   "metadata": {},
   "source": [
    "## Transform the data\n",
    "\n",
    "In the XGBoost notebook we transformed the data from its word representation to a bag-of-words feature representation. For the model we are going to construct in this notebook we will construct a feature representation which is very similar. To start, we will represent each word as an integer. Of course, some of the words that appear in the reviews occur very infrequently and so likely don't contain much information for the purposes of sentiment analysis. The way we will deal with this problem is that we will fix the size of our working vocabulary and we will only include the words that appear most frequently. We will then combine all of the infrequent words into a single category and, in our case, we will label it as `1`.\n",
    "\n",
    "Since we will be using a recurrent neural network, it will be convenient if the length of each review is the same. To do this, we will fix a size for our reviews and then pad short reviews with the category 'no word' (which we will label `0`) and truncate long reviews."
   ]
  },
  {
   "cell_type": "markdown",
   "metadata": {},
   "source": [
    "### (TODO) Create a word dictionary\n",
    "\n",
    "To begin with, we need to construct a way to map words that appear in the reviews to integers. Here we fix the size of our vocabulary (including the 'no word' and 'infrequent' categories) to be `5000` but you may wish to change this to see how it affects the model.\n",
    "\n",
    "> **TODO:** Complete the implementation for the `build_dict()` method below. Note that even though the vocab_size is set to `5000`, we only want to construct a mapping for the most frequently appearing `4998` words. This is because we want to reserve the special labels `0` for 'no word' and `1` for 'infrequent word'."
   ]
  },
  {
   "cell_type": "code",
   "execution_count": 298,
   "metadata": {},
   "outputs": [],
   "source": [
    "import numpy as np\n",
    "from sklearn.feature_extraction.text import CountVectorizer\n",
    "\n",
    "def build_dict(data, vocab_size = 5000):\n",
    "    \"\"\"Construct and return a dictionary mapping each of the most frequently appearing words to a unique integer.\"\"\"\n",
    "    \n",
    "    # TODO: Determine how often each word appears in `data`. Note that `data` is a list of sentences and that a\n",
    "    #       sentence is a list of words.\n",
    "    \n",
    "    word_count = {} # A dict storing the words that appear in the reviews along with how often they occur\n",
    "    \n",
    "    for review in data:\n",
    "          for word in review: \n",
    "            if word in word_count:\n",
    "                  word_count[word] += 1\n",
    "            else:\n",
    "                  word_count[word] = 1\n",
    "    \n",
    "    # TODO: Sort the words found in `data` so that sorted_words[0] is the most frequently appearing word and\n",
    "    #       sorted_words[-1] is the least frequently appearing word.\n",
    "    \n",
    "    sorted_words = None\n",
    "    \n",
    "    sorted_words = sorted(word_count.items(), key = lambda x : x[1], reverse = True)\n",
    "    \n",
    "    word_dict = {} # This is what we are building, a dictionary that translates words into integers\n",
    "    \n",
    "    for idx, word in enumerate(sorted_words[:vocab_size - 2]): # The -2 is so that we save room for the 'no word'\n",
    "        word_dict[word] = idx + 2                              # 'infrequent' labels\n",
    "        \n",
    "    return word_dict"
   ]
  },
  {
   "cell_type": "code",
   "execution_count": 299,
   "metadata": {},
   "outputs": [],
   "source": [
    "word_dict = build_dict(train_X)"
   ]
  },
  {
   "cell_type": "code",
   "execution_count": 300,
   "metadata": {},
   "outputs": [
    {
     "name": "stdout",
     "output_type": "stream",
     "text": [
      "{('movi', 51695): 2, ('film', 48190): 3, ('one', 27741): 4, ('like', 22799): 5, ('time', 16191): 6, ('good', 15360): 7, ('make', 15207): 8, ('charact', 14178): 9, ('get', 14141): 10, ('see', 14111): 11, ('watch', 13940): 12, ('stori', 13168): 13, ('even', 12906): 14, ('would', 12436): 15, ('realli', 11736): 16, ('well', 11042): 17, ('scene', 10586): 18, ('look', 10051): 19, ('show', 9878): 20, ('much', 9765): 21, ('end', 9651): 22, ('peopl', 9391): 23, ('bad', 9344): 24, ('go', 9305): 25, ('great', 9171): 26, ('also', 9156): 27, ('first', 9062): 28, ('love', 9027): 29, ('think', 8913): 30, ('way', 8830): 31, ('act', 8794): 32, ('play', 8730): 33, ('made', 8362): 34, ('thing', 8213): 35, ('could', 7921): 36, ('know', 7514): 37, ('say', 7457): 38, ('seem', 7220): 39, ('work', 7101): 40, ('plot', 6967): 41, ('two', 6908): 42, ('actor', 6876): 43, ('year', 6874): 44, ('come', 6747): 45, ('mani', 6688): 46, ('seen', 6681): 47, ('take', 6654): 48, ('life', 6640): 49, ('want', 6640): 50, ('never', 6484): 51, ('littl', 6435): 52, ('best', 6424): 53, ('tri', 6357): 54, ('man', 6036): 55, ('ever', 5999): 56, ('give', 5792): 57, ('better', 5749): 58, ('still', 5664): 59, ('perform', 5528): 60, ('find', 5449): 61, ('feel', 5300): 62, ('part', 5247): 63, ('back', 5133): 64, ('use', 5123): 65, ('someth', 5122): 66, ('director', 5120): 67, ('actual', 5065): 68, ('interest', 4893): 69, ('lot', 4778): 70, ('real', 4741): 71, ('old', 4583): 72, ('cast', 4573): 73, ('though', 4566): 74, ('live', 4477): 75, ('star', 4447): 76, ('enjoy', 4353): 77, ('guy', 4339): 78, ('anoth', 4325): 79, ('new', 4315): 80, ('role', 4300): 81, ('noth', 4296): 82, ('10', 4289): 83, ('funni', 4288): 84, ('music', 4247): 85, ('point', 4238): 86, ('start', 4166): 87, ('set', 4116): 88, ('girl', 4064): 89, ('origin', 4044): 90, ('day', 4013): 91, ('world', 3979): 92, ('everi', 3977): 93, ('believ', 3917): 94, ('turn', 3880): 95, ('quit', 3841): 96, ('direct', 3794): 97, ('us', 3794): 98, ('thought', 3773): 99, ('fact', 3749): 100, ('minut', 3739): 101, ('horror', 3717): 102, ('kill', 3701): 103, ('action', 3694): 104, ('comedi', 3686): 105, ('pretti', 3665): 106, ('young', 3664): 107, ('wonder', 3639): 108, ('happen', 3624): 109, ('around', 3616): 110, ('got', 3583): 111, ('effect', 3581): 112, ('right', 3554): 113, ('long', 3540): 114, ('howev', 3537): 115, ('big', 3477): 116, ('line', 3458): 117, ('famili', 3454): 118, ('enough', 3452): 119, ('seri', 3420): 120, ('may', 3392): 121, ('need', 3378): 122, ('fan', 3370): 123, ('bit', 3348): 124, ('script', 3342): 125, ('beauti', 3292): 126, ('person', 3274): 127, ('becom', 3272): 128, ('without', 3268): 129, ('must', 3250): 130, ('alway', 3243): 131, ('friend', 3230): 132, ('tell', 3215): 133, ('reason', 3206): 134, ('saw', 3178): 135, ('last', 3158): 136, ('final', 3153): 137, ('kid', 3148): 138, ('almost', 3139): 139, ('put', 3132): 140, ('least', 3112): 141, ('sure', 3100): 142, ('done', 3096): 143, ('whole', 3080): 144, ('place', 3048): 145, ('complet', 3035): 146, ('kind', 3008): 147, ('differ', 3007): 148, ('expect', 3007): 149, ('shot', 2998): 150, ('far', 2978): 151, ('mean', 2961): 152, ('anyth', 2949): 153, ('book', 2935): 154, ('laugh', 2926): 155, ('might', 2919): 156, ('name', 2917): 157, ('sinc', 2906): 158, ('begin', 2905): 159, ('2', 2882): 160, ('probabl', 2874): 161, ('woman', 2838): 162, ('help', 2828): 163, ('entertain', 2827): 164, ('let', 2821): 165, ('screen', 2799): 166, ('call', 2792): 167, ('tv', 2786): 168, ('moment', 2784): 169, ('away', 2782): 170, ('read', 2762): 171, ('yet', 2753): 172, ('rather', 2733): 173, ('worst', 2731): 174, ('run', 2723): 175, ('fun', 2694): 176, ('lead', 2684): 177, ('hard', 2681): 178, ('audienc', 2675): 179, ('idea', 2638): 180, ('anyon', 2632): 181, ('episod', 2629): 182, ('american', 2618): 183, ('found', 2608): 184, ('appear', 2567): 185, ('bore', 2549): 186, ('especi', 2539): 187, ('although', 2537): 188, ('hope', 2529): 189, ('cours', 2520): 190, ('keep', 2520): 191, ('anim', 2483): 192, ('job', 2461): 193, ('goe', 2441): 194, ('move', 2434): 195, ('sens', 2416): 196, ('dvd', 2410): 197, ('version', 2410): 198, ('war', 2394): 199, ('money', 2370): 200, ('someon', 2363): 201, ('mind', 2354): 202, ('mayb', 2340): 203, ('problem', 2337): 204, ('true', 2333): 205, ('hous', 2328): 206, ('everyth', 2323): 207, ('nice', 2312): 208, ('second', 2309): 209, ('rate', 2300): 210, ('three', 2297): 211, ('night', 2293): 212, ('follow', 2292): 213, ('face', 2292): 214, ('recommend', 2290): 215, ('main', 2283): 216, ('product', 2283): 217, ('worth', 2280): 218, ('leav', 2272): 219, ('human', 2262): 220, ('special', 2258): 221, ('excel', 2251): 222, ('togeth', 2247): 223, ('wast', 2229): 224, ('sound', 2228): 225, ('everyon', 2228): 226, ('john', 2222): 227, ('hand', 2221): 228, ('1', 2213): 229, ('father', 2206): 230, ('later', 2202): 231, ('eye', 2200): 232, ('said', 2196): 233, ('view', 2193): 234, ('instead', 2190): 235, ('review', 2184): 236, ('boy', 2178): 237, ('high', 2174): 238, ('hour', 2164): 239, ('miss', 2160): 240, ('talk', 2159): 241, ('classic', 2159): 242, ('wife', 2140): 243, ('understand', 2132): 244, ('left', 2125): 245, ('care', 2124): 246, ('black', 2123): 247, ('death', 2113): 248, ('open', 2103): 249, ('murder', 2102): 250, ('write', 2096): 251, ('half', 2094): 252, ('head', 2075): 253, ('rememb', 2070): 254, ('chang', 2062): 255, ('viewer', 2047): 256, ('fight', 2040): 257, ('gener', 2022): 258, ('surpris', 2021): 259, ('includ', 2020): 260, ('short', 2020): 261, ('die', 2012): 262, ('fall', 2004): 263, ('less', 2003): 264, ('els', 2002): 265, ('entir', 1993): 266, ('piec', 1981): 267, ('involv', 1980): 268, ('pictur', 1968): 269, ('simpli', 1965): 270, ('home', 1957): 271, ('top', 1957): 272, ('power', 1957): 273, ('total', 1948): 274, ('usual', 1946): 275, ('budget', 1933): 276, ('attempt', 1932): 277, ('suppos', 1924): 278, ('releas', 1921): 279, ('hollywood', 1920): 280, ('terribl', 1917): 281, ('song', 1916): 282, ('men', 1915): 283, ('possibl', 1913): 284, ('featur', 1903): 285, ('portray', 1902): 286, ('disappoint', 1900): 287, ('3', 1899): 288, ('poor', 1899): 289, ('coupl', 1894): 290, ('stupid', 1888): 291, ('camera', 1888): 292, ('dead', 1883): 293, ('wrong', 1872): 294, ('produc', 1870): 295, ('low', 1870): 296, ('either', 1866): 297, ('video', 1866): 298, ('aw', 1861): 299, ('definit', 1856): 300, ('except', 1854): 301, ('rest', 1852): 302, ('given', 1849): 303, ('absolut', 1845): 304, ('women', 1827): 305, ('lack', 1821): 306, ('word', 1817): 307, ('writer', 1814): 308, ('titl', 1793): 309, ('talent', 1787): 310, ('decid', 1786): 311, ('full', 1783): 312, ('perfect', 1778): 313, ('along', 1777): 314, ('style', 1760): 315, ('close', 1744): 316, ('truli', 1743): 317, ('school', 1732): 318, ('emot', 1731): 319, ('save', 1731): 320, ('sex', 1726): 321, ('age', 1726): 322, ('next', 1716): 323, ('bring', 1715): 324, ('mr', 1708): 325, ('case', 1706): 326, ('killer', 1700): 327, ('heart', 1688): 328, ('comment', 1687): 329, ('sort', 1684): 330, ('creat', 1683): 331, ('perhap', 1681): 332, ('came', 1673): 333, ('brother', 1664): 334, ('sever', 1663): 335, ('joke', 1656): 336, ('art', 1653): 337, ('dialogu', 1652): 338, ('game', 1651): 339, ('small', 1648): 340, ('base', 1645): 341, ('flick', 1629): 342, ('written', 1616): 343, ('sequenc', 1609): 344, ('meet', 1608): 345, ('earli', 1605): 346, ('often', 1601): 347, ('other', 1598): 348, ('mother', 1597): 349, ('develop', 1595): 350, ('humor', 1592): 351, ('actress', 1588): 352, ('consid', 1585): 353, ('dark', 1573): 354, ('guess', 1565): 355, ('amaz', 1563): 356, ('unfortun', 1562): 357, ('lost', 1555): 358, ('light', 1555): 359, ('exampl', 1554): 360, ('cinema', 1553): 361, ('drama', 1552): 362, ('ye', 1551): 363, ('white', 1551): 364, ('experi', 1548): 365, ('imagin', 1547): 366, ('mention', 1545): 367, ('stop', 1543): 368, ('natur', 1541): 369, ('forc', 1534): 370, ('manag', 1529): 371, ('felt', 1528): 372, ('present', 1520): 373, ('cut', 1520): 374, ('children', 1515): 375, ('fail', 1511): 376, ('son', 1506): 377, ('qualiti', 1505): 378, ('support', 1505): 379, ('car', 1505): 380, ('ask', 1500): 381, ('hit', 1497): 382, ('side', 1490): 383, ('voic', 1482): 384, ('extrem', 1473): 385, ('impress', 1472): 386, ('wors', 1468): 387, ('evil', 1468): 388, ('went', 1463): 389, ('stand', 1463): 390, ('certainli', 1462): 391, ('basic', 1453): 392, ('oh', 1450): 393, ('overal', 1434): 394, ('favorit', 1421): 395, ('horribl', 1418): 396, ('mysteri', 1416): 397, ('number', 1413): 398, ('type', 1408): 399, ('danc', 1405): 400, ('wait', 1400): 401, ('hero', 1389): 402, ('alreadi', 1381): 403, ('5', 1381): 404, ('learn', 1375): 405, ('matter', 1373): 406, ('4', 1372): 407, ('michael', 1370): 408, ('genr', 1367): 409, ('fine', 1366): 410, ('despit', 1364): 411, ('throughout', 1360): 412, ('walk', 1358): 413, ('success', 1344): 414, ('histori', 1338): 415, ('question', 1333): 416, ('zombi', 1331): 417, ('town', 1328): 418, ('realiz', 1327): 419, ('relationship', 1327): 420, ('child', 1324): 421, ('past', 1324): 422, ('daughter', 1312): 423, ('late', 1309): 424, ('b', 1306): 425, ('wish', 1303): 426, ('credit', 1295): 427, ('hate', 1295): 428, ('event', 1293): 429, ('theme', 1292): 430, ('touch', 1284): 431, ('citi', 1283): 432, ('today', 1282): 433, ('sometim', 1281): 434, ('behind', 1280): 435, ('god', 1271): 436, ('twist', 1268): 437, ('sit', 1263): 438, ('deal', 1260): 439, ('stay', 1260): 440, ('annoy', 1260): 441, ('abl', 1259): 442, ('rent', 1256): 443, ('pleas', 1253): 444, ('edit', 1250): 445, ('blood', 1245): 446, ('deserv', 1236): 447, ('comic', 1230): 448, ('anyway', 1230): 449, ('appar', 1226): 450, ('soon', 1222): 451, ('gave', 1216): 452, ('etc', 1212): 453, ('level', 1210): 454, ('slow', 1207): 455, ('chanc', 1204): 456, ('score', 1203): 457, ('bodi', 1199): 458, ('brilliant', 1196): 459, ('incred', 1194): 460, ('figur', 1190): 461, ('situat', 1188): 462, ('self', 1185): 463, ('major', 1185): 464, ('stuff', 1181): 465, ('decent', 1178): 466, ('element', 1176): 467, ('dream', 1174): 468, ('return', 1174): 469, ('obvious', 1168): 470, ('continu', 1159): 471, ('order', 1159): 472, ('pace', 1156): 473, ('ridicul', 1154): 474, ('happi', 1151): 475, ('highli', 1147): 476, ('group', 1147): 477, ('add', 1147): 478, ('thank', 1146): 479, ('ladi', 1145): 480, ('novel', 1130): 481, ('pain', 1129): 482, ('speak', 1129): 483, ('career', 1116): 484, ('shoot', 1115): 485, ('strang', 1114): 486, ('heard', 1111): 487, ('sad', 1108): 488, ('husband', 1105): 489, ('polic', 1105): 490, ('import', 1103): 491, ('break', 1101): 492, ('took', 1100): 493, ('strong', 1096): 494, ('cannot', 1096): 495, ('robert', 1095): 496, ('predict', 1095): 497, ('violenc', 1091): 498, ('hilari', 1090): 499, ('recent', 1089): 500, ('countri', 1086): 501, ('known', 1081): 502, ('particularli', 1079): 503, ('pick', 1078): 504, ('documentari', 1074): 505, ('season', 1072): 506, ('critic', 1071): 507, ('jame', 1069): 508, ('compar', 1068): 509, ('alon', 1066): 510, ('obviou', 1066): 511, ('told', 1063): 512, ('state', 1060): 513, ('rock', 1058): 514, ('visual', 1058): 515, ('exist', 1057): 516, ('offer', 1057): 517, ('theater', 1057): 518, ('opinion', 1056): 519, ('gore', 1055): 520, ('hold', 1054): 521, ('crap', 1054): 522, ('result', 1052): 523, ('hear', 1050): 524, ('realiti', 1050): 525, ('room', 1050): 526, ('effort', 1047): 527, ('clich', 1047): 528, ('thriller', 1046): 529, ('caus', 1044): 530, ('sequel', 1042): 531, ('explain', 1042): 532, ('serious', 1042): 533, ('king', 1036): 534, ('local', 1035): 535, ('ago', 1033): 536, ('none', 1032): 537, ('hell', 1032): 538, ('note', 1027): 539, ('allow', 1026): 540, ('david', 1025): 541, ('sister', 1025): 542, ('simpl', 1023): 543, ('femal', 1022): 544, ('deliv', 1021): 545, ('ok', 1017): 546, ('class', 1012): 547, ('convinc', 1012): 548, ('check', 1011): 549, ('suspens', 1009): 550, ('win', 1008): 551, ('buy', 1007): 552, ('oscar', 1007): 553, ('huge', 1006): 554, ('valu', 1004): 555, ('sexual', 1000): 556, ('scari', 998): 557, ('cool', 998): 558, ('excit', 996): 559, ('similar', 996): 560, ('apart', 995): 561, ('exactli', 995): 562, ('provid', 995): 563, ('avoid', 994): 564, ('shown', 994): 565, ('seriou', 989): 566, ('english', 987): 567, ('taken', 986): 568, ('whose', 986): 569, ('cinematographi', 983): 570, ('shock', 979): 571, ('polit', 978): 572, ('spoiler', 976): 573, ('offic', 975): 574, ('across', 971): 575, ('middl', 969): 576, ('pass', 968): 577, ('street', 968): 578, ('messag', 966): 579, ('somewhat', 965): 580, ('charm', 965): 581, ('silli', 965): 582, ('modern', 964): 583, ('filmmak', 959): 584, ('confus', 959): 585, ('form', 957): 586, ('tale', 956): 587, ('singl', 950): 588, ('jack', 945): 589, ('mostli', 941): 590, ('attent', 940): 591, ('carri', 940): 592, ('william', 940): 593, ('sing', 939): 594, ('subject', 938): 595, ('five', 938): 596, ('prove', 937): 597, ('richard', 937): 598, ('stage', 935): 599, ('team', 935): 600, ('unlik', 934): 601, ('cop', 934): 602, ('georg', 933): 603, ('monster', 932): 604, ('televis', 932): 605, ('earth', 929): 606, ('villain', 927): 607, ('cover', 927): 608, ('pay', 924): 609, ('marri', 923): 610, ('toward', 922): 611, ('build', 921): 612, ('pull', 920): 613, ('parent', 920): 614, ('due', 918): 615, ('respect', 917): 616, ('fill', 917): 617, ('dialog', 915): 618, ('four', 915): 619, ('remind', 913): 620, ('futur', 912): 621, ('weak', 908): 622, ('typic', 908): 623, ('7', 904): 624, ('cheap', 903): 625, ('intellig', 902): 626, ('british', 901): 627, ('atmospher', 901): 628, ('clearli', 899): 629, ('80', 899): 630, ('non', 898): 631, ('dog', 898): 632, ('paul', 898): 633, ('fast', 897): 634, ('8', 897): 635, ('knew', 897): 636, ('artist', 897): 637, ('crime', 896): 638, ('easili', 892): 639, ('escap', 889): 640, ('adult', 887): 641, ('doubt', 887): 642, ('detail', 884): 643, ('date', 883): 644, ('romant', 879): 645, ('fire', 879): 646, ('member', 879): 647, ('gun', 872): 648, ('drive', 872): 649, ('straight', 869): 650, ('fit', 866): 651, ('beyond', 866): 652, ('attack', 864): 653, ('imag', 860): 654, ('upon', 859): 655, ('posit', 858): 656, ('whether', 856): 657, ('peter', 855): 658, ('fantast', 855): 659, ('appreci', 852): 660, ('captur', 852): 661, ('aspect', 852): 662, ('ten', 851): 663, ('plan', 850): 664, ('discov', 849): 665, ('remain', 846): 666, ('period', 843): 667, ('near', 843): 668, ('air', 842): 669, ('realist', 842): 670, ('mark', 838): 671, ('red', 837): 672, ('dull', 836): 673, ('adapt', 835): 674, ('within', 832): 675, ('lose', 828): 676, ('spend', 828): 677, ('materi', 827): 678, ('color', 827): 679, ('chase', 824): 680, ('mari', 823): 681, ('storylin', 822): 682, ('forget', 821): 683, ('bunch', 819): 684, ('clear', 818): 685, ('lee', 817): 686, ('victim', 816): 687, ('nearli', 815): 688, ('box', 813): 689, ('york', 812): 690, ('inspir', 811): 691, ('match', 811): 692, ('mess', 809): 693, ('finish', 809): 694, ('standard', 808): 695, ('easi', 806): 696, ('truth', 805): 697, ('suffer', 802): 698, ('busi', 802): 699, ('dramat', 799): 700, ('bill', 799): 701, ('space', 799): 702, ('western', 798): 703, ('e', 797): 704, ('list', 796): 705, ('battl', 795): 706, ('notic', 793): 707, ('de', 792): 708, ('french', 790): 709, ('ad', 788): 710, ('9', 787): 711, ('tom', 785): 712, ('larg', 784): 713, ('among', 783): 714, ('eventu', 782): 715, ('train', 781): 716, ('accept', 781): 717, ('agre', 779): 718, ('soundtrack', 778): 719, ('spirit', 778): 720, ('third', 776): 721, ('teenag', 775): 722, ('adventur', 773): 723, ('soldier', 773): 724, ('sorri', 771): 725, ('drug', 771): 726, ('famou', 771): 727, ('suggest', 771): 728, ('cri', 770): 729, ('babi', 770): 730, ('normal', 770): 731, ('ultim', 769): 732, ('troubl', 769): 733, ('contain', 765): 734, ('certain', 764): 735, ('cultur', 762): 736, ('romanc', 760): 737, ('rare', 759): 738, ('lame', 758): 739, ('somehow', 757): 740, ('mix', 755): 741, ('disney', 755): 742, ('gone', 754): 743, ('cartoon', 753): 744, ('student', 752): 745, ('reveal', 751): 746, ('fear', 751): 747, ('kept', 750): 748, ('suck', 750): 749, ('attract', 749): 750, ('appeal', 748): 751, ('premis', 747): 752, ('design', 745): 753, ('secret', 745): 754, ('greatest', 745): 755, ('shame', 743): 756, ('throw', 742): 757, ('scare', 741): 758, ('copi', 741): 759, ('wit', 739): 760, ('admit', 738): 761, ('america', 738): 762, ('relat', 737): 763, ('particular', 737): 764, ('brought', 737): 765, ('screenplay', 735): 766, ('whatev', 734): 767, ('pure', 733): 768, ('70', 732): 769, ('harri', 730): 770, ('averag', 730): 771, ('master', 729): 772, ('describ', 728): 773, ('treat', 727): 774, ('male', 727): 775, ('20', 726): 776, ('fantasi', 725): 777, ('issu', 725): 778, ('warn', 724): 779, ('inde', 722): 780, ('background', 719): 781, ('forward', 719): 782, ('project', 717): 783, ('free', 717): 784, ('japanes', 714): 785, ('memor', 714): 786, ('poorli', 713): 787, ('award', 712): 788, ('locat', 711): 789, ('amus', 710): 790, ('potenti', 710): 791, ('struggl', 709): 792, ('magic', 708): 793, ('weird', 708): 794, ('societi', 707): 795, ('okay', 706): 796, ('imdb', 704): 797, ('doctor', 704): 798, ('accent', 704): 799, ('water', 703): 800, ('hot', 703): 801, ('express', 702): 802, ('30', 702): 803, ('dr', 702): 804, ('alien', 702): 805, ('odd', 701): 806, ('choic', 699): 807, ('crazi', 699): 808, ('fiction', 698): 809, ('studio', 698): 810, ('control', 697): 811, ('becam', 697): 812, ('masterpiec', 696): 813, ('fli', 695): 814, ('difficult', 695): 815, ('joe', 692): 816, ('scream', 690): 817, ('costum', 689): 818, ('lover', 688): 819, ('refer', 687): 820, ('uniqu', 687): 821, ('remak', 686): 822, ('girlfriend', 684): 823, ('vampir', 684): 824, ('prison', 682): 825, ('execut', 680): 826, ('wear', 678): 827, ('jump', 677): 828, ('unless', 675): 829, ('wood', 675): 830, ('creepi', 673): 831, ('cheesi', 672): 832, ('superb', 671): 833, ('otherwis', 670): 834, ('parti', 668): 835, ('ghost', 666): 836, ('roll', 666): 837, ('public', 664): 838, ('mad', 664): 839, ('depict', 663): 840, ('earlier', 662): 841, ('badli', 662): 842, ('moral', 662): 843, ('week', 662): 844, ('jane', 662): 845, ('dumb', 660): 846, ('fi', 660): 847, ('grow', 659): 848, ('flaw', 659): 849, ('deep', 658): 850, ('sci', 658): 851, ('cat', 657): 852, ('maker', 657): 853, ('older', 656): 854, ('connect', 656): 855, ('footag', 656): 856, ('bother', 655): 857, ('plenti', 655): 858, ('outsid', 653): 859, ('stick', 650): 860, ('gay', 649): 861, ('catch', 647): 862, ('co', 645): 863, ('plu', 645): 864, ('popular', 643): 865, ('equal', 642): 866, ('social', 641): 867, ('quickli', 639): 868, ('disturb', 639): 869, ('perfectli', 637): 870, ('dress', 636): 871, ('era', 635): 872, ('90', 635): 873, ('mistak', 634): 874, ('lie', 632): 875, ('previou', 630): 876, ('ride', 630): 877, ('combin', 629): 878, ('band', 627): 879, ('concept', 627): 880, ('rich', 626): 881, ('answer', 626): 882, ('surviv', 626): 883, ('front', 624): 884, ('sweet', 623): 885, ('christma', 623): 886, ('insid', 622): 887, ('bare', 621): 888, ('concern', 621): 889, ('eat', 621): 890, ('listen', 619): 891, ('beat', 619): 892, ('ben', 619): 893, ('c', 617): 894, ('term', 615): 895, ('serv', 615): 896, ('la', 614): 897, ('meant', 614): 898, ('german', 614): 899, ('hardli', 613): 900, ('stereotyp', 613): 901, ('innoc', 609): 902, ('law', 609): 903, ('desper', 608): 904, ('memori', 607): 905, ('promis', 607): 906, ('cute', 604): 907, ('intent', 604): 908, ('inform', 603): 909, ('steal', 603): 910, ('variou', 603): 911, ('brain', 601): 912, ('post', 600): 913, ('tone', 599): 914, ('island', 598): 915, ('amount', 597): 916, ('track', 596): 917, ('compani', 596): 918, ('nuditi', 596): 919, ('store', 595): 920, ('claim', 595): 921, ('flat', 594): 922, ('hair', 594): 923, ('50', 594): 924, ('land', 592): 925, ('univers', 592): 926, ('kick', 587): 927, ('scott', 587): 928, ('fairli', 587): 929, ('danger', 587): 930, ('player', 586): 931, ('plain', 584): 932, ('crew', 584): 933, ('step', 584): 934, ('toni', 582): 935, ('share', 581): 936, ('tast', 580): 937, ('centuri', 580): 938, ('engag', 578): 939, ('achiev', 578): 940, ('cold', 577): 941, ('travel', 577): 942, ('record', 576): 943, ('suit', 576): 944, ('rip', 576): 945, ('sadli', 575): 946, ('manner', 575): 947, ('spot', 574): 948, ('wrote', 574): 949, ('tension', 574): 950, ('fascin', 573): 951, ('intens', 573): 952, ('familiar', 572): 953, ('depth', 570): 954, ('remark', 570): 955, ('burn', 570): 956, ('histor', 569): 957, ('destroy', 569): 958, ('sleep', 568): 959, ('purpos', 567): 960, ('languag', 566): 961, ('ruin', 565): 962, ('ignor', 565): 963, ('delight', 564): 964, ('unbeliev', 563): 965, ('italian', 563): 966, ('abil', 562): 967, ('collect', 562): 968, ('soul', 562): 969, ('clever', 561): 970, ('detect', 561): 971, ('violent', 560): 972, ('rape', 559): 973, ('reach', 558): 974, ('door', 557): 975, ('liter', 556): 976, ('trash', 556): 977, ('scienc', 556): 978, ('commun', 555): 979, ('reveng', 555): 980, ('caught', 555): 981, ('creatur', 554): 982, ('approach', 552): 983, ('trip', 552): 984, ('intrigu', 550): 985, ('fashion', 550): 986, ('introduc', 549): 987, ('skill', 549): 988, ('paint', 549): 989, ('complex', 548): 990, ('channel', 548): 991, ('camp', 546): 992, ('christian', 544): 993, ('extra', 543): 994, ('hole', 543): 995, ('limit', 542): 996, ('mental', 542): 997, ('ann', 542): 998, ('immedi', 542): 999, ('slightli', 541): 1000, ('comput', 541): 1001, ('million', 541): 1002, ('6', 541): 1003, ('mere', 541): 1004, ('conclus', 539): 1005, ('slasher', 539): 1006, ('suddenli', 538): 1007, ('imposs', 538): 1008, ('crimin', 537): 1009, ('teen', 537): 1010, ('neither', 537): 1011, ('nation', 536): 1012, ('physic', 536): 1013, ('spent', 536): 1014, ('respons', 535): 1015, ('planet', 534): 1016, ('receiv', 532): 1017, ('fake', 532): 1018, ('sick', 531): 1019, ('blue', 531): 1020, ('bizarr', 529): 1021, ('embarrass', 528): 1022, ('indian', 527): 1023, ('15', 525): 1024, ('ring', 525): 1025, ('pop', 524): 1026, ('drop', 524): 1027, ('drag', 523): 1028, ('haunt', 521): 1029, ('suspect', 519): 1030, ('pointless', 519): 1031, ('search', 517): 1032, ('edg', 517): 1033, ('handl', 516): 1034, ('biggest', 515): 1035, ('common', 515): 1036, ('hurt', 514): 1037, ('faith', 514): 1038, ('arriv', 514): 1039, ('technic', 513): 1040, ('angel', 512): 1041, ('dad', 511): 1042, ('genuin', 511): 1043, ('awesom', 510): 1044, ('solid', 510): 1045, ('f', 510): 1046, ('van', 509): 1047, ('former', 509): 1048, ('colleg', 509): 1049, ('focu', 509): 1050, ('count', 507): 1051, ('tear', 506): 1052, ('heavi', 506): 1053, ('wall', 505): 1054, ('rais', 505): 1055, ('laughabl', 504): 1056, ('younger', 504): 1057, ('visit', 504): 1058, ('fair', 503): 1059, ('sign', 503): 1060, ('excus', 503): 1061, ('cult', 502): 1062, ('key', 501): 1063, ('motion', 501): 1064, ('tough', 501): 1065, ('desir', 500): 1066, ('super', 500): 1067, ('addit', 499): 1068, ('stun', 499): 1069, ('cloth', 497): 1070, ('exploit', 497): 1071, ('tortur', 496): 1072, ('smith', 496): 1073, ('davi', 495): 1074, ('race', 495): 1075, ('author', 494): 1076, ('cross', 494): 1077, ('jim', 492): 1078, ('minor', 491): 1079, ('focus', 491): 1080, ('consist', 491): 1081, ('compel', 491): 1082, ('commit', 490): 1083, ('chemistri', 490): 1084, ('pathet', 490): 1085, ('park', 489): 1086, ('obsess', 488): 1087, ('tradit', 488): 1088, ('frank', 488): 1089, ('grade', 487): 1090, ('60', 486): 1091, ('asid', 486): 1092, ('brutal', 485): 1093, ('somewher', 483): 1094, ('steve', 483): 1095, ('u', 482): 1096, ('opportun', 482): 1097, ('rule', 482): 1098, ('depress', 482): 1099, ('grant', 482): 1100, ('explor', 482): 1101, ('honest', 481): 1102, ('besid', 481): 1103, ('dub', 480): 1104, ('anti', 480): 1105, ('trailer', 479): 1106, ('intend', 479): 1107, ('bar', 478): 1108, ('west', 477): 1109, ('longer', 477): 1110, ('regard', 477): 1111, ('scientist', 477): 1112, ('decad', 476): 1113, ('judg', 476): 1114, ('silent', 475): 1115, ('armi', 474): 1116, ('creativ', 474): 1117, ('wild', 473): 1118, ('south', 472): 1119, ('g', 472): 1120, ('stewart', 472): 1121, ('draw', 471): 1122, ('road', 470): 1123, ('govern', 469): 1124, ('ex', 468): 1125, ('boss', 468): 1126, ('practic', 467): 1127, ('surprisingli', 466): 1128, ('festiv', 466): 1129, ('gang', 466): 1130, ('motiv', 466): 1131, ('club', 466): 1132, ('green', 465): 1133, ('page', 465): 1134, ('london', 465): 1135, ('redeem', 465): 1136, ('aliv', 464): 1137, ('display', 464): 1138, ('machin', 464): 1139, ('idiot', 464): 1140, ('militari', 464): 1141, ('repeat', 463): 1142, ('thrill', 463): 1143, ('nobodi', 462): 1144, ('yeah', 462): 1145, ('folk', 462): 1146, ('100', 462): 1147, ('40', 461): 1148, ('garbag', 460): 1149, ('journey', 460): 1150, ('smile', 459): 1151, ('tire', 459): 1152, ('ground', 459): 1153, ('bought', 458): 1154, ('mood', 458): 1155, ('sam', 457): 1156, ('cost', 457): 1157, ('stone', 457): 1158, ('mouth', 456): 1159, ('noir', 456): 1160, ('terrif', 455): 1161, ('agent', 455): 1162, ('requir', 454): 1163, ('utterli', 454): 1164, ('sexi', 453): 1165, ('honestli', 453): 1166, ('area', 453): 1167, ('geniu', 452): 1168, ('report', 452): 1169, ('enter', 451): 1170, ('humour', 451): 1171, ('glad', 451): 1172, ('investig', 451): 1173, ('serial', 450): 1174, ('passion', 449): 1175, ('narr', 449): 1176, ('occasion', 449): 1177, ('marriag', 448): 1178, ('climax', 448): 1179, ('studi', 447): 1180, ('industri', 447): 1181, ('nowher', 446): 1182, ('center', 446): 1183, ('demon', 446): 1184, ('ship', 446): 1185, ('charli', 446): 1186, ('bear', 445): 1187, ('loos', 445): 1188, ('hors', 445): 1189, ('wow', 444): 1190, ('hang', 444): 1191, ('graphic', 442): 1192, ('admir', 440): 1193, ('giant', 440): 1194, ('send', 439): 1195, ('loud', 438): 1196, ('damn', 438): 1197, ('subtl', 437): 1198, ('profession', 437): 1199, ('nake', 437): 1200, ('rel', 437): 1201, ('blow', 436): 1202, ('bottom', 435): 1203, ('insult', 434): 1204, ('batman', 434): 1205, ('r', 433): 1206, ('doubl', 433): 1207, ('boyfriend', 433): 1208, ('kelli', 433): 1209, ('initi', 431): 1210, ('frame', 430): 1211, ('gem', 429): 1212, ('opera', 429): 1213, ('drawn', 428): 1214, ('affect', 428): 1215, ('challeng', 428): 1216, ('church', 428): 1217, ('cinemat', 428): 1218, ('seek', 426): 1219, ('l', 426): 1220, ('j', 426): 1221, ('fulli', 426): 1222, ('evid', 426): 1223, ('nightmar', 426): 1224, ('essenti', 425): 1225, ('arm', 425): 1226, ('conflict', 425): 1227, ('henri', 424): 1228, ('christoph', 424): 1229, ('grace', 424): 1230, ('wind', 424): 1231, ('assum', 423): 1232, ('narrat', 423): 1233, ('witch', 423): 1234, ('hunt', 422): 1235, ('push', 422): 1236, ('chri', 421): 1237, ('wise', 421): 1238, ('repres', 420): 1239, ('nomin', 420): 1240, ('month', 420): 1241, ('hide', 419): 1242, ('sceneri', 419): 1243, ('affair', 419): 1244, ('avail', 419): 1245, ('smart', 418): 1246, ('thu', 418): 1247, ('justic', 418): 1248, ('bond', 418): 1249, ('interview', 417): 1250, ('flashback', 417): 1251, ('outstand', 417): 1252, ('constantli', 416): 1253, ('satisfi', 416): 1254, ('presenc', 416): 1255, ('central', 415): 1256, ('bed', 415): 1257, ('content', 414): 1258, ('sell', 414): 1259, ('iron', 414): 1260, ('gag', 413): 1261, ('everybodi', 413): 1262, ('slowli', 412): 1263, ('hotel', 412): 1264, ('hire', 411): 1265, ('system', 410): 1266, ('hey', 409): 1267, ('thrown', 409): 1268, ('individu', 409): 1269, ('charl', 409): 1270, ('adam', 409): 1271, ('allen', 408): 1272, ('jone', 408): 1273, ('mediocr', 408): 1274, ('ray', 407): 1275, ('billi', 407): 1276, ('lesson', 407): 1277, ('cameo', 406): 1278, ('photographi', 406): 1279, ('fellow', 405): 1280, ('pari', 405): 1281, ('strike', 404): 1282, ('absurd', 403): 1283, ('rise', 403): 1284, ('brief', 403): 1285, ('independ', 403): 1286, ('neg', 402): 1287, ('phone', 401): 1288, ('impact', 401): 1289, ('born', 400): 1290, ('ill', 400): 1291, ('model', 400): 1292, ('spoil', 399): 1293, ('fresh', 399): 1294, ('angl', 399): 1295, ('abus', 398): 1296, ('likabl', 398): 1297, ('discuss', 397): 1298, ('hill', 397): 1299, ('ahead', 396): 1300, ('sight', 396): 1301, ('sent', 395): 1302, ('photograph', 395): 1303, ('logic', 394): 1304, ('shine', 394): 1305, ('blame', 394): 1306, ('occur', 394): 1307, ('bruce', 393): 1308, ('mainli', 393): 1309, ('skip', 392): 1310, ('forev', 392): 1311, ('commerci', 392): 1312, ('teacher', 391): 1313, ('held', 391): 1314, ('surround', 391): 1315, ('segment', 391): 1316, ('zero', 390): 1317, ('blond', 390): 1318, ('trap', 389): 1319, ('summer', 389): 1320, ('satir', 389): 1321, ('resembl', 389): 1322, ('ball', 388): 1323, ('queen', 388): 1324, ('six', 388): 1325, ('fool', 388): 1326, ('tragedi', 387): 1327, ('twice', 387): 1328, ('sub', 387): 1329, ('pack', 386): 1330, ('reaction', 386): 1331, ('bomb', 385): 1332, ('will', 384): 1333, ('protagonist', 384): 1334, ('hospit', 384): 1335, ('mile', 383): 1336, ('sport', 383): 1337, ('mom', 382): 1338, ('vote', 382): 1339, ('trust', 382): 1340, ('drink', 382): 1341, ('jerri', 382): 1342, ('encount', 381): 1343, ('plane', 380): 1344, ('current', 379): 1345, ('program', 379): 1346, ('station', 379): 1347, ('al', 379): 1348, ('martin', 378): 1349, ('celebr', 378): 1350, ('choos', 378): 1351, ('join', 377): 1352, ('tragic', 376): 1353, ('round', 376): 1354, ('lord', 376): 1355, ('favourit', 376): 1356, ('field', 376): 1357, ('vision', 375): 1358, ('jean', 375): 1359, ('robot', 375): 1360, ('arthur', 374): 1361, ('tie', 374): 1362, ('random', 373): 1363, ('fortun', 373): 1364, ('roger', 373): 1365, ('intern', 372): 1366, ('dread', 372): 1367, ('psycholog', 372): 1368, ('nonsens', 371): 1369, ('epic', 371): 1370, ('improv', 371): 1371, ('prefer', 371): 1372, ('formula', 370): 1373, ('pleasur', 370): 1374, ('legend', 370): 1375, ('highlight', 370): 1376, ('tape', 369): 1377, ('dollar', 369): 1378, ('11', 369): 1379, ('porn', 368): 1380, ('wide', 368): 1381, ('object', 368): 1382, ('gorgeou', 368): 1383, ('thin', 368): 1384, ('fox', 368): 1385, ('ugli', 367): 1386, ('influenc', 367): 1387, ('buddi', 367): 1388, ('nasti', 366): 1389, ('ii', 366): 1390, ('prepar', 366): 1391, ('supposedli', 365): 1392, ('reflect', 365): 1393, ('warm', 365): 1394, ('progress', 365): 1395, ('youth', 364): 1396, ('worthi', 364): 1397, ('unusu', 362): 1398, ('latter', 362): 1399, ('length', 362): 1400, ('crash', 361): 1401, ('shop', 360): 1402, ('superior', 360): 1403, ('seven', 360): 1404, ('childhood', 360): 1405, ('theatr', 359): 1406, ('remot', 359): 1407, ('disgust', 358): 1408, ('paid', 358): 1409, ('funniest', 358): 1410, ('pilot', 358): 1411, ('fell', 357): 1412, ('convers', 357): 1413, ('trick', 357): 1414, ('castl', 357): 1415, ('rob', 356): 1416, ('gangster', 356): 1417, ('establish', 356): 1418, ('disast', 356): 1419, ('disappear', 355): 1420, ('ident', 355): 1421, ('mine', 355): 1422, ('heaven', 355): 1423, ('suicid', 355): 1424, ('heroin', 353): 1425, ('mask', 353): 1426, ('forgotten', 353): 1427, ('singer', 353): 1428, ('tend', 353): 1429, ('decis', 353): 1430, ('brian', 352): 1431, ('partner', 352): 1432, ('desert', 351): 1433, ('recogn', 351): 1434, ('alan', 351): 1435, ('thoroughli', 350): 1436, ('sky', 350): 1437, ('ms', 350): 1438, ('p', 350): 1439, ('stuck', 350): 1440, ('replac', 349): 1441, ('accur', 349): 1442, ('market', 348): 1443, ('eddi', 347): 1444, ('uncl', 347): 1445, ('commentari', 347): 1446, ('seemingli', 347): 1447, ('andi', 347): 1448, ('danni', 347): 1449, ('clue', 347): 1450, ('devil', 346): 1451, ('jackson', 346): 1452, ('therefor', 345): 1453, ('pair', 345): 1454, ('refus', 345): 1455, ('that', 345): 1456, ('river', 344): 1457, ('unit', 344): 1458, ('ed', 344): 1459, ('accid', 344): 1460, ('fate', 344): 1461, ('fault', 344): 1462, ('afraid', 343): 1463, ('tune', 343): 1464, ('hidden', 342): 1465, ('clean', 342): 1466, ('stephen', 342): 1467, ('russian', 342): 1468, ('irrit', 341): 1469, ('test', 341): 1470, ('quick', 341): 1471, ('captain', 341): 1472, ('readi', 341): 1473, ('convey', 341): 1474, ('instanc', 341): 1475, ('european', 340): 1476, ('frustrat', 339): 1477, ('insan', 339): 1478, ('daniel', 339): 1479, ('chines', 338): 1480, ('wed', 338): 1481, ('1950', 338): 1482, ('rescu', 338): 1483, ('food', 338): 1484, ('dirti', 337): 1485, ('lock', 337): 1486, ('angri', 337): 1487, ('joy', 336): 1488, ('steven', 335): 1489, ('price', 335): 1490, ('cage', 334): 1491, ('bland', 334): 1492, ('anymor', 333): 1493, ('rang', 333): 1494, ('wooden', 332): 1495, ('jason', 331): 1496, ('rush', 331): 1497, ('news', 331): 1498, ('n', 331): 1499, ('12', 330): 1500, ('worri', 330): 1501, ('twenti', 330): 1502, ('led', 330): 1503, ('martial', 330): 1504, ('board', 330): 1505, ('symbol', 329): 1506, ('hunter', 329): 1507, ('transform', 329): 1508, ('cgi', 329): 1509, ('sentiment', 328): 1510, ('onto', 328): 1511, ('invent', 328): 1512, ('johnni', 328): 1513, ('x', 328): 1514, ('piti', 328): 1515, ('explan', 327): 1516, ('process', 327): 1517, ('attitud', 327): 1518, ('awar', 326): 1519, ('owner', 326): 1520, ('aim', 325): 1521, ('floor', 324): 1522, ('favor', 324): 1523, ('necessari', 324): 1524, ('target', 324): 1525, ('energi', 324): 1526, ('opposit', 323): 1527, ('religi', 323): 1528, ('insight', 322): 1529, ('chick', 322): 1530, ('window', 322): 1531, ('blind', 322): 1532, ('movement', 321): 1533, ('mountain', 320): 1534, ('deepli', 320): 1535, ('possess', 320): 1536, ('comparison', 320): 1537, ('research', 320): 1538, ('grand', 319): 1539, ('whatsoev', 319): 1540, ('comed', 319): 1541, ('rain', 319): 1542, ('began', 318): 1543, ('mid', 318): 1544, ('shadow', 318): 1545, ('bank', 318): 1546, ('princ', 317): 1547, ('parodi', 317): 1548, ('friendship', 316): 1549, ('credibl', 316): 1550, ('pre', 316): 1551, ('weapon', 316): 1552, ('taylor', 316): 1553, ('flesh', 315): 1554, ('teach', 315): 1555, ('dougla', 315): 1556, ('terror', 314): 1557, ('hint', 314): 1558, ('bloodi', 314): 1559, ('protect', 314): 1560, ('marvel', 312): 1561, ('watchabl', 311): 1562, ('anybodi', 311): 1563, ('drunk', 311): 1564, ('accord', 311): 1565, ('load', 311): 1566, ('leader', 311): 1567, ('superman', 311): 1568, ('brown', 310): 1569, ('freddi', 310): 1570, ('appropri', 309): 1571, ('tim', 309): 1572, ('hitler', 309): 1573, ('jeff', 309): 1574, ('seat', 309): 1575, ('charg', 308): 1576, ('unknown', 308): 1577, ('knock', 308): 1578, ('villag', 308): 1579, ('keaton', 308): 1580, ('empti', 307): 1581, ('enemi', 307): 1582, ('media', 307): 1583, ('england', 307): 1584, ('unnecessari', 307): 1585, ('perspect', 306): 1586, ('buck', 306): 1587, ('utter', 306): 1588, ('dare', 306): 1589, ('wave', 306): 1590, ('strength', 306): 1591, ('craft', 306): 1592, ('kiss', 305): 1593, ('contrast', 305): 1594, ('ford', 305): 1595, ('correct', 305): 1596, ('nativ', 305): 1597, ('speed', 304): 1598, ('chill', 304): 1599, ('nazi', 304): 1600, ('soap', 304): 1601, ('magnific', 304): 1602, ('distract', 304): 1603, ('anywher', 304): 1604, ('knowledg', 304): 1605, ('mission', 303): 1606, ('breath', 303): 1607, ('1980', 303): 1608, ('ice', 303): 1609, ('fred', 303): 1610, ('joan', 302): 1611, ('moon', 302): 1612, ('crowd', 302): 1613, ('jr', 302): 1614, ('soft', 301): 1615, ('000', 301): 1616, ('kate', 301): 1617, ('frighten', 301): 1618, ('hundr', 300): 1619, ('nick', 300): 1620, ('dan', 300): 1621, ('dick', 300): 1622, ('somebodi', 299): 1623, ('radio', 299): 1624, ('simon', 299): 1625, ('dozen', 299): 1626, ('thousand', 298): 1627, ('shakespear', 298): 1628, ('academi', 298): 1629, ('loss', 298): 1630, ('andrew', 298): 1631, ('quot', 297): 1632, ('root', 297): 1633, ('account', 297): 1634, ('sum', 297): 1635, ('vehicl', 297): 1636, ('leg', 296): 1637, ('1970', 296): 1638, ('behavior', 296): 1639, ('convent', 296): 1640, ('gold', 295): 1641, ('regular', 295): 1642, ('demand', 294): 1643, ('pretenti', 294): 1644, ('compet', 294): 1645, ('worker', 294): 1646, ('lynch', 293): 1647, ('privat', 293): 1648, ('interpret', 293): 1649, ('japan', 293): 1650, ('candi', 293): 1651, ('notabl', 293): 1652, ('explos', 293): 1653, ('stretch', 293): 1654, ('constant', 292): 1655, ('debut', 292): 1656, ('tarzan', 292): 1657, ('spi', 291): 1658, ('translat', 291): 1659, ('revolv', 291): 1660, ('prais', 291): 1661, ('sea', 291): 1662, ('quiet', 290): 1663, ('franc', 290): 1664, ('jesu', 290): 1665, ('ass', 290): 1666, ('sat', 290): 1667, ('technolog', 290): 1668, ('threaten', 290): 1669, ('failur', 290): 1670, ('higher', 289): 1671, ('met', 289): 1672, ('toy', 289): 1673, ('kevin', 289): 1674, ('aid', 289): 1675, ('punch', 289): 1676, ('vh', 288): 1677, ('interact', 288): 1678, ('abandon', 288): 1679, ('mike', 288): 1680, ('bet', 287): 1681, ('confront', 287): 1682, ('separ', 287): 1683, ('command', 287): 1684, ('stunt', 286): 1685, ('belong', 286): 1686, ('gotten', 286): 1687, ('servic', 286): 1688, ('recal', 286): 1689, ('site', 286): 1690, ('techniqu', 286): 1691, ('freak', 285): 1692, ('cabl', 285): 1693, ('bug', 285): 1694, ('foot', 285): 1695, ('jimmi', 284): 1696, ('bright', 284): 1697, ('african', 284): 1698, ('capabl', 284): 1699, ('fu', 284): 1700, ('boat', 283): 1701, ('fat', 283): 1702, ('stock', 283): 1703, ('succeed', 283): 1704, ('presid', 283): 1705, ('clark', 283): 1706, ('spanish', 282): 1707, ('structur', 282): 1708, ('gene', 282): 1709, ('kidnap', 281): 1710, ('paper', 281): 1711, ('whilst', 280): 1712, ('factor', 280): 1713, ('belief', 280): 1714, ('realism', 279): 1715, ('realis', 279): 1716, ('complic', 279): 1717, ('bob', 279): 1718, ('attend', 279): 1719, ('witti', 279): 1720, ('educ', 279): 1721, ('tree', 279): 1722, ('santa', 278): 1723, ('finest', 278): 1724, ('assist', 278): 1725, ('broken', 278): 1726, ('smoke', 277): 1727, ('determin', 277): 1728, ('depart', 277): 1729, ('v', 277): 1730, ('up', 277): 1731, ('observ', 277): 1732, ('rubbish', 276): 1733, ('fame', 276): 1734, ('domin', 276): 1735, ('oper', 276): 1736, ('hat', 276): 1737, ('lewi', 276): 1738, ('routin', 276): 1739, ('lone', 275): 1740, ('foreign', 275): 1741, ('hook', 275): 1742, ('advanc', 275): 1743, ('kinda', 275): 1744, ('safe', 275): 1745, ('morgan', 275): 1746, ('rank', 274): 1747, ('numer', 274): 1748, ('shape', 273): 1749, ('rose', 273): 1750, ('shallow', 273): 1751, ('vs', 273): 1752, ('civil', 273): 1753, ('werewolf', 273): 1754, ('washington', 273): 1755, ('morn', 272): 1756, ('gari', 272): 1757, ('accomplish', 271): 1758, ('ordinari', 271): 1759, ('kong', 271): 1760, ('winner', 271): 1761, ('peac', 270): 1762, ('whenev', 270): 1763, ('virtual', 270): 1764, ('grab', 270): 1765, ('luck', 269): 1766, ('offens', 269): 1767, ('h', 269): 1768, ('welcom', 268): 1769, ('unfunni', 268): 1770, ('contriv', 268): 1771, ('patient', 268): 1772, ('bigger', 268): 1773, ('complain', 268): 1774, ('activ', 268): 1775, ('pretend', 267): 1776, ('con', 267): 1777, ('trek', 267): 1778, ('dimension', 267): 1779, ('lesbian', 266): 1780, ('cain', 266): 1781, ('dri', 266): 1782, ('eric', 266): 1783, ('wake', 266): 1784, ('code', 266): 1785, ('flash', 266): 1786, ('dancer', 265): 1787, ('guard', 265): 1788, ('statu', 265): 1789, ('corrupt', 265): 1790, ('albert', 265): 1791, ('manipul', 265): 1792, ('context', 264): 1793, ('signific', 264): 1794, ('awkward', 264): 1795, ('sourc', 264): 1796, ('gain', 264): 1797, ('speech', 264): 1798, ('13', 263): 1799, ('sean', 263): 1800, ('psycho', 263): 1801, ('anthoni', 263): 1802, ('corni', 263): 1803, ('clip', 263): 1804, ('curiou', 262): 1805, ('reli', 262): 1806, ('religion', 262): 1807, ('priest', 262): 1808, ('theatric', 262): 1809, ('advic', 262): 1810, ('w', 262): 1811, ('addict', 261): 1812, ('flow', 261): 1813, ('howard', 260): 1814, ('jennif', 260): 1815, ('asian', 260): 1816, ('specif', 260): 1817, ('skin', 260): 1818, ('secur', 260): 1819, ('organ', 259): 1820, ('luke', 259): 1821, ('promot', 259): 1822, ('core', 259): 1823, ('golden', 259): 1824, ('comfort', 259): 1825, ('cash', 258): 1826, ('lucki', 258): 1827, ('cheat', 258): 1828, ('dislik', 257): 1829, ('associ', 257): 1830, ('lower', 257): 1831, ('degre', 256): 1832, ('frankli', 256): 1833, ('devic', 256): 1834, ('balanc', 256): 1835, ('regret', 256): 1836, ('contribut', 256): 1837, ('spell', 256): 1838, ('frequent', 256): 1839, ('wing', 256): 1840, ('sake', 255): 1841, ('forgiv', 255): 1842, ('print', 255): 1843, ('lake', 255): 1844, ('thoma', 254): 1845, ('betti', 254): 1846, ('mass', 254): 1847, ('gordon', 253): 1848, ('crack', 253): 1849, ('unexpect', 253): 1850, ('grown', 252): 1851, ('depend', 252): 1852, ('amateur', 252): 1853, ('unfold', 252): 1854, ('invit', 252): 1855, ('construct', 252): 1856, ('categori', 252): 1857, ('matur', 251): 1858, ('grew', 251): 1859, ('walter', 251): 1860, ('anna', 251): 1861, ('intellectu', 251): 1862, ('honor', 251): 1863, ('condit', 251): 1864, ('sudden', 250): 1865, ('sole', 250): 1866, ('mirror', 250): 1867, ('veteran', 250): 1868, ('spectacular', 250): 1869, ('gift', 249): 1870, ('meanwhil', 249): 1871, ('overli', 249): 1872, ('demonstr', 249): 1873, ('freedom', 249): 1874, ('experienc', 249): 1875, ('grip', 249): 1876, ('robin', 249): 1877, ('card', 249): 1878, ('liner', 249): 1879, ('colour', 248): 1880, ('brilliantli', 248): 1881, ('unabl', 248): 1882, ('theori', 248): 1883, ('oliv', 248): 1884, ('circumst', 248): 1885, ('crappi', 248): 1886, ('drew', 248): 1887, ('sheriff', 248): 1888, ('subtitl', 248): 1889, ('section', 248): 1890, ('sheer', 247): 1891, ('laughter', 247): 1892, ('pile', 247): 1893, ('matt', 247): 1894, ('path', 247): 1895, ('parker', 247): 1896, ('altern', 247): 1897, ('cook', 247): 1898, ('defin', 246): 1899, ('hall', 246): 1900, ('accident', 246): 1901, ('lawyer', 246): 1902, ('relief', 246): 1903, ('wander', 246): 1904, ('sinatra', 246): 1905, ('treatment', 246): 1906, ('dragon', 245): 1907, ('hank', 245): 1908, ('captiv', 245): 1909, ('gratuit', 244): 1910, ('halloween', 244): 1911, ('moor', 244): 1912, ('k', 243): 1913, ('barbara', 243): 1914, ('wayn', 243): 1915, ('wound', 243): 1916, ('cowboy', 243): 1917, ('broadway', 243): 1918, ('unintent', 243): 1919, ('jacki', 243): 1920, ('kung', 243): 1921, ('statement', 242): 1922, ('surreal', 242): 1923, ('canadian', 242): 1924, ('winter', 242): 1925, ('spoof', 242): 1926, ('cheer', 241): 1927, ('fish', 241): 1928, ('compos', 241): 1929, ('treasur', 241): 1930, ('gonna', 241): 1931, ('fare', 241): 1932, ('unrealist', 240): 1933, ('victor', 240): 1934, ('emerg', 240): 1935, ('woodi', 240): 1936, ('sensit', 240): 1937, ('ran', 239): 1938, ('neighbor', 239): 1939, ('sympathet', 239): 1940, ('driven', 239): 1941, ('overlook', 238): 1942, ('authent', 238): 1943, ('topic', 238): 1944, ('menac', 238): 1945, ('expos', 238): 1946, ('glass', 238): 1947, ('handsom', 237): 1948, ('gross', 237): 1949, ('chief', 237): 1950, ('michel', 237): 1951, ('ancient', 237): 1952, ('pleasant', 236): 1953, ('stranger', 236): 1954, ('cinderella', 236): 1955, ('built', 236): 1956, ('feet', 236): 1957, ('contemporari', 236): 1958, ('nevertheless', 236): 1959, ('network', 236): 1960, ('comedian', 236): 1961, ('russel', 236): 1962, ('gori', 235): 1963, ('consider', 235): 1964, ('blockbust', 235): 1965, ('underr', 235): 1966, ('letter', 235): 1967, ('endless', 235): 1968, ('earn', 235): 1969, ('miser', 235): 1970, ('brook', 234): 1971, ('solv', 234): 1972, ('switch', 234): 1973, ('convict', 233): 1974, ('edward', 233): 1975, ('bullet', 233): 1976, ('virgin', 233): 1977, ('joseph', 233): 1978, ('victoria', 233): 1979, ('chosen', 232): 1980, ('scenario', 232): 1981, ('scale', 232): 1982, ('alex', 232): 1983, ('cynic', 232): 1984, ('0', 232): 1985, ('outrag', 231): 1986, ('sword', 231): 1987, ('curs', 231): 1988, ('com', 231): 1989, ('gut', 231): 1990, ('screenwrit', 230): 1991, ('uk', 230): 1992, ('wrap', 230): 1993, ('juli', 230): 1994, ('driver', 230): 1995, ('substanc', 230): 1996, ('monkey', 230): 1997, ('proper', 230): 1998, ('remov', 229): 1999, ('indic', 229): 2000, ('bird', 229): 2001, ('par', 229): 2002, ('court', 229): 2003, ('grave', 228): 2004, ('nanci', 228): 2005, ('roy', 228): 2006, ('naiv', 228): 2007, ('inevit', 228): 2008, ('advertis', 228): 2009, ('rental', 228): 2010, ('consequ', 228): 2011, ('loser', 228): 2012, ('slap', 227): 2013, ('germani', 227): 2014, ('fatal', 227): 2015, ('le', 227): 2016, ('invis', 227): 2017, ('brave', 227): 2018, ('bridg', 227): 2019, ('provok', 226): 2020, ('anger', 226): 2021, ('footbal', 226): 2022, ('loui', 226): 2023, ('ador', 226): 2024, ('alcohol', 225): 2025, ('anderson', 225): 2026, ('chan', 225): 2027, ('stumbl', 224): 2028, ('ryan', 224): 2029, ('professor', 224): 2030, ('willi', 224): 2031, ('australian', 223): 2032, ('sharp', 223): 2033, ('patrick', 223): 2034, ('assassin', 223): 2035, ('1930', 223): 2036, ('bat', 223): 2037, ('saturday', 222): 2038, ('strongli', 222): 2039, ('trilog', 222): 2040, ('refresh', 222): 2041, ('heck', 222): 2042, ('liber', 222): 2043, ('deni', 222): 2044, ('lousi', 222): 2045, ('amateurish', 222): 2046, ('cell', 222): 2047, ('eight', 222): 2048, ('ape', 222): 2049, ('sin', 221): 2050, ('resid', 220): 2051, ('san', 220): 2052, ('vagu', 220): 2053, ('justifi', 220): 2054, ('mini', 219): 2055, ('indi', 219): 2056, ('reput', 219): 2057, ('creator', 219): 2058, ('defeat', 219): 2059, ('terrifi', 219): 2060, ('sympathi', 219): 2061, ('expert', 218): 2062, ('prevent', 218): 2063, ('endur', 218): 2064, ('tediou', 218): 2065, ('tabl', 218): 2066, ('task', 218): 2067, ('imit', 217): 2068, ('trial', 217): 2069, ('rival', 217): 2070, ('offend', 217): 2071, ('employ', 217): 2072, ('che', 217): 2073, ('basebal', 217): 2074, ('beach', 216): 2075, ('complaint', 216): 2076, ('pitch', 216): 2077, ('weekend', 216): 2078, ('fairi', 216): 2079, ('europ', 216): 2080, ('max', 216): 2081, ('dig', 216): 2082, ('murphi', 215): 2083, ('purchas', 215): 2084, ('format', 215): 2085, ('risk', 215): 2086, ('reminisc', 214): 2087, ('harsh', 214): 2088, ('nois', 214): 2089, ('titan', 214): 2090, ('powel', 214): 2091, ('tini', 214): 2092, ('glimps', 214): 2093, ('bite', 214): 2094, ('hype', 214): 2095, ('asleep', 213): 2096, ('north', 213): 2097, ('fals', 213): 2098, ('till', 213): 2099, ('strip', 213): 2100, ('prime', 213): 2101, ('14', 213): 2102, ('destruct', 212): 2103, ('africa', 212): 2104, ('revel', 212): 2105, ('descript', 212): 2106, ('texa', 212): 2107, ('uninterest', 211): 2108, ('inner', 211): 2109, ('surfac', 211): 2110, ('arrest', 211): 2111, ('semi', 211): 2112, ('excess', 211): 2113, ('sitcom', 211): 2114, ('spin', 211): 2115, ('twin', 210): 2116, ('massiv', 210): 2117, ('argu', 210): 2118, ('maintain', 210): 2119, ('hitchcock', 210): 2120, ('dinosaur', 210): 2121, ('makeup', 210): 2122, ('controversi', 210): 2123, ('expens', 209): 2124, ('kim', 209): 2125, ('melodrama', 209): 2126, ('ideal', 209): 2127, ('reject', 209): 2128, ('stare', 209): 2129, ('ludicr', 209): 2130, ('insist', 209): 2131, ('nail', 208): 2132, ('erot', 208): 2133, ('ga', 208): 2134, ('press', 208): 2135, ('forest', 208): 2136, ('supernatur', 208): 2137, ('host', 208): 2138, ('ala', 208): 2139, ('subplot', 208): 2140, ('atroci', 208): 2141, ('columbo', 208): 2142, ('dude', 207): 2143, ('identifi', 207): 2144, ('presum', 207): 2145, ('notch', 207): 2146, ('cant', 207): 2147, ('character', 206): 2148, ('plagu', 206): 2149, ('guest', 206): 2150, ('crude', 206): 2151, ('method', 206): 2152, ('forgett', 206): 2153, ('closer', 206): 2154, ('border', 205): 2155, ('ear', 205): 2156, ('beast', 205): 2157, ('lion', 205): 2158, ('landscap', 205): 2159, ('foster', 205): 2160, ('princess', 205): 2161, ('damag', 204): 2162, ('pacino', 204): 2163, ('previous', 204): 2164, ('urban', 204): 2165, ('bound', 204): 2166, ('storytel', 204): 2167, ('accus', 204): 2168, ('birth', 204): 2169, ('jungl', 204): 2170, ('aunt', 204): 2171, ('guid', 203): 2172, ('nude', 203): 2173, ('jess', 203): 2174, ('propaganda', 203): 2175, ('doll', 203): 2176, ('thirti', 203): 2177, ('chose', 203): 2178, ('emma', 203): 2179, ('25', 202): 2180, ('mainstream', 202): 2181, ('whoever', 202): 2182, ('mate', 202): 2183, ('pet', 202): 2184, ('warrior', 202): 2185, ('size', 201): 2186, ('poster', 201): 2187, ('latest', 201): 2188, ('exact', 201): 2189, ('cooper', 201): 2190, ('friday', 201): 2191, ('gritti', 201): 2192, ('upset', 201): 2193, ('merit', 201): 2194, ('deadli', 201): 2195, ('1990', 200): 2196, ('sun', 200): 2197, ('corps', 200): 2198, ('contact', 200): 2199, ('buff', 200): 2200, ('warner', 200): 2201, ('popul', 200): 2202, ('rough', 200): 2203, ('citizen', 200): 2204, ('settl', 200): 2205, ('wilson', 200): 2206, ('ton', 200): 2207, ('blend', 200): 2208, ('contest', 200): 2209, ('mgm', 199): 2210, ('metal', 199): 2211, ('alic', 199): 2212, ('environ', 199): 2213, ('bu', 199): 2214, ('pitt', 199): 2215, ('widow', 199): 2216, ('select', 199): 2217, ('overcom', 199): 2218, ('rat', 199): 2219, ('lift', 198): 2220, ('ted', 198): 2221, ('particip', 198): 2222, ('guilti', 198): 2223, ('revolut', 198): 2224, ('link', 198): 2225, ('accompani', 197): 2226, ('matrix', 197): 2227, ('moron', 197): 2228, ('1960', 197): 2229, ('corpor', 197): 2230, ('exagger', 197): 2231, ('corner', 197): 2232, ('johnson', 197): 2233, ('afternoon', 197): 2234, ('prostitut', 197): 2235, ('leagu', 196): 2236, ('sincer', 196): 2237, ('hood', 196): 2238, ('multipl', 196): 2239, ('clair', 196): 2240, ('holm', 196): 2241, ('instal', 196): 2242, ('friendli', 196): 2243, ('doom', 196): 2244, ('blah', 195): 2245, ('examin', 195): 2246, ('defend', 195): 2247, ('irish', 195): 2248, ('hip', 195): 2249, ('string', 195): 2250, ('aka', 195): 2251, ('advis', 195): 2252, ('junk', 195): 2253, ('sunday', 195): 2254, ('campi', 195): 2255, ('grim', 195): 2256, ('lugosi', 195): 2257, ('shake', 194): 2258, ('shut', 194): 2259, ('icon', 194): 2260, ('confid', 194): 2261, ('pro', 194): 2262, ('varieti', 194): 2263, ('rachel', 194): 2264, ('tight', 194): 2265, ('attach', 193): 2266, ('goal', 193): 2267, ('medic', 193): 2268, ('directli', 193): 2269, ('jaw', 193): 2270, ('denni', 193): 2271, ('sullivan', 193): 2272, ('mexican', 193): 2273, ('truck', 192): 2274, ('vietnam', 192): 2275, ('legendari', 192): 2276, ('courag', 192): 2277, ('terrorist', 192): 2278, ('sarah', 192): 2279, ('prior', 192): 2280, ('dean', 192): 2281, ('sentenc', 192): 2282, ('duke', 192): 2283, ('breast', 192): 2284, ('bourn', 192): 2285, ('yell', 191): 2286, ('behav', 191): 2287, ('proceed', 191): 2288, ('donald', 191): 2289, ('nose', 191): 2290, ('hong', 191): 2291, ('split', 191): 2292, ('entri', 191): 2293, ('un', 191): 2294, ('confess', 190): 2295, ('everywher', 190): 2296, ('lifetim', 190): 2297, ('swim', 190): 2298, ('concentr', 190): 2299, ('borrow', 190): 2300, ('stolen', 190): 2301, ('unconvinc', 190): 2302, ('gather', 190): 2303, ('jerk', 190): 2304, ('forth', 190): 2305, ('buri', 190): 2306, ('crush', 190): 2307, ('lip', 189): 2308, ('pan', 189): 2309, ('deliveri', 189): 2310, ('julia', 189): 2311, ('turkey', 189): 2312, ('spite', 189): 2313, ('california', 189): 2314, ('proud', 188): 2315, ('china', 188): 2316, ('reward', 188): 2317, ('hoffman', 188): 2318, ('flight', 188): 2319, ('offici', 188): 2320, ('quest', 188): 2321, ('downright', 188): 2322, ('freeman', 188): 2323, ('sir', 187): 2324, ('worthwhil', 187): 2325, ('jail', 187): 2326, ('sink', 187): 2327, ('betray', 187): 2328, ('fade', 187): 2329, ('lazi', 187): 2330, ('fabul', 187): 2331, ('jon', 187): 2332, ('inept', 187): 2333, ('notori', 187): 2334, ('encourag', 187): 2335, ('storm', 186): 2336, ('shower', 186): 2337, ('survivor', 186): 2338, ('branagh', 186): 2339, ('lisa', 186): 2340, ('bell', 186): 2341, ('retard', 186): 2342, ('teeth', 186): 2343, ('relev', 186): 2344, ('imageri', 186): 2345, ('susan', 186): 2346, ('bag', 186): 2347, ('cousin', 186): 2348, ('mexico', 185): 2349, ('bride', 185): 2350, ('trade', 185): 2351, ('quirki', 185): 2352, ('stab', 185): 2353, ('finger', 185): 2354, ('shark', 185): 2355, ('toler', 185): 2356, ('facial', 185): 2357, ('summari', 185): 2358, ('tremend', 185): 2359, ('hugh', 185): 2360, ('alright', 185): 2361, ('bitter', 184): 2362, ('blown', 184): 2363, ('hyster', 184): 2364, ('von', 184): 2365, ('ha', 184): 2366, ('pose', 184): 2367, ('address', 183): 2368, ('larri', 183): 2369, ('cruel', 183): 2370, ('bone', 183): 2371, ('christ', 183): 2372, ('scheme', 183): 2373, ('ron', 183): 2374, ('ned', 183): 2375, ('afterward', 183): 2376, ('screw', 182): 2377, ('distinct', 182): 2378, ('tour', 182): 2379, ('swear', 182): 2380, ('pursu', 182): 2381, ('beg', 182): 2382, ('snake', 182): 2383, ('feed', 182): 2384, ('thumb', 182): 2385, ('traci', 182): 2386, ('photo', 181): 2387, ('raw', 181): 2388, ('obscur', 181): 2389, ('occas', 181): 2390, ('mechan', 181): 2391, ('stomach', 181): 2392, ('chair', 181): 2393, ('sidney', 180): 2394, ('holiday', 180): 2395, ('chain', 180): 2396, ('cabin', 180): 2397, ('necessarili', 180): 2398, ('render', 180): 2399, ('heavili', 180): 2400, ('resist', 180): 2401, ('gruesom', 180): 2402, ('hardi', 180): 2403, ('southern', 180): 2404, ('argument', 180): 2405, ('racist', 179): 2406, ('satan', 179): 2407, ('india', 179): 2408, ('indulg', 179): 2409, ('understood', 179): 2410, ('philip', 179): 2411, ('integr', 178): 2412, ('tongu', 178): 2413, ('belov', 178): 2414, ('outfit', 178): 2415, ('obnoxi', 178): 2416, ('stalk', 178): 2417, ('pregnant', 178): 2418, ('fourth', 178): 2419, ('midnight', 178): 2420, ('forgot', 178): 2421, ('lay', 178): 2422, ('slapstick', 177): 2423, ('17', 177): 2424, ('deeper', 177): 2425, ('magazin', 177): 2426, ('carol', 177): 2427, ('ticket', 177): 2428, ('inhabit', 177): 2429, ('garden', 177): 2430, ('restor', 177): 2431, ('lincoln', 176): 2432, ('devot', 176): 2433, ('shoe', 176): 2434, ('brad', 176): 2435, ('incid', 176): 2436, ('guarante', 175): 2437, ('underground', 175): 2438, ('elizabeth', 175): 2439, ('anticip', 175): 2440, ('disbelief', 175): 2441, ('benefit', 175): 2442, ('maria', 175): 2443, ('divorc', 175): 2444, ('sandler', 175): 2445, ('lili', 175): 2446, ('capit', 174): 2447, ('slave', 174): 2448, ('princip', 174): 2449, ('greater', 174): 2450, ('amazingli', 174): 2451, ('creation', 174): 2452, ('mildli', 174): 2453, ('cring', 174): 2454, ('bbc', 174): 2455, ('explod', 174): 2456, ('introduct', 173): 2457, ('extraordinari', 173): 2458, ('lesli', 173): 2459, ('funnier', 173): 2460, ('halfway', 173): 2461, ('enhanc', 172): 2462, ('advantag', 172): 2463, ('wreck', 172): 2464, ('punish', 172): 2465, ('tap', 172): 2466, ('transfer', 172): 2467, ('overwhelm', 172): 2468, ('extent', 172): 2469, ('text', 172): 2470, ('horrif', 171): 2471, ('preview', 171): 2472, ('deliber', 171): 2473, ('error', 171): 2474, ('plant', 171): 2475, ('east', 171): 2476, ('lane', 171): 2477, ('dynam', 171): 2478, ('jessica', 171): 2479, ('lo', 171): 2480, ('sophist', 170): 2481, ('ensu', 170): 2482, ('miller', 170): 2483, ('miscast', 170): 2484, ('2000', 170): 2485, ('homosexu', 170): 2486, ('vincent', 170): 2487, ('appli', 170): 2488, ('vacat', 170): 2489, ('basi', 170): 2490, ('extend', 169): 2491, ('elev', 169): 2492, ('reed', 169): 2493, ('via', 169): 2494, ('sleazi', 169): 2495, ('uncomfort', 169): 2496, ('measur', 169): 2497, ('steel', 169): 2498, ('spoken', 169): 2499, ('mansion', 169): 2500, ('bollywood', 169): 2501, ('alter', 168): 2502, ('fix', 168): 2503, ('conceiv', 168): 2504, ('hippi', 168): 2505, ('blair', 168): 2506, ('beer', 168): 2507, ('mous', 168): 2508, ('breathtak', 168): 2509, ('assign', 168): 2510, ('overact', 168): 2511, ('dentist', 168): 2512, ('goofi', 168): 2513, ('melt', 168): 2514, ('savag', 168): 2515, ('daili', 168): 2516, ('stanley', 168): 2517, ('cathol', 168): 2518, ('succe', 167): 2519, ('sacrific', 167): 2520, ('subsequ', 167): 2521, ('everyday', 167): 2522, ('inspector', 167): 2523, ('oppos', 167): 2524, ('properli', 167): 2525, ('burt', 167): 2526, ('carpent', 167): 2527, ('nowaday', 167): 2528, ('massacr', 166): 2529, ('block', 166): 2530, ('neck', 166): 2531, ('circl', 166): 2532, ('laura', 166): 2533, ('concert', 165): 2534, ('portrait', 165): 2535, ('pool', 165): 2536, ('christi', 165): 2537, ('lesser', 165): 2538, ('fallen', 165): 2539, ('grey', 165): 2540, ('mob', 165): 2541, ('fay', 165): 2542, ('access', 165): 2543, ('seagal', 165): 2544, ('chees', 164): 2545, ('sinist', 164): 2546, ('relax', 164): 2547, ('jewish', 164): 2548, ('isol', 164): 2549, ('react', 164): 2550, ('competit', 164): 2551, ('jake', 164): 2552, ('usa', 164): 2553, ('nonetheless', 163): 2554, ('appal', 163): 2555, ('2006', 163): 2556, ('lyric', 163): 2557, ('nine', 163): 2558, ('suitabl', 163): 2559, ('chop', 163): 2560, ('ironi', 163): 2561, ('stink', 163): 2562, ('immens', 163): 2563, ('spiritu', 163): 2564, ('creep', 163): 2565, ('franchis', 162): 2566, ('adopt', 162): 2567, ('navi', 162): 2568, ('luci', 162): 2569, ('spring', 162): 2570, ('user', 162): 2571, ('retir', 162): 2572, ('shirt', 162): 2573, ('sold', 162): 2574, ('reduc', 162): 2575, ('showcas', 162): 2576, ('rage', 162): 2577, ('needless', 162): 2578, ('nut', 162): 2579, ('zone', 161): 2580, ('asham', 161): 2581, ('nurs', 161): 2582, ('digit', 161): 2583, ('jay', 161): 2584, ('per', 161): 2585, ('bath', 161): 2586, ('uninspir', 161): 2587, ('bulli', 161): 2588, ('stanwyck', 161): 2589, ('laid', 160): 2590, ('amongst', 160): 2591, ('broadcast', 160): 2592, ('2001', 160): 2593, ('sutherland', 160): 2594, ('illustr', 160): 2595, ('1940', 160): 2596, ('upper', 160): 2597, ('oddli', 160): 2598, ('fulfil', 159): 2599, ('baker', 159): 2600, ('throat', 159): 2601, ('disguis', 159): 2602, ('aspir', 159): 2603, ('brando', 159): 2604, ('stylish', 159): 2605, ('pride', 158): 2606, ('pound', 158): 2607, ('thief', 158): 2608, ('em', 158): 2609, ('wwii', 158): 2610, ('nobl', 158): 2611, ('wanna', 158): 2612, ('impli', 158): 2613, ('neighborhood', 158): 2614, ('endear', 158): 2615, ('18', 158): 2616, ('shift', 157): 2617, ('shoulder', 157): 2618, ('cinematograph', 157): 2619, ('16', 157): 2620, ('distribut', 157): 2621, ('tens', 157): 2622, ('dinner', 157): 2623, ('albeit', 157): 2624, ('rochest', 157): 2625, ('prop', 157): 2626, ('diseas', 157): 2627, ('dawn', 157): 2628, ('coher', 157): 2629, ('bett', 157): 2630, ('bo', 157): 2631, ('snow', 156): 2632, ('wash', 156): 2633, ('shout', 156): 2634, ('function', 156): 2635, ('contract', 156): 2636, ('silenc', 156): 2637, ('rebel', 156): 2638, ('matthau', 156): 2639, ('forti', 156): 2640, ('poignant', 156): 2641, ('knife', 156): 2642, ('surf', 156): 2643, ('eeri', 155): 2644, ('cannib', 155): 2645, ('mindless', 155): 2646, ('duti', 155): 2647, ('silver', 155): 2648, ('cancel', 155): 2649, ('instinct', 155): 2650, ('derek', 155): 2651, ('height', 155): 2652, ('horrend', 155): 2653, ('reunion', 155): 2654, ('henc', 155): 2655, ('internet', 155): 2656, ('heat', 155): 2657, ('proof', 155): 2658, ('chuck', 155): 2659, ('widmark', 155): 2660, ('elvira', 155): 2661, ('musician', 154): 2662, ('torn', 154): 2663, ('alik', 154): 2664, ('innov', 154): 2665, ('mill', 154): 2666, ('repetit', 154): 2667, ('absorb', 154): 2668, ('elvi', 154): 2669, ('etern', 154): 2670, ('premier', 154): 2671, ('incoher', 154): 2672, ('glori', 154): 2673, ('neat', 154): 2674, ('pie', 154): 2675, ('greatli', 154): 2676, ('spielberg', 154): 2677, ('nelson', 153): 2678, ('racism', 153): 2679, ('infam', 153): 2680, ('blank', 153): 2681, ('redempt', 153): 2682, ('crisi', 153): 2683, ('homag', 153): 2684, ('fbi', 153): 2685, ('announc', 153): 2686, ('precis', 153): 2687, ('trite', 153): 2688, ('bang', 153): 2689, ('burton', 153): 2690, ('diamond', 153): 2691, ('lovabl', 153): 2692, ('horrifi', 153): 2693, ('britain', 153): 2694, ('itali', 153): 2695, ('wealthi', 153): 2696, ('helen', 152): 2697, ('ensembl', 152): 2698, ('streisand', 152): 2699, ('hammer', 152): 2700, ('dedic', 152): 2701, ('chaplin', 152): 2702, ('happili', 152): 2703, ('wilder', 152): 2704, ('flop', 152): 2705, ('resolut', 152): 2706, ('parallel', 152): 2707, ('pat', 152): 2708, ('conclud', 151): 2709, ('disagre', 151): 2710, ('triumph', 151): 2711, ('broke', 151): 2712, ('factori', 151): 2713, ('st', 151): 2714, ('mar', 151): 2715, ('oil', 151): 2716, ('cube', 151): 2717, ('carter', 151): 2718, ('plastic', 151): 2719, ('chuckl', 150): 2720, ('own', 150): 2721, ('fighter', 150): 2722, ('row', 150): 2723, ('weight', 150): 2724, ('climb', 150): 2725, ('bush', 150): 2726, ('rocket', 150): 2727, ('march', 150): 2728, ('vega', 150): 2729, ('meaning', 149): 2730, ('unforgett', 149): 2731, ('thug', 149): 2732, ('dump', 149): 2733, ('enorm', 149): 2734, ('wherea', 149): 2735, ('mst3k', 149): 2736, ('sensibl', 149): 2737, ('lust', 149): 2738, ('boot', 149): 2739, ('dane', 149): 2740, ('kurt', 149): 2741, ('spare', 149): 2742, ('luca', 149): 2743, ('caricatur', 148): 2744, ('rap', 148): 2745, ('arnold', 148): 2746, ('bobbi', 148): 2747, ('brand', 148): 2748, ('dear', 148): 2749, ('engin', 148): 2750, ('difficulti', 148): 2751, ('stress', 148): 2752, ('fifti', 148): 2753, ('karloff', 148): 2754, ('threat', 148): 2755, ('adequ', 148): 2756, ('butt', 148): 2757, ('secretari', 147): 2758, ('hamlet', 147): 2759, ('ego', 147): 2760, ('journalist', 147): 2761, ('ralph', 147): 2762, ('fest', 147): 2763, ('arrog', 147): 2764, ('barri', 147): 2765, ('swing', 147): 2766, ('polish', 147): 2767, ('homeless', 147): 2768, ('flynn', 147): 2769, ('elabor', 147): 2770, ('spike', 146): 2771, ('arrang', 146): 2772, ('induc', 146): 2773, ('unbear', 146): 2774, ('grate', 146): 2775, ('puppet', 146): 2776, ('conspiraci', 146): 2777, ('resort', 146): 2778, ('simpson', 146): 2779, ('fanci', 146): 2780, ('float', 146): 2781, ('tool', 146): 2782, ('pig', 145): 2783, ('basement', 145): 2784, ('cruis', 145): 2785, ('phillip', 145): 2786, ('tribut', 145): 2787, ('exercis', 145): 2788, ('boll', 145): 2789, ('choreograph', 145): 2790, ('guilt', 145): 2791, ('muppet', 145): 2792, ('ham', 144): 2793, ('24', 144): 2794, ('slip', 144): 2795, ('toilet', 144): 2796, ('editor', 144): 2797, ('puzzl', 144): 2798, ('korean', 144): 2799, ('ward', 144): 2800, ('document', 144): 2801, ('stan', 144): 2802, ('file', 144): 2803, ('babe', 144): 2804, ('item', 144): 2805, ('layer', 144): 2806, ('tower', 144): 2807, ('medium', 144): 2808, ('fianc', 144): 2809, ('scarecrow', 144): 2810, ('larger', 143): 2811, ('librari', 143): 2812, ('philosoph', 143): 2813, ('territori', 143): 2814, ('assur', 143): 2815, ('inexplic', 143): 2816, ('orient', 143): 2817, ('superfici', 143): 2818, ('glover', 143): 2819, ('doc', 143): 2820, ('portion', 143): 2821, ('transit', 143): 2822, ('catherin', 143): 2823, ('minim', 143): 2824, ('slaughter', 143): 2825, ('spark', 143): 2826, ('denzel', 143): 2827, ('persona', 143): 2828, ('pg', 142): 2829, ('jeremi', 142): 2830, ('financi', 142): 2831, ('dorothi', 142): 2832, ('sneak', 142): 2833, ('curti', 142): 2834, ('shi', 142): 2835, ('ban', 142): 2836, ('walken', 142): 2837, ('boredom', 142): 2838, ('wolf', 142): 2839, ('jet', 142): 2840, ('owe', 142): 2841, ('cusack', 141): 2842, ('ambigu', 141): 2843, ('multi', 141): 2844, ('backdrop', 141): 2845, ('metaphor', 141): 2846, ('eleph', 141): 2847, ('whale', 141): 2848, ('profound', 141): 2849, ('hudson', 141): 2850, ('rave', 140): 2851, ('hack', 140): 2852, ('notion', 140): 2853, ('elsewher', 140): 2854, ('stiff', 140): 2855, ('implaus', 140): 2856, ('gadget', 140): 2857, ('union', 140): 2858, ('2005', 140): 2859, ('viru', 140): 2860, ('birthday', 140): 2861, ('ultra', 140): 2862, ('distanc', 139): 2863, ('urg', 139): 2864, ('bibl', 139): 2865, ('reader', 139): 2866, ('deriv', 139): 2867, ('1st', 139): 2868, ('afford', 139): 2869, ('pad', 139): 2870, ('canada', 139): 2871, ('newspap', 139): 2872, ('slight', 139): 2873, ('eva', 139): 2874, ('eastwood', 139): 2875, ('squar', 139): 2876, ('lloyd', 139): 2877, ('poison', 139): 2878, ('hawk', 139): 2879, ('superhero', 139): 2880, ('disc', 139): 2881, ('essenc', 138): 2882, ('cure', 138): 2883, ('drown', 138): 2884, ('health', 138): 2885, ('heston', 138): 2886, ('huh', 138): 2887, ('spread', 138): 2888, ('skit', 138): 2889, ('charisma', 138): 2890, ('restaur', 138): 2891, ('sadist', 138): 2892, ('button', 138): 2893, ('montag', 138): 2894, ('peak', 137): 2895, ('companion', 137): 2896, ('estat', 137): 2897, ('godfath', 137): 2898, ('gradual', 137): 2899, ('maniac', 137): 2900, ('fetch', 137): 2901, ('muslim', 137): 2902, ('dealt', 137): 2903, ('scoobi', 137): 2904, ('invest', 137): 2905, ('lab', 137): 2906, ('ritter', 136): 2907, ('cup', 136): 2908, ('tea', 136): 2909, ('gothic', 136): 2910, ('countless', 136): 2911, ('alli', 136): 2912, ('kane', 136): 2913, ('servant', 136): 2914, ('subtleti', 136): 2915, ('miik', 136): 2916, ('salli', 135): 2917, ('briefli', 135): 2918, ('charismat', 135): 2919, ('iii', 135): 2920, ('heroic', 135): 2921, ('electr', 135): 2922, ('elect', 135): 2923, ('wannab', 134): 2924, ('neil', 134): 2925, ('tender', 134): 2926, ('admittedli', 134): 2927, ('reel', 134): 2928, ('toss', 134): 2929, ('bud', 134): 2930, ('nuanc', 134): 2931, ('resourc', 134): 2932, ('cole', 134): 2933, ('ingredi', 134): 2934, ('grandmoth', 134): 2935, ('poverti', 133): 2936, ('stood', 133): 2937, ('pauli', 133): 2938, ('mafia', 133): 2939, ('reev', 133): 2940, ('shall', 133): 2941, ('mild', 133): 2942, ('gate', 133): 2943, ('dawson', 133): 2944, ('kubrick', 133): 2945, ('pit', 133): 2946, ('punk', 133): 2947, ('label', 133): 2948, ('stronger', 133): 2949, ('carrey', 133): 2950, ('useless', 132): 2951, ('assault', 132): 2952, ('cardboard', 132): 2953, ('ian', 132): 2954, ('terri', 132): 2955, ('outcom', 132): 2956, ('burst', 132): 2957, ('easier', 132): 2958, ('fond', 132): 2959, ('cox', 132): 2960, ('smooth', 132): 2961, ('smash', 132): 2962, ('updat', 132): 2963, ('tag', 132): 2964, ('bakshi', 132): 2965, ('astair', 132): 2966, ('vulner', 131): 2967, ('sketch', 131): 2968, ('coincid', 131): 2969, ('melodramat', 131): 2970, ('qualifi', 131): 2971, ('vari', 131): 2972, ('increasingli', 131): 2973, ('divers', 131): 2974, ('exchang', 131): 2975, ('samurai', 131): 2976, ('fist', 131): 2977, ('resolv', 131): 2978, ('2002', 131): 2979, ('rex', 131): 2980, ('insert', 130): 2981, ('reynold', 130): 2982, ('tame', 130): 2983, ('brillianc', 130): 2984, ('luckili', 130): 2985, ('be', 130): 2986, ('suspend', 130): 2987, ('conveni', 130): 2988, ('blast', 130): 2989, ('scratch', 130): 2990, ('templ', 130): 2991, ('walker', 129): 2992, ('hamilton', 129): 2993, ('gotta', 129): 2994, ('coach', 129): 2995, ('meat', 129): 2996, ('soprano', 129): 2997, ('seventi', 129): 2998, ('pin', 129): 2999, ('matthew', 129): 3000, ('strictli', 129): 3001, ('jami', 129): 3002, ('ambiti', 129): 3003, ('nuclear', 129): 3004, ('farm', 129): 3005, ('fisher', 129): 3006, ('closet', 128): 3007, ('worthless', 128): 3008, ('butcher', 128): 3009, ('cave', 128): 3010, ('discoveri', 128): 3011, ('kudo', 128): 3012, ('convolut', 128): 3013, ('grasp', 128): 3014, ('spooki', 128): 3015, ('clock', 128): 3016, ('recreat', 128): 3017, ('instantli', 128): 3018, ('revers', 128): 3019, ('ninja', 128): 3020, ('timeless', 128): 3021, ('joey', 128): 3022, ('eccentr', 128): 3023, ('struck', 128): 3024, ('monk', 128): 3025, ('empir', 128): 3026, ('brosnan', 128): 3027, ('partli', 127): 3028, ('importantli', 127): 3029, ('clown', 127): 3030, ('wipe', 127): 3031, ('gray', 127): 3032, ('pal', 127): 3033, ('norman', 127): 3034, ('sidekick', 127): 3035, ('cliff', 127): 3036, ('miracl', 127): 3037, ('declar', 127): 3038, ('seller', 127): 3039, ('eighti', 127): 3040, ('evok', 127): 3041, ('communist', 127): 3042, ('sloppi', 127): 3043, ('selfish', 127): 3044, ('bleak', 127): 3045, ('mitchel', 127): 3046, ('inconsist', 127): 3047, ('fifteen', 127): 3048, ('enthusiast', 126): 3049, ('destin', 126): 3050, ('flawless', 126): 3051, ('superbl', 126): 3052, ('psychiatrist', 126): 3053, ('websit', 126): 3054, ('australia', 126): 3055, ('lifestyl', 126): 3056, ('aforement', 126): 3057, ('cheek', 126): 3058, ('seed', 126): 3059, ('debat', 126): 3060, ('farc', 126): 3061, ('45', 126): 3062, ('piano', 126): 3063, ('chew', 126): 3064, ('stoog', 126): 3065, ('ho', 126): 3066, ('regardless', 125): 3067, ('drivel', 125): 3068, ('incompet', 125): 3069, ('directori', 125): 3070, ('pressur', 125): 3071, ('kitchen', 125): 3072, ('bash', 125): 3073, ('splatter', 125): 3074, ('soviet', 125): 3075, ('emili', 125): 3076, ('wick', 125): 3077, ('dash', 125): 3078, ('anni', 125): 3079, ('akshay', 125): 3080, ('dire', 125): 3081, ('wrestl', 125): 3082, ('slice', 125): 3083, ('abc', 125): 3084, ('suppli', 124): 3085, ('seduc', 124): 3086, ('flower', 124): 3087, ('dave', 124): 3088, ('duo', 124): 3089, ('curios', 124): 3090, ('blob', 124): 3091, ('judi', 124): 3092, ('helicopt', 124): 3093, ('prize', 124): 3094, ('beaten', 124): 3095, ('cagney', 124): 3096, ('pleasantli', 124): 3097, ('increas', 124): 3098, ('boil', 124): 3099, ('jar', 124): 3100, ('chapter', 124): 3101, ('distant', 124): 3102, ('artifici', 124): 3103, ('mann', 124): 3104, ('ken', 124): 3105, ('glow', 124): 3106, ('cia', 124): 3107, ('cameron', 124): 3108, ('lou', 124): 3109, ('doo', 124): 3110, ('recov', 124): 3111, ('perri', 123): 3112, ('turner', 123): 3113, ('francisco', 123): 3114, ('splendid', 123): 3115, ('hop', 123): 3116, ('psychot', 123): 3117, ('web', 123): 3118, ('laurel', 123): 3119, ('drunken', 123): 3120, ('ellen', 123): 3121, ('favour', 123): 3122, ('craig', 123): 3123, ('goldberg', 123): 3124, ('glenn', 123): 3125, ('ranger', 123): 3126, ('panic', 123): 3127, ('craven', 123): 3128, ('combat', 123): 3129, ('eleg', 123): 3130, ('hatr', 122): 3131, ('20th', 122): 3132, ('fx', 122): 3133, ('shortli', 122): 3134, ('philosophi', 122): 3135, ('rid', 122): 3136, ('slightest', 122): 3137, ('wizard', 122): 3138, ('graduat', 122): 3139, ('min', 122): 3140, ('greek', 122): 3141, ('plausibl', 122): 3142, ('flip', 122): 3143, ('gentl', 122): 3144, ('alexand', 122): 3145, ('gandhi', 122): 3146, ('falk', 122): 3147, ('ruth', 122): 3148, ('modesti', 122): 3149, ('preciou', 121): 3150, ('futurist', 121): 3151, ('harm', 121): 3152, ('lend', 121): 3153, ('dracula', 121): 3154, ('jealou', 121): 3155, ('knight', 121): 3156, ('holi', 121): 3157, ('legal', 121): 3158, ('fund', 121): 3159, ('unpleas', 121): 3160, ('tall', 121): 3161, ('manhattan', 121): 3162, ('we', 121): 3163, ('ocean', 121): 3164, ('felix', 121): 3165, ('mock', 120): 3166, ('ami', 120): 3167, ('thread', 120): 3168, ('digniti', 120): 3169, ('forbidden', 120): 3170, ('childish', 120): 3171, ('explicit', 120): 3172, ('tank', 120): 3173, ('bless', 120): 3174, ('overdon', 120): 3175, ('reviv', 120): 3176, ('scientif', 120): 3177, ('nod', 120): 3178, ('giallo', 120): 3179, ('fever', 119): 3180, ('nerv', 119): 3181, ('elderli', 119): 3182, ('2004', 119): 3183, ('yesterday', 119): 3184, ('broad', 119): 3185, ('awe', 119): 3186, ('repeatedli', 119): 3187, ('99', 119): 3188, ('awaken', 119): 3189, ('verhoeven', 119): 3190, ('thick', 119): 3191, ('torment', 119): 3192, ('eve', 119): 3193, ('pirat', 119): 3194, ('unwatch', 119): 3195, ('mel', 119): 3196, ('margaret', 119): 3197, ('romero', 118): 3198, ('absenc', 118): 3199, ('ah', 118): 3200, ('royal', 118): 3201, ('griffith', 118): 3202, ('stiller', 118): 3203, ('automat', 118): 3204, ('lean', 118): 3205, ('rivet', 118): 3206, ('timothi', 118): 3207, ('publish', 118): 3208, ('custom', 118): 3209, ('uniform', 118): 3210, ('bin', 118): 3211, ('ambit', 118): 3212, ('launch', 118): 3213, ('eas', 118): 3214, ('kay', 118): 3215, ('politician', 118): 3216, ('roman', 118): 3217, ('acclaim', 118): 3218, ('pierc', 117): 3219, ('stinker', 117): 3220, ('sunshin', 117): 3221, ('antic', 117): 3222, ('gabriel', 117): 3223, ('termin', 117): 3224, ('purpl', 117): 3225, ('warren', 117): 3226, ('homicid', 117): 3227, ('transport', 117): 3228, ('wallac', 117): 3229, ('foul', 117): 3230, ('phrase', 117): 3231, ('bathroom', 117): 3232, ('tomato', 117): 3233, ('darker', 117): 3234, ('crook', 117): 3235, ('pulp', 117): 3236, ('ought', 116): 3237, ('q', 116): 3238, ('brazil', 116): 3239, ('2003', 116): 3240, ('packag', 116): 3241, ('kenneth', 116): 3242, ('karen', 116): 3243, ('juvenil', 116): 3244, ('li', 116): 3245, ('hollow', 116): 3246, ('choreographi', 116): 3247, ('donna', 116): 3248, ('contrari', 116): 3249, ('saint', 116): 3250, ('evolv', 116): 3251, ('marin', 116): 3252, ('pray', 116): 3253, ('viciou', 116): 3254, ('awak', 116): 3255, ('prom', 116): 3256, ('rambo', 116): 3257, ('revolutionari', 116): 3258, ('sixti', 116): 3259, ('coloni', 116): 3260, ('horrid', 116): 3261, ('album', 116): 3262, ('eyr', 116): 3263, ('blade', 115): 3264, ('dose', 115): 3265, ('candid', 115): 3266, ('boast', 115): 3267, ('conserv', 115): 3268, ('kapoor', 115): 3269, ('twelv', 115): 3270, ('ireland', 115): 3271, ('defi', 115): 3272, ('mummi', 115): 3273, ('beatti', 115): 3274, ('option', 115): 3275, ('stole', 115): 3276, ('overr', 115): 3277, ('nerd', 115): 3278, ('mildr', 115): 3279, ('ramon', 115): 3280, ('confirm', 114): 3281, ('protest', 114): 3282, ('funer', 114): 3283, ('altman', 114): 3284, ('astonish', 114): 3285, ('jazz', 114): 3286, ('fulci', 114): 3287, ('collabor', 114): 3288, ('trio', 114): 3289, ('detract', 114): 3290, ('global', 114): 3291, ('kirk', 114): 3292, ('flame', 114): 3293, ('natali', 114): 3294, ('destini', 113): 3295, ('delici', 113): 3296, ('blake', 113): 3297, ('spit', 113): 3298, ('bottl', 113): 3299, ('nicholson', 113): 3300, ('yellow', 113): 3301, ('leap', 113): 3302, ('shade', 113): 3303, ('whip', 113): 3304, ('tommi', 113): 3305, ('audio', 113): 3306, ('mystic', 113): 3307, ('racial', 113): 3308, ('enterpris', 113): 3309, ('bull', 113): 3310, ('fonda', 112): 3311, ('enchant', 112): 3312, ('meaningless', 112): 3313, ('vivid', 112): 3314, ('reunit', 112): 3315, ('staff', 112): 3316, ('todd', 112): 3317, ('threw', 112): 3318, ('pseudo', 112): 3319, ('adolesc', 112): 3320, ('merci', 112): 3321, ('neo', 112): 3322, ('bedroom', 112): 3323, ('visibl', 112): 3324, ('inherit', 112): 3325, ('swedish', 112): 3326, ('altogeth', 112): 3327, ('popcorn', 112): 3328, ('harder', 112): 3329, ('respond', 111): 3330, ('await', 111): 3331, ('decor', 111): 3332, ('reserv', 111): 3333, ('edi', 111): 3334, ('suspici', 111): 3335, ('ruthless', 111): 3336, ('madonna', 111): 3337, ('lemmon', 111): 3338, ('jew', 111): 3339, ('bust', 111): 3340, ('lawrenc', 111): 3341, ('wire', 111): 3342, ('tip', 111): 3343, ('voight', 111): 3344, ('exhibit', 111): 3345, ('fanat', 111): 3346, ('roommat', 111): 3347, ('uneven', 111): 3348, ('moodi', 111): 3349, ('synopsi', 111): 3350, ('befriend', 111): 3351, ('kennedi', 111): 3352, ('atlanti', 111): 3353, ('crocodil', 111): 3354, ('leonard', 111): 3355, ('audit', 110): 3356, ('incident', 110): 3357, ('garner', 110): 3358, ('carl', 110): 3359, ('clumsi', 110): 3360, ('ventur', 110): 3361, ('unsettl', 110): 3362, ('2007', 110): 3363, ('abysm', 110): 3364, ('bargain', 110): 3365, ('bold', 110): 3366, ('centr', 110): 3367, ('chao', 110): 3368, ('clint', 110): 3369, ('holli', 110): 3370, ('bradi', 110): 3371, ('dimens', 110): 3372, ('palma', 110): 3373, ('voyag', 110): 3374, ('rural', 110): 3375, ('hart', 109): 3376, ('daddi', 109): 3377, ('2nd', 109): 3378, ('echo', 109): 3379, ('nearbi', 109): 3380, ('acknowledg', 109): 3381, ('characterist', 109): 3382, ('neglect', 109): 3383, ('imperson', 109): 3384, ('trail', 109): 3385, ('wealth', 109): 3386, ('cd', 109): 3387, ('humili', 109): 3388, ('lit', 109): 3389, ('timon', 109): 3390, ('cuba', 109): 3391, ('cari', 109): 3392, ('poetic', 109): 3393, ('elimin', 109): 3394, ('tiger', 109): 3395, ('versu', 109): 3396, ('troop', 109): 3397, ('immigr', 109): 3398, ('mall', 109): 3399, ('ant', 109): 3400, ('homer', 108): 3401, ('prejudic', 108): 3402, ('repuls', 108): 3403, ('pun', 108): 3404, ('mistaken', 108): 3405, ('mickey', 108): 3406, ('infect', 108): 3407, ('solo', 108): 3408, ('marshal', 108): 3409, ('collaps', 108): 3410, ('domest', 108): 3411, ('saga', 108): 3412, ('celluloid', 108): 3413, ('jeffrey', 108): 3414, ('paus', 108): 3415, ('apolog', 107): 3416, ('olivi', 107): 3417, ('promin', 107): 3418, ('sore', 107): 3419, ('milk', 107): 3420, ('hbo', 107): 3421, ('harvey', 107): 3422, ('interrupt', 107): 3423, ('pant', 107): 3424, ('assembl', 107): 3425, ('inappropri', 107): 3426, ('leon', 107): 3427, ('cake', 107): 3428, ('coat', 107): 3429, ('chest', 107): 3430, ('inan', 107): 3431, ('1996', 107): 3432, ('gear', 107): 3433, ('tribe', 107): 3434, ('equip', 107): 3435, ('coffe', 107): 3436, ('undoubtedli', 107): 3437, ('ginger', 107): 3438, ('embrac', 106): 3439, ('retain', 106): 3440, ('primari', 106): 3441, ('florida', 106): 3442, ('maggi', 106): 3443, ('jenni', 106): 3444, ('pot', 106): 3445, ('instant', 106): 3446, ('institut', 106): 3447, ('colleagu', 106): 3448, ('pen', 106): 3449, ('exot', 106): 3450, ('furthermor', 106): 3451, ('airplan', 106): 3452, ('humbl', 106): 3453, ('consum', 106): 3454, ('trace', 106): 3455, ('solut', 106): 3456, ('highest', 106): 3457, ('brooklyn', 106): 3458, ('aveng', 106): 3459, ('devast', 106): 3460, ('colonel', 106): 3461, ('vulgar', 106): 3462, ('polanski', 106): 3463, ('linda', 105): 3464, ('1999', 105): 3465, ('dian', 105): 3466, ('descend', 105): 3467, ('dutch', 105): 3468, ('seduct', 105): 3469, ('principl', 105): 3470, ('strain', 105): 3471, ('ya', 105): 3472, ('cope', 105): 3473, ('poke', 105): 3474, ('outer', 105): 3475, ('3rd', 105): 3476, ('sale', 105): 3477, ('illog', 105): 3478, ('gender', 105): 3479, ('disabl', 105): 3480, ('smaller', 105): 3481, ('wive', 105): 3482, ('godzilla', 105): 3483, ('bowl', 105): 3484, ('rick', 105): 3485, ('primarili', 104): 3486, ('devoid', 104): 3487, ('rabbit', 104): 3488, ('predecessor', 104): 3489, ('secondli', 104): 3490, ('cue', 104): 3491, ('dud', 104): 3492, ('beneath', 104): 3493, ('dive', 104): 3494, ('bubbl', 104): 3495, ('vast', 104): 3496, ('hal', 104): 3497, ('yard', 104): 3498, ('blatant', 104): 3499, ('mixtur', 104): 3500, ('gloriou', 104): 3501, ('scope', 104): 3502, ('glamor', 104): 3503, ('inferior', 104): 3504, ('lol', 104): 3505, ('gundam', 104): 3506, ('disjoint', 103): 3507, ('hideou', 103): 3508, ('april', 103): 3509, ('senseless', 103): 3510, ('alfr', 103): 3511, ('museum', 103): 3512, ('casual', 103): 3513, ('myer', 103): 3514, ('invas', 103): 3515, ('pearl', 103): 3516, ('arab', 103): 3517, ('aggress', 103): 3518, ('trademark', 103): 3519, ('countrysid', 103): 3520, ('z', 103): 3521, ('breed', 103): 3522, ('streep', 103): 3523, ('simplist', 103): 3524, ('talki', 103): 3525, ('et', 103): 3526, ('shirley', 103): 3527, ('alert', 103): 3528, ('grinch', 103): 3529, ('shelf', 103): 3530, ('garbo', 103): 3531, ('domino', 103): 3532, ('experiment', 102): 3533, ('robinson', 102): 3534, ('applaud', 102): 3535, ('sh', 102): 3536, ('khan', 102): 3537, ('loyal', 102): 3538, ('defens', 102): 3539, ('mail', 102): 3540, ('stellar', 102): 3541, ('obtain', 102): 3542, ('oz', 102): 3543, ('hardcor', 102): 3544, ('stir', 102): 3545, ('stack', 102): 3546, ('hopeless', 102): 3547, ('vanish', 102): 3548, ('uwe', 102): 3549, ('boom', 102): 3550, ('slide', 102): 3551, ('acid', 102): 3552, ('rendit', 102): 3553, ('robberi', 102): 3554, ('illeg', 102): 3555, ('maci', 102): 3556, ('disgrac', 102): 3557, ('unhappi', 102): 3558, ('mayor', 102): 3559, ('berlin', 101): 3560, ('topless', 101): 3561, ('tenant', 101): 3562, ('amanda', 101): 3563, ('recruit', 101): 3564, ('spider', 101): 3565, ('declin', 101): 3566, ('span', 101): 3567, ('emphasi', 101): 3568, ('craze', 101): 3569, ('counter', 101): 3570, ('tempt', 101): 3571, ('wont', 101): 3572, ('rifl', 101): 3573, ('soccer', 101): 3574, ('dismiss', 101): 3575, ('grandfath', 101): 3576, ('blew', 101): 3577, ('fri', 101): 3578, ('dicken', 101): 3579, ('diana', 101): 3580, ('psychic', 101): 3581, ('hartley', 101): 3582, ('incomprehens', 101): 3583, ('scroog', 101): 3584, ('sibl', 100): 3585, ('bitch', 100): 3586, ('porno', 100): 3587, ('goer', 100): 3588, ('ration', 100): 3589, ('resurrect', 100): 3590, ('faster', 100): 3591, ('niro', 100): 3592, ('intim', 100): 3593, ('ethnic', 100): 3594, ('wet', 100): 3595, ('shaw', 100): 3596, ('sympath', 100): 3597, ('trashi', 100): 3598, ('parad', 100): 3599, ('woo', 100): 3600, ('riot', 100): 3601, ('shed', 100): 3602, ('justin', 100): 3603, ('revolt', 100): 3604, ('lumet', 100): 3605, ('farmer', 99): 3606, ('nephew', 99): 3607, ('andr', 99): 3608, ('rider', 99): 3609, ('patriot', 99): 3610, ('commend', 99): 3611, ('unreal', 99): 3612, ('wheel', 99): 3613, ('worm', 99): 3614, ('partial', 99): 3615, ('hesit', 99): 3616, ('mario', 99): 3617, ('enlighten', 99): 3618, ('weakest', 99): 3619, ('wendi', 99): 3620, ('feminist', 99): 3621, ('gap', 99): 3622, ('region', 99): 3623, ('00', 99): 3624, ('eager', 99): 3625, ('ensur', 99): 3626, ('immort', 99): 3627, ('jonathan', 99): 3628, ('ballet', 99): 3629, ('steam', 99): 3630, ('slick', 99): 3631, ('honesti', 99): 3632, ('dealer', 99): 3633, ('biographi', 99): 3634, ('hopper', 99): 3635, ('lena', 99): 3636, ('choru', 99): 3637, ('prequel', 98): 3638, ('vice', 98): 3639, ('owen', 98): 3640, ('franco', 98): 3641, ('sandra', 98): 3642, ('sappi', 98): 3643, ('morri', 98): 3644, ('hung', 98): 3645, ('util', 98): 3646, ('skull', 98): 3647, ('snap', 98): 3648, ('safeti', 98): 3649, ('mutant', 98): 3650, ('similarli', 98): 3651, ('leo', 98): 3652, ('nostalg', 98): 3653, ('properti', 98): 3654, ('psychopath', 98): 3655, ('wore', 98): 3656, ('composit', 98): 3657, ('kingdom', 98): 3658, ('blunt', 98): 3659, ('charlott', 98): 3660, ('victori', 98): 3661, ('repress', 98): 3662, ('confin', 98): 3663, ('macarthur', 98): 3664, ('tad', 97): 3665, ('pattern', 97): 3666, ('miseri', 97): 3667, ('hyde', 97): 3668, ('emperor', 97): 3669, ('strand', 97): 3670, ('kyle', 97): 3671, ('nervou', 97): 3672, ('1972', 97): 3673, ('acquir', 97): 3674, ('drain', 97): 3675, ('despair', 97): 3676, ('farrel', 97): 3677, ('dust', 97): 3678, ('snl', 97): 3679, ('valuabl', 97): 3680, ('bow', 97): 3681, ('deed', 97): 3682, ('rocki', 97): 3683, ('cg', 97): 3684, ('rope', 97): 3685, ('speci', 97): 3686, ('compens', 97): 3687, ('thru', 97): 3688, ('whoopi', 97): 3689, ('compass', 97): 3690, ('repli', 97): 3691, ('bumbl', 97): 3692, ('heartbreak', 97): 3693, ('exit', 97): 3694, ('rambl', 97): 3695, ('dalton', 97): 3696, ('recycl', 97): 3697, ('tail', 97): 3698, ('latin', 97): 3699, ('montana', 97): 3700, ('drum', 97): 3701, ('del', 97): 3702, ('bergman', 97): 3703, ('bonu', 97): 3704, ('campbel', 97): 3705, ('radic', 96): 3706, ('roth', 96): 3707, ('pour', 96): 3708, ('rapist', 96): 3709, ('romp', 96): 3710, ('bleed', 96): 3711, ('contempl', 96): 3712, ('35', 96): 3713, ('gal', 96): 3714, ('olli', 96): 3715, ('percept', 96): 3716, ('airport', 96): 3717, ('slug', 96): 3718, ('martian', 96): 3719, ('carradin', 96): 3720, ('wacki', 96): 3721, ('tonight', 96): 3722, ('oppress', 96): 3723, ('mistress', 96): 3724, ('gimmick', 96): 3725, ('da', 96): 3726, ('chess', 96): 3727, ('rotten', 96): 3728, ('orson', 96): 3729, ('downhil', 96): 3730, ('taught', 95): 3731, ('slash', 95): 3732, ('pervert', 95): 3733, ('champion', 95): 3734, ('heal', 95): 3735, ('pursuit', 95): 3736, ('melodi', 95): 3737, ('shelley', 95): 3738, ('mislead', 95): 3739, ('pervers', 95): 3740, ('stilt', 95): 3741, ('arc', 95): 3742, ('belt', 95): 3743, ('banal', 95): 3744, ('dazzl', 95): 3745, ('paltrow', 95): 3746, ('arguabl', 95): 3747, ('programm', 95): 3748, ('edgar', 95): 3749, ('1983', 95): 3750, ('tooth', 95): 3751, ('attorney', 95): 3752, ('preach', 95): 3753, ('tackl', 95): 3754, ('unpredict', 95): 3755, ('maid', 94): 3756, ('employe', 94): 3757, ('rubi', 94): 3758, ('orang', 94): 3759, ('passeng', 94): 3760, ('plight', 94): 3761, ('franki', 94): 3762, ('vocal', 94): 3763, ('cleverli', 94): 3764, ('conneri', 94): 3765, ('duval', 94): 3766, ('gambl', 94): 3767, ('poem', 94): 3768, ('closest', 94): 3769, ('dixon', 94): 3770, ('marti', 94): 3771, ('mesmer', 94): 3772, ('vengeanc', 94): 3773, ('uplift', 94): 3774, ('chicken', 94): 3775, ('virginia', 94): 3776, ('bela', 94): 3777, ('raymond', 94): 3778, ('graham', 94): 3779, ('sensat', 94): 3780, ('tiresom', 94): 3781, ('numb', 93): 3782, ('extens', 93): 3783, ('suffic', 93): 3784, ('climact', 93): 3785, ('whine', 93): 3786, ('abraham', 93): 3787, ('gerard', 93): 3788, ('volum', 93): 3789, ('monologu', 93): 3790, ('giggl', 93): 3791, ('crystal', 93): 3792, ('swallow', 93): 3793, ('paranoia', 93): 3794, ('scottish', 93): 3795, ('engross', 93): 3796, ('calm', 93): 3797, ('inject', 93): 3798, ('habit', 93): 3799, ('yawn', 93): 3800, ('pokemon', 93): 3801, ('outing', 93): 3802, ('secretli', 93): 3803, ('tube', 93): 3804, ('1968', 93): 3805, ('clone', 93): 3806, ('iran', 93): 3807, ('mute', 93): 3808, ('bay', 93): 3809, ('amitabh', 93): 3810, ('convincingli', 93): 3811, ('profan', 93): 3812, ('quarter', 93): 3813, ('lundgren', 93): 3814, ('sirk', 93): 3815, ('im', 92): 3816, ('expand', 92): 3817, ('ethan', 92): 3818, ('profess', 92): 3819, ('chicago', 92): 3820, ('plod', 92): 3821, ('earl', 92): 3822, ('meander', 92): 3823, ('richardson', 92): 3824, ('septemb', 92): 3825, ('franci', 92): 3826, ('grotesqu', 92): 3827, ('lowest', 92): 3828, ('austen', 92): 3829, ('bend', 92): 3830, ('dispos', 92): 3831, ('trend', 92): 3832, ('underst', 92): 3833, ('backward', 92): 3834, ('taxi', 92): 3835, ('junior', 92): 3836, ('nichola', 92): 3837, ('surpass', 92): 3838, ('abort', 92): 3839, ('spock', 92): 3840, ('fed', 92): 3841, ('poetri', 92): 3842, ('linger', 92): 3843, ('frankenstein', 92): 3844, ('rant', 91): 3845, ('simplic', 91): 3846, ('muddl', 91): 3847, ('stallon', 91): 3848, ('cannon', 91): 3849, ('compliment', 91): 3850, ('sue', 91): 3851, ('dysfunct', 91): 3852, ('lure', 91): 3853, ('literatur', 91): 3854, ('catchi', 91): 3855, ('tourist', 91): 3856, ('instrument', 91): 3857, ('hum', 91): 3858, ('nostalgia', 91): 3859, ('household', 91): 3860, ('greedi', 91): 3861, ('spoke', 91): 3862, ('mundan', 91): 3863, ('waitress', 91): 3864, ('rubber', 91): 3865, ('der', 91): 3866, ('econom', 91): 3867, ('myth', 91): 3868, ('eugen', 91): 3869, ('descent', 91): 3870, ('occupi', 90): 3871, ('june', 90): 3872, ('insur', 90): 3873, ('crucial', 90): 3874, ('coast', 90): 3875, ('recognit', 90): 3876, ('deaf', 90): 3877, ('hello', 90): 3878, ('firstli', 90): 3879, ('bacal', 90): 3880, ('recognis', 90): 3881, ('eaten', 90): 3882, ('mortal', 90): 3883, ('louis', 90): 3884, ('map', 90): 3885, ('equival', 90): 3886, ('phoni', 90): 3887, ('cent', 90): 3888, ('phantom', 90): 3889, ('sissi', 90): 3890, ('irrelev', 90): 3891, ('dictat', 90): 3892, ('dement', 90): 3893, ('molli', 90): 3894, ('carel', 90): 3895, ('stale', 90): 3896, ('lang', 90): 3897, ('flee', 90): 3898, ('furi', 90): 3899, ('duck', 90): 3900, ('alongsid', 90): 3901, ('mankind', 90): 3902, ('damon', 90): 3903, ('omen', 90): 3904, ('randi', 90): 3905, ('freez', 89): 3906, ('newli', 89): 3907, ('blackmail', 89): 3908, ('drake', 89): 3909, ('lengthi', 89): 3910, ('ashley', 89): 3911, ('onlin', 89): 3912, ('wisdom', 89): 3913, ('rude', 89): 3914, ('heel', 89): 3915, ('labor', 89): 3916, ('daisi', 89): 3917, ('distinguish', 89): 3918, ('buffalo', 89): 3919, ('likewis', 89): 3920, ('1973', 89): 3921, ('dreari', 89): 3922, ('grayson', 89): 3923, ('bike', 89): 3924, ('twilight', 89): 3925, ('damm', 89): 3926, ('biko', 89): 3927, ('bump', 89): 3928, ('loyalti', 89): 3929, ('antwon', 89): 3930, ('rooney', 89): 3931, ('reign', 89): 3932, ('cyborg', 89): 3933, ('worn', 88): 3934, ('chronicl', 88): 3935, ('butler', 88): 3936, ('approv', 88): 3937, ('keith', 88): 3938, ('attribut', 88): 3939, ('basketbal', 88): 3940, ('sailor', 88): 3941, ('prey', 88): 3942, ('boxer', 88): 3943, ('pink', 88): 3944, ('vein', 88): 3945, ('tunnel', 88): 3946, ('emphas', 88): 3947, ('unorigin', 88): 3948, ('analysi', 88): 3949, ('interior', 88): 3950, ('exposur', 88): 3951, ('incorpor', 88): 3952, ('barrymor', 88): 3953, ('nineti', 88): 3954, ('inher', 88): 3955, ('startl', 88): 3956, ('provoc', 88): 3957, ('ridden', 88): 3958, ('proce', 88): 3959, ('baddi', 88): 3960, ('er', 87): 3961, ('belushi', 87): 3962, ('substitut', 87): 3963, ('underli', 87): 3964, ('hypnot', 87): 3965, ('mighti', 87): 3966, ('julian', 87): 3967, ('predat', 87): 3968, ('meyer', 87): 3969, ('condemn', 87): 3970, ('improvis', 87): 3971, ('walsh', 87): 3972, ('barrel', 87): 3973, ('indiffer', 87): 3974, ('undeni', 87): 3975, ('nicol', 87): 3976, ('stalker', 87): 3977, ('millionair', 87): 3978, ('simmon', 87): 3979, ('unrel', 87): 3980, ('fleet', 87): 3981, ('othello', 87): 3982, ('drift', 87): 3983, ('bunni', 87): 3984, ('mormon', 87): 3985, ('elm', 87): 3986, ('degrad', 87): 3987, ('carla', 87): 3988, ('meg', 87): 3989, ('robbin', 87): 3990, ('alarm', 86): 3991, ('unawar', 86): 3992, ('agenda', 86): 3993, ('exquisit', 86): 3994, ('enthusiasm', 86): 3995, ('errol', 86): 3996, ('reid', 86): 3997, ('novak', 86): 3998, ('lampoon', 86): 3999, ('watson', 86): 4000, ('edgi', 86): 4001, ('priceless', 86): 4002, ('palac', 86): 4003, ('shove', 86): 4004, ('greed', 86): 4005, ('vital', 86): 4006, ('warmth', 86): 4007, ('hay', 86): 4008, ('nyc', 86): 4009, ('disord', 86): 4010, ('marion', 86): 4011, ('firm', 86): 4012, ('mtv', 86): 4013, ('roof', 86): 4014, ('alison', 86): 4015, ('rukh', 86): 4016, ('dolph', 86): 4017, ('3d', 86): 4018, ('crown', 85): 4019, ('nun', 85): 4020, ('eastern', 85): 4021, ('angela', 85): 4022, ('petti', 85): 4023, ('spain', 85): 4024, ('sergeant', 85): 4025, ('beatl', 85): 4026, ('showdown', 85): 4027, ('randomli', 85): 4028, ('cassidi', 85): 4029, ('ponder', 85): 4030, ('what', 85): 4031, ('campaign', 85): 4032, ('peril', 85): 4033, ('distort', 85): 4034, ('zizek', 85): 4035, ('simultan', 85): 4036, ('preserv', 85): 4037, ('13th', 85): 4038, ('profit', 85): 4039, ('iraq', 85): 4040, ('1933', 85): 4041, ('championship', 85): 4042, ('session', 85): 4043, ('thompson', 85): 4044, ('minimum', 85): 4045, ('israel', 85): 4046, ('orlean', 85): 4047, ('coup', 85): 4048, ('drip', 85): 4049, ('peck', 85): 4050, ('gestur', 85): 4051, ('testament', 85): 4052, ('glanc', 85): 4053, ('pamela', 85): 4054, ('unleash', 85): 4055, ('valentin', 85): 4056, ('exposit', 84): 4057, ('restrain', 84): 4058, ('wig', 84): 4059, ('empathi', 84): 4060, ('fido', 84): 4061, ('perpetu', 84): 4062, ('gentleman', 84): 4063, ('cream', 84): 4064, ('stake', 84): 4065, ('realm', 84): 4066, ('contradict', 84): 4067, ('scotland', 84): 4068, ('rout', 84): 4069, ('miyazaki', 84): 4070, ('mon', 84): 4071, ('unimagin', 84): 4072, ('reson', 84): 4073, ('valley', 84): 4074, ('travesti', 84): 4075, ('jan', 84): 4076, ('crow', 84): 4077, ('climat', 84): 4078, ('stroke', 84): 4079, ('bro', 84): 4080, ('han', 84): 4081, ('calib', 84): 4082, ('1984', 84): 4083, ('regist', 84): 4084, ('crawl', 84): 4085, ('kurosawa', 84): 4086, ('buster', 84): 4087, ('cooki', 84): 4088, ('represent', 84): 4089, ('shootout', 84): 4090, ('brenda', 84): 4091, ('sabrina', 84): 4092, ('quinn', 84): 4093, ('din', 84): 4094, ('perceiv', 83): 4095, ('warrant', 83): 4096, ('ustinov', 83): 4097, ('pretens', 83): 4098, ('baldwin', 83): 4099, ('greg', 83): 4100, ('derang', 83): 4101, ('josh', 83): 4102, ('shoddi', 83): 4103, ('spacey', 83): 4104, ('absent', 83): 4105, ('compromis', 83): 4106, ('geek', 83): 4107, ('darren', 83): 4108, ('femm', 83): 4109, ('mclaglen', 83): 4110, ('abomin', 83): 4111, ('censor', 83): 4112, ('businessman', 83): 4113, ('unseen', 83): 4114, ('shaki', 83): 4115, ('wax', 83): 4116, ('sucker', 83): 4117, ('cloud', 83): 4118, ('dana', 83): 4119, ('sammi', 83): 4120, ('meryl', 83): 4121, ('passabl', 83): 4122, ('1987', 83): 4123, ('tacki', 83): 4124, ('traumat', 83): 4125, ('demis', 83): 4126, ('monoton', 83): 4127, ('1997', 83): 4128, ('unsatisfi', 83): 4129, ('stargat', 83): 4130, ('pole', 83): 4131, ('distress', 83): 4132, ('soderbergh', 83): 4133, ('crawford', 83): 4134, ('delic', 83): 4135, ('ross', 83): 4136, ('painter', 83): 4137, ('fuller', 83): 4138, ('tarantino', 82): 4139, ('jewel', 82): 4140, ('judgment', 82): 4141, ('norm', 82): 4142, ('clash', 82): 4143, ('reluct', 82): 4144, ('verbal', 82): 4145, ('unravel', 82): 4146, ('1993', 82): 4147, ('fenc', 82): 4148, ('furiou', 82): 4149, ('polici', 82): 4150, ('valid', 82): 4151, ('uncov', 82): 4152, ('primit', 82): 4153, ('nathan', 82): 4154, ('click', 82): 4155, ('exclus', 82): 4156, ('deniro', 82): 4157, ('wholli', 82): 4158, ('tech', 82): 4159, ('antonioni', 82): 4160, ('dee', 82): 4161, ('sid', 82): 4162, ('anchor', 82): 4163, ('correctli', 82): 4164, ('seal', 82): 4165, ('accuraci', 82): 4166, ('expedit', 82): 4167, ('deceas', 82): 4168, ('kumar', 82): 4169, ('fog', 82): 4170, ('austin', 82): 4171, ('tax', 81): 4172, ('darn', 81): 4173, ('sunni', 81): 4174, ('1971', 81): 4175, ('ritual', 81): 4176, ('fought', 81): 4177, ('alec', 81): 4178, ('behold', 81): 4179, ('malon', 81): 4180, ('clerk', 81): 4181, ('vanc', 81): 4182, ('trait', 81): 4183, ('patienc', 81): 4184, ('dreck', 81): 4185, ('3000', 81): 4186, ('wretch', 81): 4187, ('seldom', 81): 4188, ('enforc', 81): 4189, ('hallucin', 81): 4190, ('temper', 81): 4191, ('bake', 81): 4192, ('slam', 81): 4193, ('fabric', 81): 4194, ('sustain', 81): 4195, ('conduct', 81): 4196, ('fart', 81): 4197, ('logan', 81): 4198, ('sand', 81): 4199, ('1995', 81): 4200, ('joel', 81): 4201, ('pocket', 81): 4202, ('2008', 81): 4203, ('mode', 81): 4204, ('unfair', 81): 4205, ('shanghai', 81): 4206, ('crippl', 81): 4207, ('nicola', 81): 4208, ('murray', 81): 4209, ('roller', 81): 4210, ('debt', 81): 4211, ('sheet', 81): 4212, ('wang', 81): 4213, ('fundament', 80): 4214, ('guitar', 80): 4215, ('canyon', 80): 4216, ('preposter', 80): 4217, ('legaci', 80): 4218, ('technicolor', 80): 4219, ('soup', 80): 4220, ('pete', 80): 4221, ('clau', 80): 4222, ('penni', 80): 4223, ('bridget', 80): 4224, ('outlin', 80): 4225, ('phil', 80): 4226, ('preston', 80): 4227, ('stark', 80): 4228, ('grief', 80): 4229, ('squad', 80): 4230, ('stuart', 80): 4231, ('scriptwrit', 80): 4232, ('runner', 80): 4233, ('bias', 80): 4234, ('critiqu', 80): 4235, ('conscious', 80): 4236, ('tactic', 80): 4237, ('divid', 80): 4238, ('sweep', 80): 4239, ('exhaust', 80): 4240, ('schedul', 80): 4241, ('isabel', 80): 4242, ('despis', 80): 4243, ('helpless', 80): 4244, ('shell', 80): 4245, ('robber', 80): 4246, ('rita', 80): 4247, ('lacklust', 79): 4248, ('newman', 79): 4249, ('delv', 79): 4250, ('alley', 79): 4251, ('liberti', 79): 4252, ('restrict', 79): 4253, ('inabl', 79): 4254, ('implic', 79): 4255, ('agenc', 79): 4256, ('alicia', 79): 4257, ('drove', 79): 4258, ('vomit', 79): 4259, ('flair', 79): 4260, ('russia', 79): 4261, ('jodi', 79): 4262, ('bloom', 79): 4263, ('passag', 79): 4264, ('invad', 79): 4265, ('culmin', 79): 4266, ('sentinel', 79): 4267, ('sniper', 79): 4268, ('unexpectedli', 79): 4269, ('rear', 79): 4270, ('jacket', 79): 4271, ('kansa', 79): 4272, ('palanc', 79): 4273, ('downey', 79): 4274, ('consciou', 79): 4275, ('gregori', 79): 4276, ('propos', 79): 4277, ('sugar', 79): 4278, ('cigarett', 79): 4279, ('rehash', 79): 4280, ('boyl', 79): 4281, ('marc', 79): 4282, ('connor', 79): 4283, ('cap', 78): 4284, ('karl', 78): 4285, ('pale', 78): 4286, ('awhil', 78): 4287, ('tendenc', 78): 4288, ('behaviour', 78): 4289, ('vet', 78): 4290, ('kolchak', 78): 4291, ('mccoy', 78): 4292, ('aesthet', 78): 4293, ('yeti', 78): 4294, ('horn', 78): 4295, ('feat', 78): 4296, ('delet', 78): 4297, ('foxx', 78): 4298, ('tripe', 78): 4299, ('bacon', 78): 4300, ('ladder', 78): 4301, ('chainsaw', 78): 4302, ('rod', 78): 4303, ('lush', 78): 4304, ('improb', 78): 4305, ('wrench', 78): 4306, ('22', 78): 4307, ('rehears', 78): 4308, ('asylum', 78): 4309, ('1936', 78): 4310, ('arrow', 78): 4311, ('rampag', 78): 4312, ('sharon', 78): 4313, ('rumor', 77): 4314, ('newcom', 77): 4315, ('1988', 77): 4316, ('financ', 77): 4317, ('basing', 77): 4318, ('stream', 77): 4319, ('wildli', 77): 4320, ('paradis', 77): 4321, ('hungri', 77): 4322, ('paramount', 77): 4323, ('suffici', 77): 4324, ('amazon', 77): 4325, ('globe', 77): 4326, ('lurk', 77): 4327, ('conscienc', 77): 4328, ('tasteless', 77): 4329, ('filler', 77): 4330, ('rhythm', 77): 4331, ('hackney', 77): 4332, ('elit', 77): 4333, ('loneli', 77): 4334, ('shortcom', 77): 4335, ('19th', 77): 4336, ('prank', 77): 4337, ('wagner', 77): 4338, ('sung', 77): 4339, ('weav', 77): 4340, ('1978', 77): 4341, ('suspicion', 77): 4342, ('tomorrow', 77): 4343, ('minu', 77): 4344, ('1920', 77): 4345, ('visitor', 77): 4346, ('fright', 77): 4347, ('scoop', 77): 4348, ('el', 77): 4349, ('spice', 77): 4350, ('coaster', 77): 4351, ('hulk', 77): 4352, ('thunderbird', 77): 4353, ('underneath', 77): 4354, ('aristocrat', 77): 4355, ('ram', 76): 4356, ('naughti', 76): 4357, ('leigh', 76): 4358, ('75', 76): 4359, ('brit', 76): 4360, ('choppi', 76): 4361, ('impos', 76): 4362, ('iv', 76): 4363, ('standout', 76): 4364, ('immers', 76): 4365, ('grudg', 76): 4366, ('literari', 76): 4367, ('atroc', 76): 4368, ('worship', 76): 4369, ('recogniz', 76): 4370, ('chavez', 76): 4371, ('heist', 76): 4372, ('dirt', 76): 4373, ('counterpart', 76): 4374, ('tierney', 76): 4375, ('smell', 76): 4376, ('inmat', 76): 4377, ('entranc', 76): 4378, ('quietli', 76): 4379, ('penn', 76): 4380, ('teas', 76): 4381, ('cancer', 76): 4382, ('secondari', 76): 4383, ('chamberlain', 76): 4384, ('paxton', 76): 4385, ('en', 76): 4386, ('1989', 76): 4387, ('couch', 76): 4388, ('straightforward', 76): 4389, ('rub', 76): 4390, ('abrupt', 76): 4391, ('wwe', 76): 4392, ('bread', 76): 4393, ('posey', 76): 4394, ('beverli', 76): 4395, ('hopkin', 76): 4396, ('curli', 76): 4397, ('minist', 76): 4398, ('springer', 76): 4399, ('1939', 76): 4400, ('lectur', 76): 4401, ('ingeni', 76): 4402, ('misguid', 75): 4403, ('laurenc', 75): 4404, ('heartfelt', 75): 4405, ('attenborough', 75): 4406, ('1986', 75): 4407, ('moreov', 75): 4408, ('esther', 75): 4409, ('nemesi', 75): 4410, ('enthral', 75): 4411, ('ace', 75): 4412, ('morbid', 75): 4413, ('watcher', 75): 4414, ('sublim', 75): 4415, ('injuri', 75): 4416, ('entitl', 75): 4417, ('nolan', 75): 4418, ('bernard', 75): 4419, ('yearn', 75): 4420, ('net', 75): 4421, ('skeptic', 75): 4422, ('variat', 75): 4423, ('ratso', 75): 4424, ('convert', 75): 4425, ('duel', 75): 4426, ('transcend', 75): 4427, ('missil', 75): 4428, ('cattl', 75): 4429, ('quaid', 75): 4430, ('sassi', 75): 4431, ('clan', 75): 4432, ('policeman', 75): 4433, ('lindsay', 75): 4434, ('geni', 75): 4435, ('tyler', 74): 4436, ('bean', 74): 4437, ('youngest', 74): 4438, ('uncut', 74): 4439, ('carlito', 74): 4440, ('vader', 74): 4441, ('mytholog', 74): 4442, ('out', 74): 4443, ('facil', 74): 4444, ('setup', 74): 4445, ('brood', 74): 4446, ('moder', 74): 4447, ('enabl', 74): 4448, ('kidman', 74): 4449, ('reliabl', 74): 4450, ('buzz', 74): 4451, ('artsi', 74): 4452, ('cruelti', 74): 4453, ('diari', 74): 4454, ('steadi', 74): 4455, ('characteris', 74): 4456, ('kitti', 74): 4457, ('puppi', 74): 4458, ('egg', 74): 4459, ('spiral', 74): 4460, ('1979', 74): 4461, ('poe', 74): 4462, ('graini', 74): 4463, ('hk', 74): 4464, ('grin', 74): 4465, ('dont', 74): 4466, ('obstacl', 74): 4467, ('unexplain', 74): 4468, ('rosemari', 74): 4469, ('bye', 74): 4470, ('hopelessli', 74): 4471, ('fuel', 73): 4472, ('hammi', 73): 4473, ('despic', 73): 4474, ('weather', 73): 4475, ('narrow', 73): 4476, ('oblig', 73): 4477, ('effici', 73): 4478, ('niec', 73): 4479, ('baffl', 73): 4480, ('decept', 73): 4481, ('athlet', 73): 4482, ('kline', 73): 4483, ('christin', 73): 4484, ('patricia', 73): 4485, ('sweat', 73): 4486, ('exterior', 73): 4487, ('bewar', 73): 4488, ('acquaint', 73): 4489, ('clueless', 73): 4490, ('1969', 73): 4491, ('disastr', 73): 4492, ('underworld', 73): 4493, ('bounc', 73): 4494, ('hain', 73): 4495, ('martha', 73): 4496, ('heap', 73): 4497, ('gillian', 73): 4498, ('spontan', 73): 4499, ('brendan', 73): 4500, ('preming', 73): 4501, ('bronson', 73): 4502, ('gina', 73): 4503, ('scar', 72): 4504, ('loath', 72): 4505, ('mermaid', 72): 4506, ('uh', 72): 4507, ('sleepwalk', 72): 4508, ('dandi', 72): 4509, ('shatter', 72): 4510, ('viewpoint', 72): 4511, ('lester', 72): 4512, ('injur', 72): 4513, ('suprem', 72): 4514, ('73', 72): 4515, ('angst', 72): 4516, ('fontain', 72): 4517, ('candl', 72): 4518, ('tick', 72): 4519, ('analyz', 72): 4520, ('enlist', 72): 4521, ('19', 72): 4522, ('biker', 72): 4523, ('sooner', 72): 4524, ('harmless', 72): 4525, ('dilemma', 72): 4526, ('trigger', 72): 4527, ('rome', 72): 4528, ('goof', 72): 4529, ('circu', 72): 4530, ('outlaw', 72): 4531, ('astound', 72): 4532, ('mayhem', 72): 4533, ('housewif', 72): 4534, ('taboo', 72): 4535, ('preachi', 72): 4536, ('loi', 72): 4537, ('renaiss', 72): 4538, ('virtu', 72): 4539, ('headach', 72): 4540, ('hepburn', 72): 4541, ('insipid', 72): 4542, ('ebert', 71): 4543, ('sox', 71): 4544, ('dismal', 71): 4545, ('zoom', 71): 4546, ('claustrophob', 71): 4547, ('hooker', 71): 4548, ('foolish', 71): 4549, ('stair', 71): 4550, ('amor', 71): 4551, ('salt', 71): 4552, ('gere', 71): 4553, ('spade', 71): 4554, ('macho', 71): 4555, ('boston', 71): 4556, ('hokey', 71): 4557, ('redund', 71): 4558, ('stimul', 71): 4559, ('overlong', 71): 4560, ('glorifi', 71): 4561, ('contempt', 71): 4562, ('tripl', 71): 4563, ('fluff', 71): 4564, ('idol', 71): 4565, ('ariel', 71): 4566, ('slimi', 71): 4567, ('intric', 71): 4568, ('corbett', 71): 4569, ('camcord', 71): 4570, ('scorses', 71): 4571, ('hostag', 71): 4572, ('oldest', 71): 4573, ('steer', 71): 4574, ('filth', 71): 4575, ('cassavet', 71): 4576, ('phenomenon', 71): 4577, ('whore', 71): 4578, ('guin', 71): 4579, ('surgeri', 71): 4580, ('dish', 71): 4581, ('immatur', 71): 4582, ('bent', 71): 4583, ('spree', 70): 4584, ('margin', 70): 4585, ('muscl', 70): 4586, ('keen', 70): 4587, ('shield', 70): 4588, ('1976', 70): 4589, ('flirt', 70): 4590, ('flashi', 70): 4591, ('cow', 70): 4592, ('dwarf', 70): 4593, ('preced', 70): 4594, ('assert', 70): 4595, ('proport', 70): 4596, ('fascist', 70): 4597, ('strongest', 70): 4598, ('flag', 70): 4599, ('frantic', 70): 4600, ('antagonist', 70): 4601, ('gasp', 70): 4602, ('perman', 70): 4603, ('astronaut', 70): 4604, ('radiat', 70): 4605, ('messi', 70): 4606, ('1981', 70): 4607, ('zane', 70): 4608, ('beard', 70): 4609, ('down', 70): 4610, ('conquer', 70): 4611, ('corman', 70): 4612, ('cush', 70): 4613, ('naschi', 70): 4614, ('obligatori', 70): 4615, ('schlock', 70): 4616, ('remad', 70): 4617, ('cohen', 70): 4618, ('shred', 70): 4619, ('rhyme', 70): 4620, ('trivia', 70): 4621, ('nolt', 70): 4622, ('faint', 70): 4623, ('joker', 70): 4624, ('spinal', 70): 4625, ('harold', 70): 4626, ('alvin', 70): 4627, ('mount', 70): 4628, ('mutual', 70): 4629, ('transplant', 70): 4630, ('widescreen', 70): 4631, ('gabl', 70): 4632, ('divin', 69): 4633, ('triangl', 69): 4634, ('off', 69): 4635, ('danish', 69): 4636, ('persuad', 69): 4637, ('sensual', 69): 4638, ('discern', 69): 4639, ('flock', 69): 4640, ('departur', 69): 4641, ('mobil', 69): 4642, ('neurot', 69): 4643, ('claud', 69): 4644, ('scandal', 69): 4645, ('95', 69): 4646, ('archiv', 69): 4647, ('raj', 69): 4648, ('someday', 69): 4649, ('vaniti', 69): 4650, ('instruct', 69): 4651, ('inflict', 69): 4652, ('bitten', 69): 4653, ('ritchi', 69): 4654, ('barn', 69): 4655, ('interestingli', 69): 4656, ('deer', 69): 4657, ('carey', 69): 4658, ('info', 69): 4659, ('28', 69): 4660, ('fishburn', 69): 4661, ('wield', 69): 4662, ('brush', 69): 4663, ('strive', 69): 4664, ('aborigin', 69): 4665, ('resum', 69): 4666, ('bachelor', 69): 4667, ('repris', 69): 4668, ('boob', 69): 4669, ('mol', 69): 4670, ('1945', 69): 4671, ('www', 69): 4672, ('hara', 69): 4673, ('dylan', 68): 4674, ('melissa', 68): 4675, ('carlo', 68): 4676, ('vibrant', 68): 4677, ('traffic', 68): 4678, ('heartwarm', 68): 4679, ('banter', 68): 4680, ('dame', 68): 4681, ('submit', 68): 4682, ('bate', 68): 4683, ('pacif', 68): 4684, ('undermin', 68): 4685, ('cb', 68): 4686, ('dim', 68): 4687, ('hapless', 68): 4688, ('ish', 68): 4689, ('loretta', 68): 4690, ('clad', 68): 4691, ('hilar', 68): 4692, ('fragil', 68): 4693, ('europa', 68): 4694, ('proclaim', 68): 4695, ('frontier', 68): 4696, ('miracul', 68): 4697, ('colin', 68): 4698, ('pixar', 68): 4699, ('prophet', 68): 4700, ('neill', 68): 4701, ('casino', 68): 4702, ('senior', 68): 4703, ('helm', 68): 4704, ('recit', 68): 4705, ('kathryn', 68): 4706, ('harrison', 68): 4707, ('cher', 68): 4708, ('cliffhang', 68): 4709, ('cycl', 68): 4710, ('hug', 68): 4711, ('artwork', 68): 4712, ('jade', 68): 4713, ('luka', 68): 4714, ('biblic', 68): 4715, ('anton', 68): 4716, ('timberlak', 68): 4717, ('pickford', 68): 4718, ('rot', 68): 4719, ('axe', 68): 4720, ('parson', 68): 4721, ('earnest', 68): 4722, ('mobster', 68): 4723, ('wendigo', 68): 4724, ('holocaust', 67): 4725, ('toronto', 67): 4726, ('bondag', 67): 4727, ('razor', 67): 4728, ('static', 67): 4729, ('blatantli', 67): 4730, ('sicken', 67): 4731, ('eli', 67): 4732, ('token', 67): 4733, ('vile', 67): 4734, ('aris', 67): 4735, ('feast', 67): 4736, ('estrang', 67): 4737, ('legitim', 67): 4738, ('jo', 67): 4739, ('misfortun', 67): 4740, ('jordan', 67): 4741, ('wardrob', 67): 4742, ('orphan', 67): 4743, ('flavor', 67): 4744, ('rooki', 67): 4745, ('antholog', 67): 4746, ('electron', 67): 4747, ('seedi', 67): 4748, ('isra', 67): 4749, ('marlon', 67): 4750, ('bikini', 67): 4751, ('nope', 67): 4752, ('winchest', 67): 4753, ('mason', 67): 4754, ('breakfast', 67): 4755, ('alexandr', 67): 4756, ('redneck', 67): 4757, ('foil', 67): 4758, ('choke', 67): 4759, ('shepherd', 67): 4760, ('illus', 67): 4761, ('akin', 67): 4762, ('pc', 67): 4763, ('articl', 67): 4764, ('http', 67): 4765, ('cerebr', 67): 4766, ('uma', 67): 4767, ('venom', 67): 4768, ('lui', 67): 4769, ('lucil', 67): 4770, ('northern', 67): 4771, ('trier', 67): 4772, ('mathieu', 67): 4773, ('milo', 67): 4774, ('vanessa', 67): 4775, ('peer', 66): 4776, ('magician', 66): 4777, ('tack', 66): 4778, ('smack', 66): 4779, ('knightley', 66): 4780, ('cartoonish', 66): 4781, ('charlton', 66): 4782, ('deem', 66): 4783, ('feminin', 66): 4784, ('gilbert', 66): 4785, ('nightclub', 66): 4786, ('shorter', 66): 4787, ('oppon', 66): 4788, ('linear', 66): 4789, ('ceremoni', 66): 4790, ('glare', 66): 4791, ('affleck', 66): 4792, ('highway', 66): 4793, ('fifth', 66): 4794, ('clinic', 66): 4795, ('huston', 66): 4796, ('abund', 66): 4797, ('psych', 66): 4798, ('disregard', 66): 4799, ('boyer', 66): 4800, ('dudley', 66): 4801, ('turd', 66): 4802, ('outdat', 66): 4803, ('comprehend', 66): 4804, ('styliz', 66): 4805, ('leather', 66): 4806, ('howl', 66): 4807, ('frog', 66): 4808, ('retriev', 66): 4809, ('wrestler', 66): 4810, ('ideolog', 66): 4811, ('swept', 66): 4812, ('audrey', 66): 4813, ('gunga', 66): 4814, ('potter', 65): 4815, ('cuban', 65): 4816, ('bastard', 65): 4817, ('btw', 65): 4818, ('salman', 65): 4819, ('corn', 65): 4820, ('collector', 65): 4821, ('summar', 65): 4822, ('lifeless', 65): 4823, ('mitch', 65): 4824, ('lavish', 65): 4825, ('lighter', 65): 4826, ('monument', 65): 4827, ('goldsworthi', 65): 4828, ('spine', 65): 4829, ('4th', 65): 4830, ('newer', 65): 4831, ('plate', 65): 4832, ('breakdown', 65): 4833, ('tara', 65): 4834, ('durat', 65): 4835, ('deliver', 65): 4836, ('whack', 65): 4837, ('1991', 65): 4838, ('sleaz', 65): 4839, ('compris', 65): 4840, ('senat', 65): 4841, ('phenomen', 65): 4842, ('snatch', 65): 4843, ('bogu', 65): 4844, ('chip', 65): 4845, ('boo', 65): 4846, ('client', 65): 4847, ('energet', 65): 4848, ('evolut', 65): 4849, ('braveheart', 65): 4850, ('uniformli', 65): 4851, ('toe', 65): 4852, ('cemeteri', 65): 4853, ('einstein', 65): 4854, ('spawn', 65): 4855, ('moe', 65): 4856, ('conrad', 65): 4857, ('1994', 65): 4858, ('greet', 65): 4859, ('fluid', 64): 4860, ('nina', 64): 4861, ('replay', 64): 4862, ('historian', 64): 4863, ('inaccuraci', 64): 4864, ('embark', 64): 4865, ('mcqueen', 64): 4866, ('outright', 64): 4867, ('judd', 64): 4868, ('trauma', 64): 4869, ('jam', 64): 4870, ('ol', 64): 4871, ('spectacl', 64): 4872, ('1974', 64): 4873, ('belli', 64): 4874, ('gilliam', 64): 4875, ('wtf', 64): 4876, ('sorrow', 64): 4877, ('clara', 64): 4878, ('randolph', 64): 4879, ('signal', 64): 4880, ('jule', 64): 4881, ('appl', 64): 4882, ('eleven', 64): 4883, ('bori', 64): 4884, ('1977', 64): 4885, ('bulk', 64): 4886, ('constitut', 64): 4887, ('neatli', 64): 4888, ('alleg', 64): 4889, ('armstrong', 64): 4890, ('occup', 64): 4891, ('creek', 64): 4892, ('liu', 64): 4893, ('undertak', 64): 4894, ('pronounc', 64): 4895, ('jare', 64): 4896, ('luxuri', 64): 4897, ('firmli', 64): 4898, ('kent', 64): 4899, ('lex', 64): 4900, ('jedi', 64): 4901, ('cecil', 64): 4902, ('ie', 64): 4903, ('capot', 64): 4904, ('kazan', 64): 4905, ('healthi', 64): 4906, ('undead', 64): 4907, ('evelyn', 64): 4908, ('aussi', 63): 4909, ('groan', 63): 4910, ('mum', 63): 4911, ('pioneer', 63): 4912, ('unsuspect', 63): 4913, ('poker', 63): 4914, ('kiddi', 63): 4915, ('decapit', 63): 4916, ('forgiven', 63): 4917, ('lauren', 63): 4918, ('ash', 63): 4919, ('congratul', 63): 4920, ('comprehens', 63): 4921, ('lanc', 63): 4922, ('unattract', 63): 4923, ('abound', 63): 4924, ('knee', 63): 4925, ('rosario', 63): 4926, ('curtain', 63): 4927, ('vain', 63): 4928, ('cape', 63): 4929, ('goldblum', 63): 4930, ('palm', 63): 4931, ('inaccur', 63): 4932, ('paula', 63): 4933, ('pepper', 63): 4934, ('sidewalk', 63): 4935, ('fruit', 63): 4936, ('1985', 63): 4937, ('tokyo', 63): 4938, ('subtli', 63): 4939, ('vignett', 63): 4940, ('antonio', 63): 4941, ('spray', 63): 4942, ('carmen', 63): 4943, ('walt', 63): 4944, ('comb', 63): 4945, ('miniseri', 63): 4946, ('roar', 63): 4947, ('sacrif', 63): 4948, ('relentless', 63): 4949, ('miami', 63): 4950, ('conan', 63): 4951, ('inclus', 63): 4952, ('basket', 63): 4953, ('meal', 63): 4954, ('truman', 63): 4955, ('bsg', 63): 4956, ('genet', 63): 4957, ('id', 63): 4958, ('galaxi', 63): 4959, ('blur', 63): 4960, ('propheci', 63): 4961, ('porter', 63): 4962, ('bait', 63): 4963, ('incorrect', 62): 4964, ('motorcycl', 62): 4965, ('bravo', 62): 4966, ('mice', 62): 4967, ('weari', 62): 4968, ('drone', 62): 4969, ('weaker', 62): 4970, ('omin', 62): 4971, ('verg', 62): 4972, ('sophi', 62): 4973, ('scariest', 62): 4974, ('asset', 62): 4975, ('vastli', 62): 4976, ('profil', 62): 4977, ('optimist', 62): 4978, ('monti', 62): 4979, ('jill', 62): 4980, ('victorian', 62): 4981, ('dubiou', 62): 4982, ('bach', 62): 4983, ('ghetto', 62): 4984, ('detach', 62): 4985, ('ingrid', 62): 4986, ('epitom', 62): 4987, ('assort', 62): 4988, ('handicap', 62): 4989, ('21st', 62): 4990, ('substanti', 62): 4991, ('hostil', 62): 4992, ('rapidli', 62): 4993, ('playboy', 62): 4994, ('masterson', 62): 4995, ('growth', 62): 4996, ('sparkl', 62): 4997, ('macabr', 62): 4998, ('evan', 62): 4999}\n"
     ]
    }
   ],
   "source": [
    "print (word_dict)"
   ]
  },
  {
   "cell_type": "markdown",
   "metadata": {},
   "source": [
    "**Question:** What are the five most frequently appearing (tokenized) words in the training set? Does it makes sense that these words appear frequently in the training set?"
   ]
  },
  {
   "cell_type": "markdown",
   "metadata": {},
   "source": [
    "**Answer:**\n",
    "The five most frequently appearing tokenized words in the training set are:\n",
    "\n",
    "1) movi - 51.695\n",
    "2) film - 48,190\n",
    "3) one  - 27.741\n",
    "4) like - 22.799\n",
    "5) time - 16,191\n",
    "\n",
    "\n",
    "Does it make sense that these words appear so frequently?\n",
    "\n",
    "Based on the aproach and method used in word preprocessing, it doesn't make a whole lot of difference. Although, there is redundancy."
   ]
  },
  {
   "cell_type": "code",
   "execution_count": 157,
   "metadata": {},
   "outputs": [],
   "source": [
    "# TODO: Use this space to determine the five most frequently appearing words in the training set.\n",
    "#see the cell above"
   ]
  },
  {
   "cell_type": "markdown",
   "metadata": {},
   "source": [
    "### Save `word_dict`\n",
    "\n",
    "Later on when we construct an endpoint which processes a submitted review we will need to make use of the `word_dict` which we have created. As such, we will save it to a file now for future use."
   ]
  },
  {
   "cell_type": "code",
   "execution_count": 301,
   "metadata": {},
   "outputs": [],
   "source": [
    "# Ensure that the data directory exists. If not, make one \n",
    "\n",
    "data_dir = '../data/pytorch' # The folder we will use for storing data\n",
    "if not os.path.exists(data_dir): # Make sure that the folder exists\n",
    "    os.makedirs(data_dir)"
   ]
  },
  {
   "cell_type": "code",
   "execution_count": 302,
   "metadata": {},
   "outputs": [],
   "source": [
    "with open(os.path.join(data_dir, 'word_dict.pkl'), \"wb\") as f:\n",
    "    pickle.dump(word_dict, f)"
   ]
  },
  {
   "cell_type": "markdown",
   "metadata": {},
   "source": [
    "### Transform the reviews\n",
    "\n",
    "Now that we have our word dictionary which allows us to transform the words appearing in the reviews into integers, it is time to make use of it and convert our reviews to their integer sequence representation, making sure to pad or truncate to a fixed length, which in our case is `500`."
   ]
  },
  {
   "cell_type": "code",
   "execution_count": 303,
   "metadata": {},
   "outputs": [],
   "source": [
    "def convert_and_pad(word_dict, sentence, pad=500):\n",
    "    NOWORD = 0 # We will use 0 to represent the 'no word' category\n",
    "    INFREQ = 1 # and we use 1 to represent the infrequent words, i.e., words not appearing in word_dict\n",
    "    \n",
    "    working_sentence = [NOWORD] * pad\n",
    "    \n",
    "    for word_index, word in enumerate(sentence[:pad]):\n",
    "        if word in word_dict:\n",
    "            working_sentence[word_index] = word_dict[word]\n",
    "        else:\n",
    "            working_sentence[word_index] = INFREQ\n",
    "            \n",
    "    return working_sentence, min(len(sentence), pad)\n",
    "\n",
    "def convert_and_pad_data(word_dict, data, pad=500):\n",
    "    result = []\n",
    "    lengths = []\n",
    "    \n",
    "    for sentence in data:\n",
    "        converted, leng = convert_and_pad(word_dict, sentence, pad)\n",
    "        result.append(converted)\n",
    "        lengths.append(leng)\n",
    "        \n",
    "    return np.array(result), np.array(lengths)"
   ]
  },
  {
   "cell_type": "code",
   "execution_count": 304,
   "metadata": {},
   "outputs": [],
   "source": [
    "train_X, train_X_len = convert_and_pad_data(word_dict, train_X)\n",
    "test_X, test_X_len = convert_and_pad_data(word_dict, test_X)"
   ]
  },
  {
   "cell_type": "markdown",
   "metadata": {},
   "source": [
    "As a quick check to make sure that things are working as intended, check to see what one of the reviews in the training set looks like after having been processeed. Does this look reasonable? What is the length of a review in the training set?"
   ]
  },
  {
   "cell_type": "code",
   "execution_count": 305,
   "metadata": {},
   "outputs": [
    {
     "name": "stdout",
     "output_type": "stream",
     "text": [
      "[1 1 1 1 1 1 1 1 1 1 1 1 1 1 1 1 1 1 1 1 1 1 1 1 1 1 1 1 1 1 1 1 1 1 1 1 1\n",
      " 1 1 1 1 1 1 1 1 1 1 1 1 1 1 1 1 1 1 1 1 1 1 1 1 1 1 1 1 1 1 1 1 1 1 1 1 1\n",
      " 1 1 1 1 1 1 1 1 1 1 1 1 1 1 1 1 1 1 1 1 1 1 1 1 1 1 1 1 1 1 1 1 1 1 1 1 1\n",
      " 1 1 1 1 1 1 1 1 1 1 1 1 1 1 0 0 0 0 0 0 0 0 0 0 0 0 0 0 0 0 0 0 0 0 0 0 0\n",
      " 0 0 0 0 0 0 0 0 0 0 0 0 0 0 0 0 0 0 0 0 0 0 0 0 0 0 0 0 0 0 0 0 0 0 0 0 0\n",
      " 0 0 0 0 0 0 0 0 0 0 0 0 0 0 0 0 0 0 0 0 0 0 0 0 0 0 0 0 0 0 0 0 0 0 0 0 0\n",
      " 0 0 0 0 0 0 0 0 0 0 0 0 0 0 0 0 0 0 0 0 0 0 0 0 0 0 0 0 0 0 0 0 0 0 0 0 0\n",
      " 0 0 0 0 0 0 0 0 0 0 0 0 0 0 0 0 0 0 0 0 0 0 0 0 0 0 0 0 0 0 0 0 0 0 0 0 0\n",
      " 0 0 0 0 0 0 0 0 0 0 0 0 0 0 0 0 0 0 0 0 0 0 0 0 0 0 0 0 0 0 0 0 0 0 0 0 0\n",
      " 0 0 0 0 0 0 0 0 0 0 0 0 0 0 0 0 0 0 0 0 0 0 0 0 0 0 0 0 0 0 0 0 0 0 0 0 0\n",
      " 0 0 0 0 0 0 0 0 0 0 0 0 0 0 0 0 0 0 0 0 0 0 0 0 0 0 0 0 0 0 0 0 0 0 0 0 0\n",
      " 0 0 0 0 0 0 0 0 0 0 0 0 0 0 0 0 0 0 0 0 0 0 0 0 0 0 0 0 0 0 0 0 0 0 0 0 0\n",
      " 0 0 0 0 0 0 0 0 0 0 0 0 0 0 0 0 0 0 0 0 0 0 0 0 0 0 0 0 0 0 0 0 0 0 0 0 0\n",
      " 0 0 0 0 0 0 0 0 0 0 0 0 0 0 0 0 0 0 0]\n"
     ]
    }
   ],
   "source": [
    "# Use this cell to examine one of the processed reviews to make sure everything is working as intended.\n",
    "print (train_X[10])"
   ]
  },
  {
   "cell_type": "markdown",
   "metadata": {},
   "source": [
    "**Question:** In the cells above we use the `preprocess_data` and `convert_and_pad_data` methods to process both the training and testing set. Why or why not might this be a problem?"
   ]
  },
  {
   "cell_type": "markdown",
   "metadata": {},
   "source": [
    "**Answer:**\n",
    "\n",
    "Padding the data should not be aproblem in this situation. If there is variable length sequence, sequence_length correspond to the longest sequence. The technique fill sequences with a pad token (which is 0) to fit the matrix size. This special tokens is then masked not to be accounted in loss calculation."
   ]
  },
  {
   "cell_type": "markdown",
   "metadata": {},
   "source": [
    "## Step 3: Upload the data to S3\n",
    "\n",
    "As in the XGBoost notebook, we will need to upload the training dataset to S3 in order for our training code to access it. For now we will save it locally and we will upload to S3 later on.\n",
    "\n",
    "### Save the processed training dataset locally\n",
    "\n",
    "It is important to note the format of the data that we are saving as we will need to know it when we write the training code. In our case, each row of the dataset has the form `label`, `length`, `review[500]` where `review[500]` is a sequence of `500` integers representing the words in the review."
   ]
  },
  {
   "cell_type": "code",
   "execution_count": 306,
   "metadata": {},
   "outputs": [],
   "source": [
    "import pandas as pd\n",
    "    \n",
    "pd.concat([pd.DataFrame(train_y), pd.DataFrame(train_X_len), pd.DataFrame(train_X)], axis=1) \\\n",
    "        .to_csv(os.path.join(data_dir, 'train.csv'), header=False, index=False)"
   ]
  },
  {
   "cell_type": "markdown",
   "metadata": {},
   "source": [
    "### Uploading the training data\n",
    "\n",
    "\n",
    "Next, we need to upload the training data to the SageMaker default S3 bucket so that we can provide access to it while training our model."
   ]
  },
  {
   "cell_type": "code",
   "execution_count": 307,
   "metadata": {},
   "outputs": [],
   "source": [
    "import sagemaker\n",
    "\n",
    "sagemaker_session = sagemaker.Session()\n",
    "\n",
    "bucket = sagemaker_session.default_bucket()\n",
    "prefix = 'sagemaker/sentiment_rnn'\n",
    "\n",
    "role = sagemaker.get_execution_role()"
   ]
  },
  {
   "cell_type": "code",
   "execution_count": 308,
   "metadata": {},
   "outputs": [],
   "source": [
    "input_data = sagemaker_session.upload_data(path=data_dir, bucket=bucket, key_prefix=prefix)"
   ]
  },
  {
   "cell_type": "markdown",
   "metadata": {},
   "source": [
    "**NOTE:** The cell above uploads the entire contents of our data directory. This includes the `word_dict.pkl` file. This is fortunate as we will need this later on when we create an endpoint that accepts an arbitrary review. For now, we will just take note of the fact that it resides in the data directory (and so also in the S3 training bucket) and that we will need to make sure it gets saved in the model directory."
   ]
  },
  {
   "cell_type": "markdown",
   "metadata": {},
   "source": [
    "## Step 4: Build and Train the PyTorch Model\n",
    "\n",
    "In the XGBoost notebook we discussed what a model is in the SageMaker framework. In particular, a model comprises three objects\n",
    "\n",
    " - Model Artifacts,\n",
    " - Training Code, and\n",
    " - Inference Code,\n",
    " \n",
    "each of which interact with one another. In the XGBoost example we used training and inference code that was provided by Amazon. Here we will still be using containers provided by Amazon with the added benefit of being able to include our own custom code.\n",
    "\n",
    "We will start by implementing our own neural network in PyTorch along with a training script. For the purposes of this project we have provided the necessary model object in the `model.py` file, inside of the `train` folder. You can see the provided implementation by running the cell below."
   ]
  },
  {
   "cell_type": "code",
   "execution_count": 309,
   "metadata": {},
   "outputs": [
    {
     "name": "stdout",
     "output_type": "stream",
     "text": [
      "\u001b[34mimport\u001b[39;49;00m \u001b[04m\u001b[36mtorch\u001b[39;49;00m\u001b[04m\u001b[36m.\u001b[39;49;00m\u001b[04m\u001b[36mnn\u001b[39;49;00m \u001b[34mas\u001b[39;49;00m \u001b[04m\u001b[36mnn\u001b[39;49;00m\r\n",
      "\r\n",
      "\u001b[34mclass\u001b[39;49;00m \u001b[04m\u001b[32mLSTMClassifier\u001b[39;49;00m(nn.Module):\r\n",
      "    \u001b[33m\"\"\"\u001b[39;49;00m\r\n",
      "\u001b[33m    This is the simple RNN model we will be using to perform Sentiment Analysis.\u001b[39;49;00m\r\n",
      "\u001b[33m    \"\"\"\u001b[39;49;00m\r\n",
      "\r\n",
      "    \u001b[34mdef\u001b[39;49;00m \u001b[32m__init__\u001b[39;49;00m(\u001b[36mself\u001b[39;49;00m, embedding_dim, hidden_dim, vocab_size):\r\n",
      "        \u001b[33m\"\"\"\u001b[39;49;00m\r\n",
      "\u001b[33m        Initialize the model by settingg up the various layers.\u001b[39;49;00m\r\n",
      "\u001b[33m        \"\"\"\u001b[39;49;00m\r\n",
      "        \u001b[36msuper\u001b[39;49;00m(LSTMClassifier, \u001b[36mself\u001b[39;49;00m).\u001b[32m__init__\u001b[39;49;00m()\r\n",
      "\r\n",
      "        \u001b[36mself\u001b[39;49;00m.embedding = nn.Embedding(vocab_size, embedding_dim, padding_idx=\u001b[34m0\u001b[39;49;00m)\r\n",
      "        \u001b[36mself\u001b[39;49;00m.lstm = nn.LSTM(embedding_dim, hidden_dim)\r\n",
      "        \u001b[36mself\u001b[39;49;00m.dense = nn.Linear(in_features=hidden_dim, out_features=\u001b[34m1\u001b[39;49;00m)\r\n",
      "        \u001b[36mself\u001b[39;49;00m.sig = nn.Sigmoid()\r\n",
      "        \r\n",
      "        \u001b[36mself\u001b[39;49;00m.word_dict = \u001b[34mNone\u001b[39;49;00m\r\n",
      "\r\n",
      "    \u001b[34mdef\u001b[39;49;00m \u001b[32mforward\u001b[39;49;00m(\u001b[36mself\u001b[39;49;00m, x):\r\n",
      "        \u001b[33m\"\"\"\u001b[39;49;00m\r\n",
      "\u001b[33m        Perform a forward pass of our model on some input.\u001b[39;49;00m\r\n",
      "\u001b[33m        \"\"\"\u001b[39;49;00m\r\n",
      "        x = x.t()\r\n",
      "        lengths = x[\u001b[34m0\u001b[39;49;00m,:]\r\n",
      "        reviews = x[\u001b[34m1\u001b[39;49;00m:,:]\r\n",
      "        embeds = \u001b[36mself\u001b[39;49;00m.embedding(reviews)\r\n",
      "        lstm_out, _ = \u001b[36mself\u001b[39;49;00m.lstm(embeds)\r\n",
      "        out = \u001b[36mself\u001b[39;49;00m.dense(lstm_out)\r\n",
      "        out = out[lengths - \u001b[34m1\u001b[39;49;00m, \u001b[36mrange\u001b[39;49;00m(\u001b[36mlen\u001b[39;49;00m(lengths))]\r\n",
      "        \u001b[34mreturn\u001b[39;49;00m \u001b[36mself\u001b[39;49;00m.sig(out.squeeze())\r\n"
     ]
    }
   ],
   "source": [
    "!pygmentize train/model.py"
   ]
  },
  {
   "cell_type": "markdown",
   "metadata": {},
   "source": [
    "The important takeaway from the implementation provided is that there are three parameters that we may wish to tweak to improve the performance of our model. These are the embedding dimension, the hidden dimension and the size of the vocabulary. We will likely want to make these parameters configurable in the training script so that if we wish to modify them we do not need to modify the script itself. We will see how to do this later on. To start we will write some of the training code in the notebook so that we can more easily diagnose any issues that arise.\n",
    "\n",
    "First we will load a small portion of the training data set to use as a sample. It would be very time consuming to try and train the model completely in the notebook as we do not have access to a gpu and the compute instance that we are using is not particularly powerful. However, we can work on a small bit of the data to get a feel for how our training script is behaving."
   ]
  },
  {
   "cell_type": "code",
   "execution_count": 310,
   "metadata": {},
   "outputs": [],
   "source": [
    "import torch\n",
    "import torch.utils.data\n",
    "from torchvision import datasets \n",
    "\n",
    "# Read in only the first 250 rows\n",
    "train_sample = pd.read_csv(os.path.join(data_dir, 'train.csv'), header=None, names=None, nrows=250)\n",
    "\n",
    "# Turn the input pandas dataframe into tensors\n",
    "train_sample_y = torch.from_numpy(train_sample[[0]].values).float().squeeze()\n",
    "train_sample_X = torch.from_numpy(train_sample.drop([0], axis=1).values).long()\n",
    "\n",
    "# Build the dataset\n",
    "train_sample_ds = torch.utils.data.TensorDataset(train_sample_X, train_sample_y)\n",
    "# Build the dataloader\n",
    "train_sample_dl = torch.utils.data.DataLoader(train_sample_ds, batch_size=50)"
   ]
  },
  {
   "cell_type": "markdown",
   "metadata": {},
   "source": [
    "### (TODO) Writing the training method\n",
    "\n",
    "Next we need to write the training code itself. This should be very similar to training methods that you have written before to train PyTorch models. We will leave any difficult aspects such as model saving / loading and parameter loading until a little later."
   ]
  },
  {
   "cell_type": "markdown",
   "metadata": {},
   "source": [
    "Clearing the last error gradient.\n",
    "A forward pass of the input through the model.\n",
    "Calculating the loss for the model output.\n",
    "Backpropagating the error through the model.\n",
    "Update the model in an effort to reduce loss."
   ]
  },
  {
   "cell_type": "code",
   "execution_count": 311,
   "metadata": {},
   "outputs": [],
   "source": [
    "def train(model, train_loader, epochs, optimizer, loss_fn, device):\n",
    "    for epoch in range(1, epochs + 1):\n",
    "        model.train()\n",
    "        total_loss = 0\n",
    "        for batch in train_loader:         \n",
    "            batch_X, batch_y = batch\n",
    "            \n",
    "            batch_X = batch_X.to(device)\n",
    "            batch_y = batch_y.to(device)\n",
    "            \n",
    "            # TODO: Complete this train method to train the model provided.\n",
    "            \n",
    "            optimizer.zero_grad()\n",
    "            \n",
    "            # Note: Outputs is Y_pred\n",
    "            outputs = model(batch_X)\n",
    "            \n",
    "            \n",
    "            loss = loss_fn(outputs,batch_y)\n",
    "            loss.backward()\n",
    "            optimizer.step()\n",
    "            \n",
    "            total_loss += loss.data.item()\n",
    "        print(\"Epoch: {}, BCELoss: {}\".format(epoch, total_loss / len(train_loader)))"
   ]
  },
  {
   "cell_type": "markdown",
   "metadata": {},
   "source": [
    "Supposing we have the training method above, we will test that it is working by writing a bit of code in the notebook that executes our training method on the small sample training set that we loaded earlier. The reason for doing this in the notebook is so that we have an opportunity to fix any errors that arise early when they are easier to diagnose."
   ]
  },
  {
   "cell_type": "code",
   "execution_count": 312,
   "metadata": {},
   "outputs": [
    {
     "name": "stdout",
     "output_type": "stream",
     "text": [
      "Epoch: 1, BCELoss: 0.6979686379432678\n",
      "Epoch: 2, BCELoss: 0.6933967471122742\n",
      "Epoch: 3, BCELoss: 0.6933750152587891\n",
      "Epoch: 4, BCELoss: 0.6940710663795471\n",
      "Epoch: 5, BCELoss: 0.6939402222633362\n"
     ]
    }
   ],
   "source": [
    "import torch.optim as optim\n",
    "from train.model import LSTMClassifier\n",
    "\n",
    "device = torch.device(\"cuda\" if torch.cuda.is_available() else \"cpu\")\n",
    "model = LSTMClassifier(32, 100, 5000).to(device)\n",
    "optimizer = optim.Adam(model.parameters())\n",
    "loss_fn = torch.nn.BCELoss()\n",
    "\n",
    "train(model, train_sample_dl, 5, optimizer, loss_fn, device)"
   ]
  },
  {
   "cell_type": "markdown",
   "metadata": {},
   "source": [
    "In order to construct a PyTorch model using SageMaker we must provide SageMaker with a training script. We may optionally include a directory which will be copied to the container and from which our training code will be run. When the training container is executed it will check the uploaded directory (if there is one) for a `requirements.txt` file and install any required Python libraries, after which the training script will be run."
   ]
  },
  {
   "cell_type": "markdown",
   "metadata": {},
   "source": [
    "### (TODO) Training the model\n",
    "\n",
    "When a PyTorch model is constructed in SageMaker, an entry point must be specified. This is the Python file which will be executed when the model is trained. Inside of the `train` directory is a file called `train.py` which has been provided and which contains most of the necessary code to train our model. The only thing that is missing is the implementation of the `train()` method which you wrote earlier in this notebook.\n",
    "\n",
    "**TODO**: Copy the `train()` method written above and paste it into the `train/train.py` file where required.\n",
    "\n",
    "The way that SageMaker passes hyperparameters to the training script is by way of arguments. These arguments can then be parsed and used in the training script. To see how this is done take a look at the provided `train/train.py` file."
   ]
  },
  {
   "cell_type": "code",
   "execution_count": 314,
   "metadata": {},
   "outputs": [],
   "source": [
    "# set values for hyperparameters in the estimator arguments\n",
    "\n",
    "\n",
    "from sagemaker.pytorch import PyTorch\n",
    "\n",
    "estimator = PyTorch(entry_point=\"train.py\",\n",
    "                    source_dir=\"train\",\n",
    "                    role=role,\n",
    "                    framework_version='0.4.0',\n",
    "                    train_instance_count=1,\n",
    "                    train_instance_type='ml.m4.xlarge',\n",
    "                    hyperparameters={\n",
    "                        'epochs': 6,\n",
    "                        'hidden_dim': 40,\n",
    "                    })"
   ]
  },
  {
   "cell_type": "code",
   "execution_count": 315,
   "metadata": {
    "scrolled": true
   },
   "outputs": [
    {
     "name": "stderr",
     "output_type": "stream",
     "text": [
      "'create_image_uri' will be deprecated in favor of 'ImageURIProvider' class in SageMaker Python SDK v2.\n",
      "'s3_input' class will be renamed to 'TrainingInput' in SageMaker Python SDK v2.\n",
      "'create_image_uri' will be deprecated in favor of 'ImageURIProvider' class in SageMaker Python SDK v2.\n"
     ]
    },
    {
     "name": "stdout",
     "output_type": "stream",
     "text": [
      "2021-03-13 06:54:36 Starting - Starting the training job...\n",
      "2021-03-13 06:54:39 Starting - Launching requested ML instances......\n",
      "2021-03-13 06:55:47 Starting - Preparing the instances for training...\n",
      "2021-03-13 06:56:34 Downloading - Downloading input data...\n",
      "2021-03-13 06:56:57 Training - Downloading the training image..\n",
      "2021-03-13 06:57:18 Training - Training image download completed. Training in progress.\u001b[34mbash: cannot set terminal process group (-1): Inappropriate ioctl for device\u001b[0m\n",
      "\u001b[34mbash: no job control in this shell\u001b[0m\n",
      "\u001b[34m2021-03-13 06:57:19,622 sagemaker-containers INFO     Imported framework sagemaker_pytorch_container.training\u001b[0m\n",
      "\u001b[34m2021-03-13 06:57:19,625 sagemaker-containers INFO     No GPUs detected (normal if no gpus installed)\u001b[0m\n",
      "\u001b[34m2021-03-13 06:57:19,638 sagemaker_pytorch_container.training INFO     Block until all host DNS lookups succeed.\u001b[0m\n",
      "\u001b[34m2021-03-13 06:57:22,682 sagemaker_pytorch_container.training INFO     Invoking user training script.\u001b[0m\n",
      "\u001b[34m2021-03-13 06:57:22,956 sagemaker-containers INFO     Module train does not provide a setup.py. \u001b[0m\n",
      "\u001b[34mGenerating setup.py\u001b[0m\n",
      "\u001b[34m2021-03-13 06:57:22,956 sagemaker-containers INFO     Generating setup.cfg\u001b[0m\n",
      "\u001b[34m2021-03-13 06:57:22,956 sagemaker-containers INFO     Generating MANIFEST.in\u001b[0m\n",
      "\u001b[34m2021-03-13 06:57:22,956 sagemaker-containers INFO     Installing module with the following command:\u001b[0m\n",
      "\u001b[34m/usr/bin/python -m pip install -U . -r requirements.txt\u001b[0m\n",
      "\u001b[34mProcessing /opt/ml/code\u001b[0m\n",
      "\u001b[34mCollecting pandas (from -r requirements.txt (line 1))\u001b[0m\n",
      "\u001b[34m  Downloading https://files.pythonhosted.org/packages/74/24/0cdbf8907e1e3bc5a8da03345c23cbed7044330bb8f73bb12e711a640a00/pandas-0.24.2-cp35-cp35m-manylinux1_x86_64.whl (10.0MB)\u001b[0m\n",
      "\u001b[34mCollecting numpy (from -r requirements.txt (line 2))\u001b[0m\n",
      "\u001b[34m  Downloading https://files.pythonhosted.org/packages/b5/36/88723426b4ff576809fec7d73594fe17a35c27f8d01f93637637a29ae25b/numpy-1.18.5-cp35-cp35m-manylinux1_x86_64.whl (19.9MB)\u001b[0m\n",
      "\u001b[34mCollecting nltk (from -r requirements.txt (line 3))\n",
      "  Downloading https://files.pythonhosted.org/packages/92/75/ce35194d8e3022203cca0d2f896dbb88689f9b3fce8e9f9cff942913519d/nltk-3.5.zip (1.4MB)\u001b[0m\n",
      "\u001b[34mCollecting beautifulsoup4 (from -r requirements.txt (line 4))\n",
      "  Downloading https://files.pythonhosted.org/packages/d1/41/e6495bd7d3781cee623ce23ea6ac73282a373088fcd0ddc809a047b18eae/beautifulsoup4-4.9.3-py3-none-any.whl (115kB)\u001b[0m\n",
      "\u001b[34mCollecting html5lib (from -r requirements.txt (line 5))\n",
      "  Downloading https://files.pythonhosted.org/packages/6c/dd/a834df6482147d48e225a49515aabc28974ad5a4ca3215c18a882565b028/html5lib-1.1-py2.py3-none-any.whl (112kB)\u001b[0m\n",
      "\u001b[34mRequirement already satisfied, skipping upgrade: python-dateutil>=2.5.0 in /usr/local/lib/python3.5/dist-packages (from pandas->-r requirements.txt (line 1)) (2.7.5)\u001b[0m\n",
      "\u001b[34mCollecting pytz>=2011k (from pandas->-r requirements.txt (line 1))\n",
      "  Downloading https://files.pythonhosted.org/packages/70/94/784178ca5dd892a98f113cdd923372024dc04b8d40abe77ca76b5fb90ca6/pytz-2021.1-py2.py3-none-any.whl (510kB)\u001b[0m\n",
      "\u001b[34mRequirement already satisfied, skipping upgrade: click in /usr/local/lib/python3.5/dist-packages (from nltk->-r requirements.txt (line 3)) (7.0)\u001b[0m\n",
      "\u001b[34mCollecting joblib (from nltk->-r requirements.txt (line 3))\n",
      "  Downloading https://files.pythonhosted.org/packages/28/5c/cf6a2b65a321c4a209efcdf64c2689efae2cb62661f8f6f4bb28547cf1bf/joblib-0.14.1-py2.py3-none-any.whl (294kB)\u001b[0m\n",
      "\u001b[34mCollecting regex (from nltk->-r requirements.txt (line 3))\n",
      "  Downloading https://files.pythonhosted.org/packages/2e/e4/3447fed9ab29944333f48730ecff4dca92f0868c5b188d6ab2b2078e32c2/regex-2020.11.13.tar.gz (694kB)\u001b[0m\n",
      "\u001b[34mCollecting tqdm (from nltk->-r requirements.txt (line 3))\n",
      "  Downloading https://files.pythonhosted.org/packages/f8/3e/2730d0effc282960dbff3cf91599ad0d8f3faedc8e75720fdf224b31ab24/tqdm-4.59.0-py2.py3-none-any.whl (74kB)\u001b[0m\n",
      "\u001b[34mCollecting soupsieve>1.2; python_version >= \"3.0\" (from beautifulsoup4->-r requirements.txt (line 4))\n",
      "  Downloading https://files.pythonhosted.org/packages/02/fb/1c65691a9aeb7bd6ac2aa505b84cb8b49ac29c976411c6ab3659425e045f/soupsieve-2.1-py3-none-any.whl\u001b[0m\n",
      "\u001b[34mCollecting webencodings (from html5lib->-r requirements.txt (line 5))\n",
      "  Downloading https://files.pythonhosted.org/packages/f4/24/2a3e3df732393fed8b3ebf2ec078f05546de641fe1b667ee316ec1dcf3b7/webencodings-0.5.1-py2.py3-none-any.whl\u001b[0m\n",
      "\u001b[34mRequirement already satisfied, skipping upgrade: six>=1.9 in /usr/local/lib/python3.5/dist-packages (from html5lib->-r requirements.txt (line 5)) (1.11.0)\u001b[0m\n",
      "\u001b[34mBuilding wheels for collected packages: nltk, train, regex\n",
      "  Running setup.py bdist_wheel for nltk: started\u001b[0m\n",
      "\u001b[34m  Running setup.py bdist_wheel for nltk: finished with status 'done'\n",
      "  Stored in directory: /root/.cache/pip/wheels/ae/8c/3f/b1fe0ba04555b08b57ab52ab7f86023639a526d8bc8d384306\n",
      "  Running setup.py bdist_wheel for train: started\n",
      "  Running setup.py bdist_wheel for train: finished with status 'done'\n",
      "  Stored in directory: /tmp/pip-ephem-wheel-cache-f21hsr2p/wheels/35/24/16/37574d11bf9bde50616c67372a334f94fa8356bc7164af8ca3\n",
      "  Running setup.py bdist_wheel for regex: started\u001b[0m\n",
      "\u001b[34m  Running setup.py bdist_wheel for regex: finished with status 'done'\n",
      "  Stored in directory: /root/.cache/pip/wheels/27/f6/66/a4243e485a0ebc73dc59033ae26c48e82526f77dbfe158ac59\u001b[0m\n",
      "\u001b[34mSuccessfully built nltk train regex\u001b[0m\n",
      "\u001b[34mInstalling collected packages: pytz, numpy, pandas, joblib, regex, tqdm, nltk, soupsieve, beautifulsoup4, webencodings, html5lib, train\n",
      "  Found existing installation: numpy 1.15.4\n",
      "    Uninstalling numpy-1.15.4:\u001b[0m\n",
      "\u001b[34m      Successfully uninstalled numpy-1.15.4\u001b[0m\n",
      "\u001b[34mSuccessfully installed beautifulsoup4-4.9.3 html5lib-1.1 joblib-0.14.1 nltk-3.5 numpy-1.18.5 pandas-0.24.2 pytz-2021.1 regex-2020.11.13 soupsieve-2.1 tqdm-4.59.0 train-1.0.0 webencodings-0.5.1\u001b[0m\n",
      "\u001b[34mYou are using pip version 18.1, however version 20.3.4 is available.\u001b[0m\n",
      "\u001b[34mYou should consider upgrading via the 'pip install --upgrade pip' command.\u001b[0m\n",
      "\u001b[34m2021-03-13 06:57:46,391 sagemaker-containers INFO     No GPUs detected (normal if no gpus installed)\u001b[0m\n",
      "\u001b[34m2021-03-13 06:57:46,406 sagemaker-containers INFO     Invoking user script\n",
      "\u001b[0m\n",
      "\u001b[34mTraining Env:\n",
      "\u001b[0m\n",
      "\u001b[34m{\n",
      "    \"model_dir\": \"/opt/ml/model\",\n",
      "    \"input_data_config\": {\n",
      "        \"training\": {\n",
      "            \"RecordWrapperType\": \"None\",\n",
      "            \"TrainingInputMode\": \"File\",\n",
      "            \"S3DistributionType\": \"FullyReplicated\"\n",
      "        }\n",
      "    },\n",
      "    \"user_entry_point\": \"train.py\",\n",
      "    \"current_host\": \"algo-1\",\n",
      "    \"num_cpus\": 4,\n",
      "    \"log_level\": 20,\n",
      "    \"resource_config\": {\n",
      "        \"hosts\": [\n",
      "            \"algo-1\"\n",
      "        ],\n",
      "        \"current_host\": \"algo-1\",\n",
      "        \"network_interface_name\": \"eth0\"\n",
      "    },\n",
      "    \"output_data_dir\": \"/opt/ml/output/data\",\n",
      "    \"additional_framework_parameters\": {},\n",
      "    \"channel_input_dirs\": {\n",
      "        \"training\": \"/opt/ml/input/data/training\"\n",
      "    },\n",
      "    \"num_gpus\": 0,\n",
      "    \"module_dir\": \"s3://sagemaker-us-east-2-421096549402/sagemaker-pytorch-2021-03-13-06-54-36-579/source/sourcedir.tar.gz\",\n",
      "    \"hyperparameters\": {\n",
      "        \"epochs\": 6,\n",
      "        \"hidden_dim\": 40\n",
      "    },\n",
      "    \"output_intermediate_dir\": \"/opt/ml/output/intermediate\",\n",
      "    \"network_interface_name\": \"eth0\",\n",
      "    \"output_dir\": \"/opt/ml/output\",\n",
      "    \"input_config_dir\": \"/opt/ml/input/config\",\n",
      "    \"framework_module\": \"sagemaker_pytorch_container.training:main\",\n",
      "    \"job_name\": \"sagemaker-pytorch-2021-03-13-06-54-36-579\",\n",
      "    \"hosts\": [\n",
      "        \"algo-1\"\n",
      "    ],\n",
      "    \"module_name\": \"train\",\n",
      "    \"input_dir\": \"/opt/ml/input\"\u001b[0m\n",
      "\u001b[34m}\n",
      "\u001b[0m\n",
      "\u001b[34mEnvironment variables:\n",
      "\u001b[0m\n",
      "\u001b[34mSM_HP_EPOCHS=6\u001b[0m\n",
      "\u001b[34mSM_MODULE_NAME=train\u001b[0m\n",
      "\u001b[34mPYTHONPATH=/usr/local/bin:/usr/lib/python35.zip:/usr/lib/python3.5:/usr/lib/python3.5/plat-x86_64-linux-gnu:/usr/lib/python3.5/lib-dynload:/usr/local/lib/python3.5/dist-packages:/usr/lib/python3/dist-packages\u001b[0m\n",
      "\u001b[34mSM_FRAMEWORK_PARAMS={}\u001b[0m\n",
      "\u001b[34mSM_HOSTS=[\"algo-1\"]\u001b[0m\n",
      "\u001b[34mSM_INPUT_DATA_CONFIG={\"training\":{\"RecordWrapperType\":\"None\",\"S3DistributionType\":\"FullyReplicated\",\"TrainingInputMode\":\"File\"}}\u001b[0m\n",
      "\u001b[34mSM_INPUT_DIR=/opt/ml/input\u001b[0m\n",
      "\u001b[34mSM_LOG_LEVEL=20\u001b[0m\n",
      "\u001b[34mSM_MODULE_DIR=s3://sagemaker-us-east-2-421096549402/sagemaker-pytorch-2021-03-13-06-54-36-579/source/sourcedir.tar.gz\u001b[0m\n",
      "\u001b[34mSM_CURRENT_HOST=algo-1\u001b[0m\n",
      "\u001b[34mSM_TRAINING_ENV={\"additional_framework_parameters\":{},\"channel_input_dirs\":{\"training\":\"/opt/ml/input/data/training\"},\"current_host\":\"algo-1\",\"framework_module\":\"sagemaker_pytorch_container.training:main\",\"hosts\":[\"algo-1\"],\"hyperparameters\":{\"epochs\":6,\"hidden_dim\":40},\"input_config_dir\":\"/opt/ml/input/config\",\"input_data_config\":{\"training\":{\"RecordWrapperType\":\"None\",\"S3DistributionType\":\"FullyReplicated\",\"TrainingInputMode\":\"File\"}},\"input_dir\":\"/opt/ml/input\",\"job_name\":\"sagemaker-pytorch-2021-03-13-06-54-36-579\",\"log_level\":20,\"model_dir\":\"/opt/ml/model\",\"module_dir\":\"s3://sagemaker-us-east-2-421096549402/sagemaker-pytorch-2021-03-13-06-54-36-579/source/sourcedir.tar.gz\",\"module_name\":\"train\",\"network_interface_name\":\"eth0\",\"num_cpus\":4,\"num_gpus\":0,\"output_data_dir\":\"/opt/ml/output/data\",\"output_dir\":\"/opt/ml/output\",\"output_intermediate_dir\":\"/opt/ml/output/intermediate\",\"resource_config\":{\"current_host\":\"algo-1\",\"hosts\":[\"algo-1\"],\"network_interface_name\":\"eth0\"},\"user_entry_point\":\"train.py\"}\u001b[0m\n",
      "\u001b[34mSM_NUM_CPUS=4\u001b[0m\n",
      "\u001b[34mSM_NETWORK_INTERFACE_NAME=eth0\u001b[0m\n",
      "\u001b[34mSM_INPUT_CONFIG_DIR=/opt/ml/input/config\u001b[0m\n",
      "\u001b[34mSM_HP_HIDDEN_DIM=40\u001b[0m\n",
      "\u001b[34mSM_USER_ARGS=[\"--epochs\",\"6\",\"--hidden_dim\",\"40\"]\u001b[0m\n",
      "\u001b[34mSM_OUTPUT_INTERMEDIATE_DIR=/opt/ml/output/intermediate\u001b[0m\n",
      "\u001b[34mSM_NUM_GPUS=0\u001b[0m\n",
      "\u001b[34mSM_CHANNEL_TRAINING=/opt/ml/input/data/training\u001b[0m\n",
      "\u001b[34mSM_OUTPUT_DATA_DIR=/opt/ml/output/data\u001b[0m\n",
      "\u001b[34mSM_OUTPUT_DIR=/opt/ml/output\u001b[0m\n",
      "\u001b[34mSM_USER_ENTRY_POINT=train.py\u001b[0m\n",
      "\u001b[34mSM_CHANNELS=[\"training\"]\u001b[0m\n",
      "\u001b[34mSM_MODEL_DIR=/opt/ml/model\u001b[0m\n",
      "\u001b[34mSM_FRAMEWORK_MODULE=sagemaker_pytorch_container.training:main\u001b[0m\n",
      "\u001b[34mSM_RESOURCE_CONFIG={\"current_host\":\"algo-1\",\"hosts\":[\"algo-1\"],\"network_interface_name\":\"eth0\"}\u001b[0m\n",
      "\u001b[34mSM_HPS={\"epochs\":6,\"hidden_dim\":40}\n",
      "\u001b[0m\n",
      "\u001b[34mInvoking script with the following command:\n",
      "\u001b[0m\n",
      "\u001b[34m/usr/bin/python -m train --epochs 6 --hidden_dim 40\n",
      "\n",
      "\u001b[0m\n",
      "\u001b[34mUsing device cpu.\u001b[0m\n",
      "\u001b[34mGet train data loader.\u001b[0m\n",
      "\u001b[34mModel loaded with embedding_dim 32, hidden_dim 40, vocab_size 5000.\u001b[0m\n",
      "\u001b[34mEpoch: 1, BCELoss: 0.6935001721187514\u001b[0m\n",
      "\u001b[34mEpoch: 2, BCELoss: 0.6932748483151806\u001b[0m\n",
      "\u001b[34mEpoch: 3, BCELoss: 0.6932438332207349\u001b[0m\n",
      "\u001b[34mEpoch: 4, BCELoss: 0.6932404917113635\u001b[0m\n",
      "\u001b[34mEpoch: 5, BCELoss: 0.6932382109213848\u001b[0m\n",
      "\u001b[34mEpoch: 6, BCELoss: 0.6932393823351178\u001b[0m\n",
      "\u001b[34m2021-03-13 07:50:32,839 sagemaker-containers INFO     Reporting training SUCCESS\u001b[0m\n",
      "\n",
      "2021-03-13 07:50:42 Uploading - Uploading generated training model\n",
      "2021-03-13 07:50:42 Completed - Training job completed\n",
      "Training seconds: 3248\n",
      "Billable seconds: 3248\n"
     ]
    }
   ],
   "source": [
    "# Fit the Training model\n",
    "\n",
    "estimator.fit({'training': input_data})"
   ]
  },
  {
   "cell_type": "markdown",
   "metadata": {},
   "source": [
    "## Step 5: Testing the model\n",
    "\n",
    "As mentioned at the top of this notebook, we will be testing this model by first deploying it and then sending the testing data to the deployed endpoint. We will do this so that we can make sure that the deployed model is working correctly.\n",
    "\n",
    "## Step 6: Deploy the model for testing\n",
    "\n",
    "Now that we have trained our model, we would like to test it to see how it performs. Currently our model takes input of the form `review_length, review[500]` where `review[500]` is a sequence of `500` integers which describe the words present in the review, encoded using `word_dict`. Fortunately for us, SageMaker provides built-in inference code for models with simple inputs such as this.\n",
    "\n",
    "There is one thing that we need to provide, however, and that is a function which loads the saved model. This function must be called `model_fn()` and takes as its only parameter a path to the directory where the model artifacts are stored. This function must also be present in the python file which we specified as the entry point. In our case the model loading function has been provided and so no changes need to be made.\n",
    "\n",
    "**NOTE**: When the built-in inference code is run it must import the `model_fn()` method from the `train.py` file. This is why the training code is wrapped in a main guard ( ie, `if __name__ == '__main__':` )\n",
    "\n",
    "Since we don't need to change anything in the code that was uploaded during training, we can simply deploy the current model as-is.\n",
    "\n",
    "**NOTE:** When deploying a model you are asking SageMaker to launch an compute instance that will wait for data to be sent to it. As a result, this compute instance will continue to run until *you* shut it down. This is important to know since the cost of a deployed endpoint depends on how long it has been running for.\n",
    "\n",
    "In other words **If you are no longer using a deployed endpoint, shut it down!**\n",
    "\n",
    "**TODO:** Deploy the trained model."
   ]
  },
  {
   "cell_type": "code",
   "execution_count": 328,
   "metadata": {},
   "outputs": [
    {
     "name": "stderr",
     "output_type": "stream",
     "text": [
      "Parameter image will be renamed to image_uri in SageMaker Python SDK v2.\n",
      "'create_image_uri' will be deprecated in favor of 'ImageURIProvider' class in SageMaker Python SDK v2.\n",
      "Using already existing model: sagemaker-pytorch-2021-03-13-06-54-36-579\n"
     ]
    },
    {
     "name": "stdout",
     "output_type": "stream",
     "text": [
      "---------------!"
     ]
    }
   ],
   "source": [
    "# TODO: Deploy the trained model\n",
    "from sagemaker.pytorch import PyTorchModel\n",
    "\n",
    "predictor = estimator.deploy(instance_type='ml.m4.xlarge',initial_instance_count=1)\n"
   ]
  },
  {
   "cell_type": "markdown",
   "metadata": {},
   "source": [
    "## Step 7 - Use the model for testing\n",
    "\n",
    "Once deployed, we can read in the test data and send it off to our deployed model to get some results. Once we collect all of the results we can determine how accurate our model is."
   ]
  },
  {
   "cell_type": "code",
   "execution_count": 329,
   "metadata": {},
   "outputs": [],
   "source": [
    "test_X = pd.concat([pd.DataFrame(test_X_len), pd.DataFrame(test_X)], axis=1)"
   ]
  },
  {
   "cell_type": "code",
   "execution_count": 330,
   "metadata": {},
   "outputs": [],
   "source": [
    "# We split the data into chunks and send each chunk seperately, accumulating the results.\n",
    "\n",
    "def predict(data, rows=512):\n",
    "    split_array = np.array_split(data, int(data.shape[0] / float(rows) + 1))\n",
    "    predictions = np.array([])\n",
    "    for array in split_array:\n",
    "        predictions = np.append(predictions, predictor.predict(array))\n",
    "    \n",
    "    return predictions"
   ]
  },
  {
   "cell_type": "code",
   "execution_count": 331,
   "metadata": {},
   "outputs": [],
   "source": [
    "predictions = predict(test_X.values)\n",
    "predictions = [round(num) for num in predictions]"
   ]
  },
  {
   "cell_type": "code",
   "execution_count": 209,
   "metadata": {},
   "outputs": [
    {
     "data": {
      "text/plain": [
       "0.5"
      ]
     },
     "execution_count": 209,
     "metadata": {},
     "output_type": "execute_result"
    }
   ],
   "source": [
    "from sklearn.metrics import accuracy_score\n",
    "accuracy_score(test_y, predictions)"
   ]
  },
  {
   "cell_type": "markdown",
   "metadata": {},
   "source": [
    "**Question:** How does this model compare to the XGBoost model you created earlier? Why might these two models perform differently on this dataset? Which do *you* think is better for sentiment analysis?"
   ]
  },
  {
   "cell_type": "markdown",
   "metadata": {},
   "source": [
    "**Answer:**"
   ]
  },
  {
   "cell_type": "markdown",
   "metadata": {},
   "source": [
    "### (TODO) More testing\n",
    "\n",
    "We now have a trained model which has been deployed and which we can send processed reviews to and which returns the predicted sentiment. However, ultimately we would like to be able to send our model an unprocessed review. That is, we would like to send the review itself as a string. For example, suppose we wish to send the following review to our model."
   ]
  },
  {
   "cell_type": "code",
   "execution_count": 332,
   "metadata": {},
   "outputs": [],
   "source": [
    "test_review = 'The simplest pleasures in life are the best, and this film is one of them. Combining a rather basic storyline of love and adventure this movie transcends the usual weekend fair with wit and unmitigated charm.'"
   ]
  },
  {
   "cell_type": "markdown",
   "metadata": {},
   "source": [
    "The question we now need to answer is, how do we send this review to our model?\n",
    "\n",
    "Recall in the first section of this notebook we did a bunch of data processing to the IMDb dataset. In particular, we did two specific things to the provided reviews.\n",
    " - Removed any html tags and stemmed the input\n",
    " - Encoded the review as a sequence of integers using `word_dict`\n",
    " \n",
    "In order process the review we will need to repeat these two steps.\n",
    "\n",
    "**TODO**: Using the `review_to_words` and `convert_and_pad` methods from section one, convert `test_review` into a numpy array `test_data` suitable to send to our model. Remember that our model expects input of the form `review_length, review[500]`."
   ]
  },
  {
   "cell_type": "code",
   "execution_count": 333,
   "metadata": {},
   "outputs": [],
   "source": [
    "# TODO: Convert test_review into a form usable by the model and save the results in test_data\n",
    "test_data = None\n",
    "\n",
    "#test_data_int, len_test  = convert_and_pad(word_dict, review_to_words(test_review)) \n",
    "#test_data = np.array([np.array([len_test] + test_data_int)])\n",
    "\n",
    "review_list, review_length = convert_and_pad(word_dict, review_to_words(test_review))\n",
    "test_data = np.array([np.array([review_length] + review_list)]) \n",
    "\n"
   ]
  },
  {
   "cell_type": "markdown",
   "metadata": {},
   "source": [
    "Now that we have processed the review, we can send the resulting array to our model to predict the sentiment of the review."
   ]
  },
  {
   "cell_type": "code",
   "execution_count": 334,
   "metadata": {},
   "outputs": [
    {
     "data": {
      "text/plain": [
       "array(0.48407722, dtype=float32)"
      ]
     },
     "execution_count": 334,
     "metadata": {},
     "output_type": "execute_result"
    }
   ],
   "source": [
    "predictor.predict(test_data)"
   ]
  },
  {
   "cell_type": "markdown",
   "metadata": {},
   "source": [
    "Since the return value of our model is close to `1`, we can be certain that the review we submitted is positive."
   ]
  },
  {
   "cell_type": "markdown",
   "metadata": {},
   "source": [
    "### Delete the endpoint\n",
    "\n",
    "Of course, just like in the XGBoost notebook, once we've deployed an endpoint it continues to run until we tell it to shut down. Since we are done using our endpoint for now, we can delete it."
   ]
  },
  {
   "cell_type": "code",
   "execution_count": 327,
   "metadata": {},
   "outputs": [
    {
     "name": "stderr",
     "output_type": "stream",
     "text": [
      "estimator.delete_endpoint() will be deprecated in SageMaker Python SDK v2. Please use the delete_endpoint() function on your predictor instead.\n"
     ]
    }
   ],
   "source": [
    "estimator.delete_endpoint()"
   ]
  },
  {
   "cell_type": "markdown",
   "metadata": {},
   "source": [
    "## Step 6 (again) - Deploy the model for the web app\n",
    "\n",
    "Now that we know that our model is working, it's time to create some custom inference code so that we can send the model a review which has not been processed and have it determine the sentiment of the review.\n",
    "\n",
    "As we saw above, by default the estimator which we created, when deployed, will use the entry script and directory which we provided when creating the model. However, since we now wish to accept a string as input and our model expects a processed review, we need to write some custom inference code.\n",
    "\n",
    "We will store the code that we write in the `serve` directory. Provided in this directory is the `model.py` file that we used to construct our model, a `utils.py` file which contains the `review_to_words` and `convert_and_pad` pre-processing functions which we used during the initial data processing, and `predict.py`, the file which will contain our custom inference code. Note also that `requirements.txt` is present which will tell SageMaker what Python libraries are required by our custom inference code.\n",
    "\n",
    "When deploying a PyTorch model in SageMaker, you are expected to provide four functions which the SageMaker inference container will use.\n",
    " - `model_fn`: This function is the same function that we used in the training script and it tells SageMaker how to load our model.\n",
    " - `input_fn`: This function receives the raw serialized input that has been sent to the model's endpoint and its job is to de-serialize and make the input available for the inference code.\n",
    " - `output_fn`: This function takes the output of the inference code and its job is to serialize this output and return it to the caller of the model's endpoint.\n",
    " - `predict_fn`: The heart of the inference script, this is where the actual prediction is done and is the function which you will need to complete.\n",
    "\n",
    "For the simple website that we are constructing during this project, the `input_fn` and `output_fn` methods are relatively straightforward. We only require being able to accept a string as input and we expect to return a single value as output. You might imagine though that in a more complex application the input or output may be image data or some other binary data which would require some effort to serialize.\n",
    "\n",
    "### (TODO) Writing inference code\n",
    "\n",
    "Before writing our custom inference code, we will begin by taking a look at the code which has been provided."
   ]
  },
  {
   "cell_type": "code",
   "execution_count": 336,
   "metadata": {},
   "outputs": [
    {
     "name": "stdout",
     "output_type": "stream",
     "text": [
      "\u001b[34mimport\u001b[39;49;00m \u001b[04m\u001b[36margparse\u001b[39;49;00m\r\n",
      "\u001b[34mimport\u001b[39;49;00m \u001b[04m\u001b[36mjson\u001b[39;49;00m\r\n",
      "\u001b[34mimport\u001b[39;49;00m \u001b[04m\u001b[36mos\u001b[39;49;00m\r\n",
      "\u001b[34mimport\u001b[39;49;00m \u001b[04m\u001b[36mpickle\u001b[39;49;00m\r\n",
      "\u001b[34mimport\u001b[39;49;00m \u001b[04m\u001b[36msys\u001b[39;49;00m\r\n",
      "\u001b[34mimport\u001b[39;49;00m \u001b[04m\u001b[36msagemaker_containers\u001b[39;49;00m\r\n",
      "\u001b[34mimport\u001b[39;49;00m \u001b[04m\u001b[36mpandas\u001b[39;49;00m \u001b[34mas\u001b[39;49;00m \u001b[04m\u001b[36mpd\u001b[39;49;00m\r\n",
      "\u001b[34mimport\u001b[39;49;00m \u001b[04m\u001b[36mnumpy\u001b[39;49;00m \u001b[34mas\u001b[39;49;00m \u001b[04m\u001b[36mnp\u001b[39;49;00m\r\n",
      "\u001b[34mimport\u001b[39;49;00m \u001b[04m\u001b[36mtorch\u001b[39;49;00m\r\n",
      "\u001b[34mimport\u001b[39;49;00m \u001b[04m\u001b[36mtorch\u001b[39;49;00m\u001b[04m\u001b[36m.\u001b[39;49;00m\u001b[04m\u001b[36mnn\u001b[39;49;00m \u001b[34mas\u001b[39;49;00m \u001b[04m\u001b[36mnn\u001b[39;49;00m\r\n",
      "\u001b[34mimport\u001b[39;49;00m \u001b[04m\u001b[36mtorch\u001b[39;49;00m\u001b[04m\u001b[36m.\u001b[39;49;00m\u001b[04m\u001b[36moptim\u001b[39;49;00m \u001b[34mas\u001b[39;49;00m \u001b[04m\u001b[36moptim\u001b[39;49;00m\r\n",
      "\u001b[34mimport\u001b[39;49;00m \u001b[04m\u001b[36mtorch\u001b[39;49;00m\u001b[04m\u001b[36m.\u001b[39;49;00m\u001b[04m\u001b[36mutils\u001b[39;49;00m\u001b[04m\u001b[36m.\u001b[39;49;00m\u001b[04m\u001b[36mdata\u001b[39;49;00m\r\n",
      "\r\n",
      "\u001b[34mfrom\u001b[39;49;00m \u001b[04m\u001b[36mmodel\u001b[39;49;00m \u001b[34mimport\u001b[39;49;00m LSTMClassifier\r\n",
      "\r\n",
      "\u001b[34mfrom\u001b[39;49;00m \u001b[04m\u001b[36mutils\u001b[39;49;00m \u001b[34mimport\u001b[39;49;00m review_to_words, convert_and_pad\r\n",
      "\r\n",
      "\u001b[34mdef\u001b[39;49;00m \u001b[32mmodel_fn\u001b[39;49;00m(model_dir):\r\n",
      "    \u001b[33m\"\"\"Load the PyTorch model from the `model_dir` directory.\"\"\"\u001b[39;49;00m\r\n",
      "    \u001b[36mprint\u001b[39;49;00m(\u001b[33m\"\u001b[39;49;00m\u001b[33mLoading model.\u001b[39;49;00m\u001b[33m\"\u001b[39;49;00m)\r\n",
      "\r\n",
      "    \u001b[37m# First, load the parameters used to create the model.\u001b[39;49;00m\r\n",
      "    model_info = {}\r\n",
      "    model_info_path = os.path.join(model_dir, \u001b[33m'\u001b[39;49;00m\u001b[33mmodel_info.pth\u001b[39;49;00m\u001b[33m'\u001b[39;49;00m)\r\n",
      "    \u001b[34mwith\u001b[39;49;00m \u001b[36mopen\u001b[39;49;00m(model_info_path, \u001b[33m'\u001b[39;49;00m\u001b[33mrb\u001b[39;49;00m\u001b[33m'\u001b[39;49;00m) \u001b[34mas\u001b[39;49;00m f:\r\n",
      "        model_info = torch.load(f)\r\n",
      "\r\n",
      "    \u001b[36mprint\u001b[39;49;00m(\u001b[33m\"\u001b[39;49;00m\u001b[33mmodel_info: \u001b[39;49;00m\u001b[33m{}\u001b[39;49;00m\u001b[33m\"\u001b[39;49;00m.format(model_info))\r\n",
      "\r\n",
      "    \u001b[37m# Determine the device and construct the model.\u001b[39;49;00m\r\n",
      "    device = torch.device(\u001b[33m\"\u001b[39;49;00m\u001b[33mcuda\u001b[39;49;00m\u001b[33m\"\u001b[39;49;00m \u001b[34mif\u001b[39;49;00m torch.cuda.is_available() \u001b[34melse\u001b[39;49;00m \u001b[33m\"\u001b[39;49;00m\u001b[33mcpu\u001b[39;49;00m\u001b[33m\"\u001b[39;49;00m)\r\n",
      "    model = LSTMClassifier(model_info[\u001b[33m'\u001b[39;49;00m\u001b[33membedding_dim\u001b[39;49;00m\u001b[33m'\u001b[39;49;00m], model_info[\u001b[33m'\u001b[39;49;00m\u001b[33mhidden_dim\u001b[39;49;00m\u001b[33m'\u001b[39;49;00m], model_info[\u001b[33m'\u001b[39;49;00m\u001b[33mvocab_size\u001b[39;49;00m\u001b[33m'\u001b[39;49;00m])\r\n",
      "\r\n",
      "    \u001b[37m# Load the store model parameters.\u001b[39;49;00m\r\n",
      "    model_path = os.path.join(model_dir, \u001b[33m'\u001b[39;49;00m\u001b[33mmodel.pth\u001b[39;49;00m\u001b[33m'\u001b[39;49;00m)\r\n",
      "    \u001b[34mwith\u001b[39;49;00m \u001b[36mopen\u001b[39;49;00m(model_path, \u001b[33m'\u001b[39;49;00m\u001b[33mrb\u001b[39;49;00m\u001b[33m'\u001b[39;49;00m) \u001b[34mas\u001b[39;49;00m f:\r\n",
      "        model.load_state_dict(torch.load(f))\r\n",
      "\r\n",
      "    \u001b[37m# Load the saved word_dict.\u001b[39;49;00m\r\n",
      "    word_dict_path = os.path.join(model_dir, \u001b[33m'\u001b[39;49;00m\u001b[33mword_dict.pkl\u001b[39;49;00m\u001b[33m'\u001b[39;49;00m)\r\n",
      "    \u001b[34mwith\u001b[39;49;00m \u001b[36mopen\u001b[39;49;00m(word_dict_path, \u001b[33m'\u001b[39;49;00m\u001b[33mrb\u001b[39;49;00m\u001b[33m'\u001b[39;49;00m) \u001b[34mas\u001b[39;49;00m f:\r\n",
      "        model.word_dict = pickle.load(f)\r\n",
      "\r\n",
      "    model.to(device).eval()\r\n",
      "\r\n",
      "    \u001b[36mprint\u001b[39;49;00m(\u001b[33m\"\u001b[39;49;00m\u001b[33mDone loading model.\u001b[39;49;00m\u001b[33m\"\u001b[39;49;00m)\r\n",
      "    \u001b[34mreturn\u001b[39;49;00m model\r\n",
      "\r\n",
      "\u001b[34mdef\u001b[39;49;00m \u001b[32minput_fn\u001b[39;49;00m(serialized_input_data, content_type):\r\n",
      "    \u001b[36mprint\u001b[39;49;00m(\u001b[33m'\u001b[39;49;00m\u001b[33mDeserializing the input data.\u001b[39;49;00m\u001b[33m'\u001b[39;49;00m)\r\n",
      "    \u001b[34mif\u001b[39;49;00m content_type == \u001b[33m'\u001b[39;49;00m\u001b[33mtext/plain\u001b[39;49;00m\u001b[33m'\u001b[39;49;00m:\r\n",
      "        data = serialized_input_data.decode(\u001b[33m'\u001b[39;49;00m\u001b[33mutf-8\u001b[39;49;00m\u001b[33m'\u001b[39;49;00m)\r\n",
      "        \u001b[34mreturn\u001b[39;49;00m data\r\n",
      "    \u001b[34mraise\u001b[39;49;00m \u001b[36mException\u001b[39;49;00m(\u001b[33m'\u001b[39;49;00m\u001b[33mRequested unsupported ContentType in content_type: \u001b[39;49;00m\u001b[33m'\u001b[39;49;00m + content_type)\r\n",
      "\r\n",
      "\u001b[34mdef\u001b[39;49;00m \u001b[32moutput_fn\u001b[39;49;00m(prediction_output, accept):\r\n",
      "    \u001b[36mprint\u001b[39;49;00m(\u001b[33m'\u001b[39;49;00m\u001b[33mSerializing the generated output.\u001b[39;49;00m\u001b[33m'\u001b[39;49;00m)\r\n",
      "    \u001b[34mreturn\u001b[39;49;00m \u001b[36mstr\u001b[39;49;00m(prediction_output)\r\n",
      "\r\n",
      "\u001b[34mdef\u001b[39;49;00m \u001b[32mpredict_fn\u001b[39;49;00m(input_data, model):\r\n",
      "    \u001b[36mprint\u001b[39;49;00m(\u001b[33m'\u001b[39;49;00m\u001b[33mInferring sentiment of input data.\u001b[39;49;00m\u001b[33m'\u001b[39;49;00m)\r\n",
      "\r\n",
      "    device = torch.device(\u001b[33m\"\u001b[39;49;00m\u001b[33mcuda\u001b[39;49;00m\u001b[33m\"\u001b[39;49;00m \u001b[34mif\u001b[39;49;00m torch.cuda.is_available() \u001b[34melse\u001b[39;49;00m \u001b[33m\"\u001b[39;49;00m\u001b[33mcpu\u001b[39;49;00m\u001b[33m\"\u001b[39;49;00m)\r\n",
      "    \r\n",
      "    \u001b[34mif\u001b[39;49;00m model.word_dict \u001b[35mis\u001b[39;49;00m \u001b[34mNone\u001b[39;49;00m:\r\n",
      "        \u001b[34mraise\u001b[39;49;00m \u001b[36mException\u001b[39;49;00m(\u001b[33m'\u001b[39;49;00m\u001b[33mModel has not been loaded properly, no word_dict.\u001b[39;49;00m\u001b[33m'\u001b[39;49;00m)\r\n",
      "    \r\n",
      "    \u001b[37m# TODO: Process input_data so that it is ready to be sent to our model.\u001b[39;49;00m\r\n",
      "    \u001b[37m#       You should produce two variables:\u001b[39;49;00m\r\n",
      "    \u001b[37m#         data_X   - A sequence of length 500 which represents the converted review\u001b[39;49;00m\r\n",
      "    \u001b[37m#         data_len - The length of the review\u001b[39;49;00m\r\n",
      "\r\n",
      "    data_X = \u001b[34mNone\u001b[39;49;00m\r\n",
      "    data_len = \u001b[34mNone\u001b[39;49;00m\r\n",
      "    \r\n",
      "    data_words = review_to_words(input_data)\r\n",
      "    data_X,_data_len = convert_and_pad_data(model.word_dict,data_words)\r\n",
      "\r\n",
      "    \u001b[37m# Using data_X and data_len we construct an appropriate input tensor. Remember\u001b[39;49;00m\r\n",
      "    \u001b[37m# that our model expects input data of the form 'len, review[500]'.\u001b[39;49;00m\r\n",
      "    data_pack = np.hstack((data_len, data_X))\r\n",
      "    data_pack = data_pack.reshape(\u001b[34m1\u001b[39;49;00m, -\u001b[34m1\u001b[39;49;00m)\r\n",
      "    \r\n",
      "    data = torch.from_numpy(data_pack)\r\n",
      "    data = data.to(device)\r\n",
      "\r\n",
      "    \u001b[37m# Make sure to put the model into evaluation mode\u001b[39;49;00m\r\n",
      "    model.eval()\r\n",
      "\r\n",
      "    \u001b[37m# TODO: Compute the result of applying the model to the input data. The variable `result` should\u001b[39;49;00m\r\n",
      "    \u001b[37m#       be a numpy array which contains a single integer which is either 1 or 0\u001b[39;49;00m\r\n",
      "\r\n",
      "    result = \u001b[34mNone\u001b[39;49;00m\r\n",
      "    \r\n",
      "        \r\n",
      "    \u001b[34mwith\u001b[39;49;00m torch.no_grad(): output = model.forward(data)   \r\n",
      "    result = np.round(output.numpy())\r\n",
      "\r\n",
      "    \u001b[34mreturn\u001b[39;49;00m result\r\n"
     ]
    }
   ],
   "source": [
    "!pygmentize serve/predict.py"
   ]
  },
  {
   "cell_type": "markdown",
   "metadata": {},
   "source": [
    "As mentioned earlier, the `model_fn` method is the same as the one provided in the training code and the `input_fn` and `output_fn` methods are very simple and your task will be to complete the `predict_fn` method. Make sure that you save the completed file as `predict.py` in the `serve` directory.\n",
    "\n",
    "**TODO**: Complete the `predict_fn()` method in the `serve/predict.py` file."
   ]
  },
  {
   "cell_type": "markdown",
   "metadata": {},
   "source": [
    "### Deploying the model\n",
    "\n",
    "Now that the custom inference code has been written, we will create and deploy our model. To begin with, we need to construct a new PyTorchModel object which points to the model artifacts created during training and also points to the inference code that we wish to use. Then we can call the deploy method to launch the deployment container.\n",
    "\n",
    "**NOTE**: The default behaviour for a deployed PyTorch model is to assume that any input passed to the predictor is a `numpy` array. In our case we want to send a string so we need to construct a simple wrapper around the `RealTimePredictor` class to accomodate simple strings. In a more complicated situation you may want to provide a serialization object, for example if you wanted to sent image data."
   ]
  },
  {
   "cell_type": "code",
   "execution_count": 337,
   "metadata": {},
   "outputs": [
    {
     "name": "stderr",
     "output_type": "stream",
     "text": [
      "Parameter image will be renamed to image_uri in SageMaker Python SDK v2.\n",
      "'create_image_uri' will be deprecated in favor of 'ImageURIProvider' class in SageMaker Python SDK v2.\n"
     ]
    },
    {
     "name": "stdout",
     "output_type": "stream",
     "text": [
      "---------------!"
     ]
    }
   ],
   "source": [
    "from sagemaker.predictor import RealTimePredictor\n",
    "from sagemaker.pytorch import PyTorchModel\n",
    "\n",
    "class StringPredictor(RealTimePredictor):\n",
    "    def __init__(self, endpoint_name, sagemaker_session):\n",
    "        super(StringPredictor, self).__init__(endpoint_name, sagemaker_session, content_type='text/plain')\n",
    "\n",
    "model = PyTorchModel(model_data=estimator.model_data,\n",
    "                     role = role,\n",
    "                     framework_version='0.4.0',\n",
    "                     entry_point='predict.py',\n",
    "                     source_dir='serve',\n",
    "                     predictor_cls=StringPredictor)\n",
    "predictor = model.deploy(initial_instance_count=1, instance_type='ml.m4.xlarge')"
   ]
  },
  {
   "cell_type": "markdown",
   "metadata": {},
   "source": [
    "### Testing the model\n",
    "\n",
    "Now that we have deployed our model with the custom inference code, we should test to see if everything is working. Here we test our model by loading the first `250` positive and negative reviews and send them to the endpoint, then collect the results. The reason for only sending some of the data is that the amount of time it takes for our model to process the input and then perform inference is quite long and so testing the entire data set would be prohibitive."
   ]
  },
  {
   "cell_type": "code",
   "execution_count": 338,
   "metadata": {},
   "outputs": [],
   "source": [
    "import glob\n",
    "\n",
    "def test_reviews(data_dir='../data/aclImdb', stop=250):\n",
    "    \n",
    "    results = []\n",
    "    ground = []\n",
    "    \n",
    "    # We make sure to test both positive and negative reviews    \n",
    "    for sentiment in ['pos', 'neg']:\n",
    "        \n",
    "        path = os.path.join(data_dir, 'test', sentiment, '*.txt')\n",
    "        files = glob.glob(path)\n",
    "        \n",
    "        files_read = 0\n",
    "        \n",
    "        print('Starting ', sentiment, ' files')\n",
    "        \n",
    "        # Iterate through the files and send them to the predictor\n",
    "        for f in files:\n",
    "            with open(f) as review:\n",
    "                # First, we store the ground truth (was the review positive or negative)\n",
    "                if sentiment == 'pos':\n",
    "                    ground.append(1)\n",
    "                else:\n",
    "                    ground.append(0)\n",
    "                # Read in the review and convert to 'utf-8' for transmission via HTTP\n",
    "                review_input = review.read().encode('utf-8')\n",
    "                # Send the review to the predictor and store the results\n",
    "                results.append(float(predictor.predict(review_input)))\n",
    "                \n",
    "            # Sending reviews to our endpoint one at a time takes a while so we\n",
    "            # only send a small number of reviews\n",
    "            files_read += 1\n",
    "            if files_read == stop:\n",
    "                break\n",
    "            \n",
    "    return ground, results"
   ]
  },
  {
   "cell_type": "code",
   "execution_count": 339,
   "metadata": {
    "scrolled": true
   },
   "outputs": [
    {
     "name": "stdout",
     "output_type": "stream",
     "text": [
      "Starting  pos  files\n"
     ]
    },
    {
     "ename": "ModelError",
     "evalue": "An error occurred (ModelError) when calling the InvokeEndpoint operation: Received server error (500) from model with message \"<!DOCTYPE HTML PUBLIC \"-//W3C//DTD HTML 3.2 Final//EN\">\n<title>500 Internal Server Error</title>\n<h1>Internal Server Error</h1>\n<p>The server encountered an internal error and was unable to complete your request.  Either the server is overloaded or there is an error in the application.</p>\n\". See https://us-east-2.console.aws.amazon.com/cloudwatch/home?region=us-east-2#logEventViewer:group=/aws/sagemaker/Endpoints/sagemaker-pytorch-2021-03-13-08-45-25-375 in account 421096549402 for more information.",
     "output_type": "error",
     "traceback": [
      "\u001b[0;31m---------------------------------------------------------------------------\u001b[0m",
      "\u001b[0;31mModelError\u001b[0m                                Traceback (most recent call last)",
      "\u001b[0;32m<ipython-input-339-27d1fd4b7c7b>\u001b[0m in \u001b[0;36m<module>\u001b[0;34m\u001b[0m\n\u001b[0;32m----> 1\u001b[0;31m \u001b[0mground\u001b[0m\u001b[0;34m,\u001b[0m \u001b[0mresults\u001b[0m \u001b[0;34m=\u001b[0m \u001b[0mtest_reviews\u001b[0m\u001b[0;34m(\u001b[0m\u001b[0;34m)\u001b[0m\u001b[0;34m\u001b[0m\u001b[0;34m\u001b[0m\u001b[0m\n\u001b[0m",
      "\u001b[0;32m<ipython-input-338-f3b0feb90653>\u001b[0m in \u001b[0;36mtest_reviews\u001b[0;34m(data_dir, stop)\u001b[0m\n\u001b[1;32m     27\u001b[0m                 \u001b[0mreview_input\u001b[0m \u001b[0;34m=\u001b[0m \u001b[0mreview\u001b[0m\u001b[0;34m.\u001b[0m\u001b[0mread\u001b[0m\u001b[0;34m(\u001b[0m\u001b[0;34m)\u001b[0m\u001b[0;34m.\u001b[0m\u001b[0mencode\u001b[0m\u001b[0;34m(\u001b[0m\u001b[0;34m'utf-8'\u001b[0m\u001b[0;34m)\u001b[0m\u001b[0;34m\u001b[0m\u001b[0;34m\u001b[0m\u001b[0m\n\u001b[1;32m     28\u001b[0m                 \u001b[0;31m# Send the review to the predictor and store the results\u001b[0m\u001b[0;34m\u001b[0m\u001b[0;34m\u001b[0m\u001b[0;34m\u001b[0m\u001b[0m\n\u001b[0;32m---> 29\u001b[0;31m                 \u001b[0mresults\u001b[0m\u001b[0;34m.\u001b[0m\u001b[0mappend\u001b[0m\u001b[0;34m(\u001b[0m\u001b[0mfloat\u001b[0m\u001b[0;34m(\u001b[0m\u001b[0mpredictor\u001b[0m\u001b[0;34m.\u001b[0m\u001b[0mpredict\u001b[0m\u001b[0;34m(\u001b[0m\u001b[0mreview_input\u001b[0m\u001b[0;34m)\u001b[0m\u001b[0;34m)\u001b[0m\u001b[0;34m)\u001b[0m\u001b[0;34m\u001b[0m\u001b[0;34m\u001b[0m\u001b[0m\n\u001b[0m\u001b[1;32m     30\u001b[0m \u001b[0;34m\u001b[0m\u001b[0m\n\u001b[1;32m     31\u001b[0m             \u001b[0;31m# Sending reviews to our endpoint one at a time takes a while so we\u001b[0m\u001b[0;34m\u001b[0m\u001b[0;34m\u001b[0m\u001b[0;34m\u001b[0m\u001b[0m\n",
      "\u001b[0;32m~/anaconda3/envs/pytorch_p36/lib/python3.6/site-packages/sagemaker/predictor.py\u001b[0m in \u001b[0;36mpredict\u001b[0;34m(self, data, initial_args, target_model, target_variant)\u001b[0m\n\u001b[1;32m    111\u001b[0m \u001b[0;34m\u001b[0m\u001b[0m\n\u001b[1;32m    112\u001b[0m         \u001b[0mrequest_args\u001b[0m \u001b[0;34m=\u001b[0m \u001b[0mself\u001b[0m\u001b[0;34m.\u001b[0m\u001b[0m_create_request_args\u001b[0m\u001b[0;34m(\u001b[0m\u001b[0mdata\u001b[0m\u001b[0;34m,\u001b[0m \u001b[0minitial_args\u001b[0m\u001b[0;34m,\u001b[0m \u001b[0mtarget_model\u001b[0m\u001b[0;34m,\u001b[0m \u001b[0mtarget_variant\u001b[0m\u001b[0;34m)\u001b[0m\u001b[0;34m\u001b[0m\u001b[0;34m\u001b[0m\u001b[0m\n\u001b[0;32m--> 113\u001b[0;31m         \u001b[0mresponse\u001b[0m \u001b[0;34m=\u001b[0m \u001b[0mself\u001b[0m\u001b[0;34m.\u001b[0m\u001b[0msagemaker_session\u001b[0m\u001b[0;34m.\u001b[0m\u001b[0msagemaker_runtime_client\u001b[0m\u001b[0;34m.\u001b[0m\u001b[0minvoke_endpoint\u001b[0m\u001b[0;34m(\u001b[0m\u001b[0;34m**\u001b[0m\u001b[0mrequest_args\u001b[0m\u001b[0;34m)\u001b[0m\u001b[0;34m\u001b[0m\u001b[0;34m\u001b[0m\u001b[0m\n\u001b[0m\u001b[1;32m    114\u001b[0m         \u001b[0;32mreturn\u001b[0m \u001b[0mself\u001b[0m\u001b[0;34m.\u001b[0m\u001b[0m_handle_response\u001b[0m\u001b[0;34m(\u001b[0m\u001b[0mresponse\u001b[0m\u001b[0;34m)\u001b[0m\u001b[0;34m\u001b[0m\u001b[0;34m\u001b[0m\u001b[0m\n\u001b[1;32m    115\u001b[0m \u001b[0;34m\u001b[0m\u001b[0m\n",
      "\u001b[0;32m~/anaconda3/envs/pytorch_p36/lib/python3.6/site-packages/botocore/client.py\u001b[0m in \u001b[0;36m_api_call\u001b[0;34m(self, *args, **kwargs)\u001b[0m\n\u001b[1;32m    355\u001b[0m                     \"%s() only accepts keyword arguments.\" % py_operation_name)\n\u001b[1;32m    356\u001b[0m             \u001b[0;31m# The \"self\" in this scope is referring to the BaseClient.\u001b[0m\u001b[0;34m\u001b[0m\u001b[0;34m\u001b[0m\u001b[0;34m\u001b[0m\u001b[0m\n\u001b[0;32m--> 357\u001b[0;31m             \u001b[0;32mreturn\u001b[0m \u001b[0mself\u001b[0m\u001b[0;34m.\u001b[0m\u001b[0m_make_api_call\u001b[0m\u001b[0;34m(\u001b[0m\u001b[0moperation_name\u001b[0m\u001b[0;34m,\u001b[0m \u001b[0mkwargs\u001b[0m\u001b[0;34m)\u001b[0m\u001b[0;34m\u001b[0m\u001b[0;34m\u001b[0m\u001b[0m\n\u001b[0m\u001b[1;32m    358\u001b[0m \u001b[0;34m\u001b[0m\u001b[0m\n\u001b[1;32m    359\u001b[0m         \u001b[0m_api_call\u001b[0m\u001b[0;34m.\u001b[0m\u001b[0m__name__\u001b[0m \u001b[0;34m=\u001b[0m \u001b[0mstr\u001b[0m\u001b[0;34m(\u001b[0m\u001b[0mpy_operation_name\u001b[0m\u001b[0;34m)\u001b[0m\u001b[0;34m\u001b[0m\u001b[0;34m\u001b[0m\u001b[0m\n",
      "\u001b[0;32m~/anaconda3/envs/pytorch_p36/lib/python3.6/site-packages/botocore/client.py\u001b[0m in \u001b[0;36m_make_api_call\u001b[0;34m(self, operation_name, api_params)\u001b[0m\n\u001b[1;32m    674\u001b[0m             \u001b[0merror_code\u001b[0m \u001b[0;34m=\u001b[0m \u001b[0mparsed_response\u001b[0m\u001b[0;34m.\u001b[0m\u001b[0mget\u001b[0m\u001b[0;34m(\u001b[0m\u001b[0;34m\"Error\"\u001b[0m\u001b[0;34m,\u001b[0m \u001b[0;34m{\u001b[0m\u001b[0;34m}\u001b[0m\u001b[0;34m)\u001b[0m\u001b[0;34m.\u001b[0m\u001b[0mget\u001b[0m\u001b[0;34m(\u001b[0m\u001b[0;34m\"Code\"\u001b[0m\u001b[0;34m)\u001b[0m\u001b[0;34m\u001b[0m\u001b[0;34m\u001b[0m\u001b[0m\n\u001b[1;32m    675\u001b[0m             \u001b[0merror_class\u001b[0m \u001b[0;34m=\u001b[0m \u001b[0mself\u001b[0m\u001b[0;34m.\u001b[0m\u001b[0mexceptions\u001b[0m\u001b[0;34m.\u001b[0m\u001b[0mfrom_code\u001b[0m\u001b[0;34m(\u001b[0m\u001b[0merror_code\u001b[0m\u001b[0;34m)\u001b[0m\u001b[0;34m\u001b[0m\u001b[0;34m\u001b[0m\u001b[0m\n\u001b[0;32m--> 676\u001b[0;31m             \u001b[0;32mraise\u001b[0m \u001b[0merror_class\u001b[0m\u001b[0;34m(\u001b[0m\u001b[0mparsed_response\u001b[0m\u001b[0;34m,\u001b[0m \u001b[0moperation_name\u001b[0m\u001b[0;34m)\u001b[0m\u001b[0;34m\u001b[0m\u001b[0;34m\u001b[0m\u001b[0m\n\u001b[0m\u001b[1;32m    677\u001b[0m         \u001b[0;32melse\u001b[0m\u001b[0;34m:\u001b[0m\u001b[0;34m\u001b[0m\u001b[0;34m\u001b[0m\u001b[0m\n\u001b[1;32m    678\u001b[0m             \u001b[0;32mreturn\u001b[0m \u001b[0mparsed_response\u001b[0m\u001b[0;34m\u001b[0m\u001b[0;34m\u001b[0m\u001b[0m\n",
      "\u001b[0;31mModelError\u001b[0m: An error occurred (ModelError) when calling the InvokeEndpoint operation: Received server error (500) from model with message \"<!DOCTYPE HTML PUBLIC \"-//W3C//DTD HTML 3.2 Final//EN\">\n<title>500 Internal Server Error</title>\n<h1>Internal Server Error</h1>\n<p>The server encountered an internal error and was unable to complete your request.  Either the server is overloaded or there is an error in the application.</p>\n\". See https://us-east-2.console.aws.amazon.com/cloudwatch/home?region=us-east-2#logEventViewer:group=/aws/sagemaker/Endpoints/sagemaker-pytorch-2021-03-13-08-45-25-375 in account 421096549402 for more information."
     ]
    }
   ],
   "source": [
    "ground, results = test_reviews()"
   ]
  },
  {
   "cell_type": "code",
   "execution_count": 238,
   "metadata": {},
   "outputs": [
    {
     "ename": "NameError",
     "evalue": "name 'ground' is not defined",
     "output_type": "error",
     "traceback": [
      "\u001b[0;31m---------------------------------------------------------------------------\u001b[0m",
      "\u001b[0;31mNameError\u001b[0m                                 Traceback (most recent call last)",
      "\u001b[0;32m<ipython-input-238-f3e6875633e1>\u001b[0m in \u001b[0;36m<module>\u001b[0;34m\u001b[0m\n\u001b[1;32m      1\u001b[0m \u001b[0;32mfrom\u001b[0m \u001b[0msklearn\u001b[0m\u001b[0;34m.\u001b[0m\u001b[0mmetrics\u001b[0m \u001b[0;32mimport\u001b[0m \u001b[0maccuracy_score\u001b[0m\u001b[0;34m\u001b[0m\u001b[0;34m\u001b[0m\u001b[0m\n\u001b[0;32m----> 2\u001b[0;31m \u001b[0maccuracy_score\u001b[0m\u001b[0;34m(\u001b[0m\u001b[0mground\u001b[0m\u001b[0;34m,\u001b[0m \u001b[0mresults\u001b[0m\u001b[0;34m)\u001b[0m\u001b[0;34m\u001b[0m\u001b[0;34m\u001b[0m\u001b[0m\n\u001b[0m",
      "\u001b[0;31mNameError\u001b[0m: name 'ground' is not defined"
     ]
    }
   ],
   "source": [
    "from sklearn.metrics import accuracy_score\n",
    "accuracy_score(ground, results)"
   ]
  },
  {
   "cell_type": "markdown",
   "metadata": {},
   "source": [
    "As an additional test, we can try sending the `test_review` that we looked at earlier."
   ]
  },
  {
   "cell_type": "code",
   "execution_count": null,
   "metadata": {},
   "outputs": [],
   "source": [
    "predictor.predict(test_review)"
   ]
  },
  {
   "cell_type": "markdown",
   "metadata": {},
   "source": [
    "Now that we know our endpoint is working as expected, we can set up the web page that will interact with it. If you don't have time to finish the project now, make sure to skip down to the end of this notebook and shut down your endpoint. You can deploy it again when you come back."
   ]
  },
  {
   "cell_type": "markdown",
   "metadata": {},
   "source": [
    "## Step 7 (again): Use the model for the web app\n",
    "\n",
    "> **TODO:** This entire section and the next contain tasks for you to complete, mostly using the AWS console.\n",
    "\n",
    "So far we have been accessing our model endpoint by constructing a predictor object which uses the endpoint and then just using the predictor object to perform inference. What if we wanted to create a web app which accessed our model? The way things are set up currently makes that not possible since in order to access a SageMaker endpoint the app would first have to authenticate with AWS using an IAM role which included access to SageMaker endpoints. However, there is an easier way! We just need to use some additional AWS services.\n",
    "\n",
    "<img src=\"Web App Diagram.svg\">\n",
    "\n",
    "The diagram above gives an overview of how the various services will work together. On the far right is the model which we trained above and which is deployed using SageMaker. On the far left is our web app that collects a user's movie review, sends it off and expects a positive or negative sentiment in return.\n",
    "\n",
    "In the middle is where some of the magic happens. We will construct a Lambda function, which you can think of as a straightforward Python function that can be executed whenever a specified event occurs. We will give this function permission to send and recieve data from a SageMaker endpoint.\n",
    "\n",
    "Lastly, the method we will use to execute the Lambda function is a new endpoint that we will create using API Gateway. This endpoint will be a url that listens for data to be sent to it. Once it gets some data it will pass that data on to the Lambda function and then return whatever the Lambda function returns. Essentially it will act as an interface that lets our web app communicate with the Lambda function.\n",
    "\n",
    "### Setting up a Lambda function\n",
    "\n",
    "The first thing we are going to do is set up a Lambda function. This Lambda function will be executed whenever our public API has data sent to it. When it is executed it will receive the data, perform any sort of processing that is required, send the data (the review) to the SageMaker endpoint we've created and then return the result.\n",
    "\n",
    "#### Part A: Create an IAM Role for the Lambda function\n",
    "\n",
    "Since we want the Lambda function to call a SageMaker endpoint, we need to make sure that it has permission to do so. To do this, we will construct a role that we can later give the Lambda function.\n",
    "\n",
    "Using the AWS Console, navigate to the **IAM** page and click on **Roles**. Then, click on **Create role**. Make sure that the **AWS service** is the type of trusted entity selected and choose **Lambda** as the service that will use this role, then click **Next: Permissions**.\n",
    "\n",
    "In the search box type `sagemaker` and select the check box next to the **AmazonSageMakerFullAccess** policy. Then, click on **Next: Review**.\n",
    "\n",
    "Lastly, give this role a name. Make sure you use a name that you will remember later on, for example `LambdaSageMakerRole`. Then, click on **Create role**.\n",
    "\n",
    "#### Part B: Create a Lambda function\n",
    "\n",
    "Now it is time to actually create the Lambda function.\n",
    "\n",
    "Using the AWS Console, navigate to the AWS Lambda page and click on **Create a function**. When you get to the next page, make sure that **Author from scratch** is selected. Now, name your Lambda function, using a name that you will remember later on, for example `sentiment_analysis_func`. Make sure that the **Python 3.6** runtime is selected and then choose the role that you created in the previous part. Then, click on **Create Function**.\n",
    "\n",
    "On the next page you will see some information about the Lambda function you've just created. If you scroll down you should see an editor in which you can write the code that will be executed when your Lambda function is triggered. In our example, we will use the code below. \n",
    "\n",
    "```python\n",
    "# We need to use the low-level library to interact with SageMaker since the SageMaker API\n",
    "# is not available natively through Lambda.\n",
    "import boto3\n",
    "\n",
    "def lambda_handler(event, context):\n",
    "\n",
    "    # The SageMaker runtime is what allows us to invoke the endpoint that we've created.\n",
    "    runtime = boto3.Session().client('sagemaker-runtime')\n",
    "\n",
    "    # Now we use the SageMaker runtime to invoke our endpoint, sending the review we were given\n",
    "    response = runtime.invoke_endpoint(EndpointName = '**ENDPOINT NAME HERE**',    # The name of the endpoint we created\n",
    "                                       ContentType = 'text/plain',                 # The data format that is expected\n",
    "                                       Body = event['body'])                       # The actual review\n",
    "\n",
    "    # The response is an HTTP response whose body contains the result of our inference\n",
    "    result = response['Body'].read().decode('utf-8')\n",
    "\n",
    "    return {\n",
    "        'statusCode' : 200,\n",
    "        'headers' : { 'Content-Type' : 'text/plain', 'Access-Control-Allow-Origin' : '*' },\n",
    "        'body' : result\n",
    "    }\n",
    "```\n",
    "\n",
    "Once you have copy and pasted the code above into the Lambda code editor, replace the `**ENDPOINT NAME HERE**` portion with the name of the endpoint that we deployed earlier. You can determine the name of the endpoint using the code cell below."
   ]
  },
  {
   "cell_type": "code",
   "execution_count": null,
   "metadata": {},
   "outputs": [],
   "source": [
    "predictor.endpoint"
   ]
  },
  {
   "cell_type": "markdown",
   "metadata": {},
   "source": [
    "Once you have added the endpoint name to the Lambda function, click on **Save**. Your Lambda function is now up and running. Next we need to create a way for our web app to execute the Lambda function.\n",
    "\n",
    "### Setting up API Gateway\n",
    "\n",
    "Now that our Lambda function is set up, it is time to create a new API using API Gateway that will trigger the Lambda function we have just created.\n",
    "\n",
    "Using AWS Console, navigate to **Amazon API Gateway** and then click on **Get started**.\n",
    "\n",
    "On the next page, make sure that **New API** is selected and give the new api a name, for example, `sentiment_analysis_api`. Then, click on **Create API**.\n",
    "\n",
    "Now we have created an API, however it doesn't currently do anything. What we want it to do is to trigger the Lambda function that we created earlier.\n",
    "\n",
    "Select the **Actions** dropdown menu and click **Create Method**. A new blank method will be created, select its dropdown menu and select **POST**, then click on the check mark beside it.\n",
    "\n",
    "For the integration point, make sure that **Lambda Function** is selected and click on the **Use Lambda Proxy integration**. This option makes sure that the data that is sent to the API is then sent directly to the Lambda function with no processing. It also means that the return value must be a proper response object as it will also not be processed by API Gateway.\n",
    "\n",
    "Type the name of the Lambda function you created earlier into the **Lambda Function** text entry box and then click on **Save**. Click on **OK** in the pop-up box that then appears, giving permission to API Gateway to invoke the Lambda function you created.\n",
    "\n",
    "The last step in creating the API Gateway is to select the **Actions** dropdown and click on **Deploy API**. You will need to create a new Deployment stage and name it anything you like, for example `prod`.\n",
    "\n",
    "You have now successfully set up a public API to access your SageMaker model. Make sure to copy or write down the URL provided to invoke your newly created public API as this will be needed in the next step. This URL can be found at the top of the page, highlighted in blue next to the text **Invoke URL**."
   ]
  },
  {
   "cell_type": "markdown",
   "metadata": {},
   "source": [
    "## Step 4: Deploying our web app\n",
    "\n",
    "Now that we have a publicly available API, we can start using it in a web app. For our purposes, we have provided a simple static html file which can make use of the public api you created earlier.\n",
    "\n",
    "In the `website` folder there should be a file called `index.html`. Download the file to your computer and open that file up in a text editor of your choice. There should be a line which contains **\\*\\*REPLACE WITH PUBLIC API URL\\*\\***. Replace this string with the url that you wrote down in the last step and then save the file.\n",
    "\n",
    "Now, if you open `index.html` on your local computer, your browser will behave as a local web server and you can use the provided site to interact with your SageMaker model.\n",
    "\n",
    "If you'd like to go further, you can host this html file anywhere you'd like, for example using github or hosting a static site on Amazon's S3. Once you have done this you can share the link with anyone you'd like and have them play with it too!\n",
    "\n",
    "> **Important Note** In order for the web app to communicate with the SageMaker endpoint, the endpoint has to actually be deployed and running. This means that you are paying for it. Make sure that the endpoint is running when you want to use the web app but that you shut it down when you don't need it, otherwise you will end up with a surprisingly large AWS bill.\n",
    "\n",
    "**TODO:** Make sure that you include the edited `index.html` file in your project submission."
   ]
  },
  {
   "cell_type": "markdown",
   "metadata": {},
   "source": [
    "Now that your web app is working, trying playing around with it and see how well it works.\n",
    "\n",
    "**Question**: Give an example of a review that you entered into your web app. What was the predicted sentiment of your example review?"
   ]
  },
  {
   "cell_type": "markdown",
   "metadata": {},
   "source": [
    "**Answer:**"
   ]
  },
  {
   "cell_type": "markdown",
   "metadata": {},
   "source": [
    "### Delete the endpoint\n",
    "\n",
    "Remember to always shut down your endpoint if you are no longer using it. You are charged for the length of time that the endpoint is running so if you forget and leave it on you could end up with an unexpectedly large bill."
   ]
  },
  {
   "cell_type": "code",
   "execution_count": null,
   "metadata": {},
   "outputs": [],
   "source": [
    "predictor.delete_endpoint()"
   ]
  },
  {
   "cell_type": "code",
   "execution_count": null,
   "metadata": {},
   "outputs": [],
   "source": []
  }
 ],
 "metadata": {
  "kernelspec": {
   "display_name": "conda_pytorch_p36",
   "language": "python",
   "name": "conda_pytorch_p36"
  }
 },
 "nbformat": 4,
 "nbformat_minor": 2
}
